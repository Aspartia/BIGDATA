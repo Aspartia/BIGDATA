{
  "cells": [
    {
      "cell_type": "markdown",
      "metadata": {
        "id": "view-in-github",
        "colab_type": "text"
      },
      "source": [
        "<a href=\"https://colab.research.google.com/github/Aspartia/BIGDATA/blob/main/2_gyakorlat_2024.ipynb\" target=\"_parent\"><img src=\"https://colab.research.google.com/assets/colab-badge.svg\" alt=\"Open In Colab\"/></a>"
      ]
    },
    {
      "cell_type": "markdown",
      "metadata": {
        "id": "FSPNpQjz9zQP"
      },
      "source": [
        "# Big Data algoritmusok és programozás - Python\n",
        "\n",
        "# 2. gyakorlat\n",
        "\n",
        "## NumPy\n",
        "\n",
        "___\n",
        "NumPy (numpy) - a Python lineáris algebra könyvtára. Azért fontos data science területén, mert szinte minden könyvtára használja a NumPy fő elemeit.\n",
        "\n",
        "Dokumentáció: [NumPy Manual](https://numpy.org/doc/stable/)\n",
        "\n",
        "A Numpy nagyon gyors, mivel C könyvtárakhoz kapcsolódik.\n",
        "\n",
        "A gyakorlaton: a NumPy alapok megtanulása.\n"
      ]
    },
    {
      "cell_type": "markdown",
      "metadata": {
        "id": "Tycc8srt9zQT"
      },
      "source": [
        "_____\n",
        "### Installálás (amennyiben szükéges)\n",
        "\n",
        "Anaconda környezetben, NumPy installálása terminál ablakban:\n",
        "    \n",
        "    conda install numpy\n",
        "    \n",
        "vagy nem Anaconda környezetben:\n",
        "\n",
        "    pip install numpy\n",
        "    \n",
        "Bővebben a telepítésről: [Numpy hivatalos dokumentációja a telepítésről.](https://numpy.org/install/)"
      ]
    },
    {
      "cell_type": "markdown",
      "metadata": {
        "id": "tk_FQjQ59zQU"
      },
      "source": [
        "___\n",
        "## NumPy használata\n",
        "\n",
        "Telepítés után a könyvtár importálása:"
      ]
    },
    {
      "cell_type": "code",
      "execution_count": null,
      "metadata": {
        "id": "MQEIn-bK9zQU"
      },
      "outputs": [],
      "source": [
        "import numpy as np"
      ]
    },
    {
      "cell_type": "markdown",
      "metadata": {
        "id": "Z14mMTuQ9zQV"
      },
      "source": [
        "_____\n",
        "# Numpy tömbök (Numpy Arrays)\n",
        "\n",
        "A NumPy tömbök többfélék lehetnek: vektorok (1-D tömb), mátrixok (2-D tömb) és 3 vagy többdimenziós tömbök.\n",
        "\n",
        "Az 1-D tömbök esetén nincs különbség a sorvektor és az oszlopvektor között.\n",
        "\n",
        "## NumPy tömbök létrehozása\n",
        "\n",
        "### Python listából\n",
        "\n",
        "Tömbök készítése közvetlenül listák vagy listákból álló listák átalakításával:"
      ]
    },
    {
      "cell_type": "code",
      "execution_count": null,
      "metadata": {
        "colab": {
          "base_uri": "https://localhost:8080/"
        },
        "id": "6LoFcehP9zQW",
        "outputId": "2cb92325-b3d5-44f4-e962-767686ef5636"
      },
      "outputs": [
        {
          "output_type": "execute_result",
          "data": {
            "text/plain": [
              "[1, 2, 3]"
            ]
          },
          "metadata": {},
          "execution_count": 5
        }
      ],
      "source": [
        "lista = [1,2,3]\n",
        "lista"
      ]
    },
    {
      "cell_type": "code",
      "execution_count": null,
      "metadata": {
        "colab": {
          "base_uri": "https://localhost:8080/"
        },
        "id": "rhR3FAms9zQW",
        "outputId": "8d689bdb-7fb7-4f2e-ac96-e1a3c75d934f"
      },
      "outputs": [
        {
          "output_type": "execute_result",
          "data": {
            "text/plain": [
              "array([1, 2, 3])"
            ]
          },
          "metadata": {},
          "execution_count": 6
        }
      ],
      "source": [
        "# np.array()\n",
        "np.array(lista)"
      ]
    },
    {
      "cell_type": "code",
      "execution_count": null,
      "metadata": {
        "colab": {
          "base_uri": "https://localhost:8080/"
        },
        "id": "5yBryJOM9zQX",
        "outputId": "914181b7-7eab-49d7-f881-6608c25136aa"
      },
      "outputs": [
        {
          "output_type": "stream",
          "name": "stdout",
          "text": [
            "[1, 2, 3]\n",
            "[1 2 3]\n"
          ]
        }
      ],
      "source": [
        "print(lista)\n",
        "print(np.array(lista))"
      ]
    },
    {
      "cell_type": "code",
      "execution_count": null,
      "metadata": {
        "colab": {
          "base_uri": "https://localhost:8080/"
        },
        "id": "tZURlYcF9zQY",
        "outputId": "f3862eaa-6e4d-4c60-a7d2-618c69832615"
      },
      "outputs": [
        {
          "output_type": "execute_result",
          "data": {
            "text/plain": [
              "[[1, 2, 3], [4, 5, 6], [7, 8, 9]]"
            ]
          },
          "metadata": {},
          "execution_count": 8
        }
      ],
      "source": [
        "lista_lista = [[1,2,3],[4,5,6],[7,8,9]]\n",
        "lista_lista"
      ]
    },
    {
      "cell_type": "code",
      "execution_count": null,
      "metadata": {
        "colab": {
          "base_uri": "https://localhost:8080/"
        },
        "id": "hjixpXvE9zQZ",
        "outputId": "d32d616b-ed20-43ef-86e7-a0849c28b894"
      },
      "outputs": [
        {
          "output_type": "execute_result",
          "data": {
            "text/plain": [
              "array([[1, 2, 3],\n",
              "       [4, 5, 6],\n",
              "       [7, 8, 9]])"
            ]
          },
          "metadata": {},
          "execution_count": 9
        }
      ],
      "source": [
        "np.array(lista_lista)"
      ]
    },
    {
      "cell_type": "code",
      "execution_count": null,
      "metadata": {
        "colab": {
          "base_uri": "https://localhost:8080/"
        },
        "id": "FQXMqPJy9zQZ",
        "outputId": "6f7f1b1d-c8a9-4705-a988-59cb455cc13f"
      },
      "outputs": [
        {
          "output_type": "execute_result",
          "data": {
            "text/plain": [
              "matrix([[1, 2, 3],\n",
              "        [4, 5, 6],\n",
              "        [7, 8, 9]])"
            ]
          },
          "metadata": {},
          "execution_count": 10
        }
      ],
      "source": [
        "# np.mat()\n",
        "mátrix = np.mat('1 2 3; 4 5 6; 7 8 9')\n",
        "mátrix"
      ]
    },
    {
      "cell_type": "code",
      "execution_count": null,
      "metadata": {
        "id": "7MDnBUHh9zQa"
      },
      "outputs": [],
      "source": [
        "sokszínű_lista = [1, 'a', 1.1, \"xyzaaaaaaaaaaaaaaa\"]"
      ]
    },
    {
      "cell_type": "code",
      "execution_count": null,
      "metadata": {
        "id": "ov4es8Ff9zQb"
      },
      "outputs": [],
      "source": [
        "# A tömb elemei azonos típusúak (array dtype).\n",
        "sokszínű = np.array(sokszínű_lista)\n",
        "sokszínű = np.array(sokszínű_lista, dtype= list)"
      ]
    },
    {
      "cell_type": "markdown",
      "metadata": {
        "id": "B3H5-Llv9zQb"
      },
      "source": [
        "## Beépített módszerek numpy tömbök létrehozására\n",
        "\n",
        "Sokféleképpen generálhatunk tömböt."
      ]
    },
    {
      "cell_type": "markdown",
      "metadata": {
        "id": "6htUSrkm9zQc"
      },
      "source": [
        "### arange\n",
        "\n",
        "Egyenletesen elosztott értékek megadása egy adott intervallumon belül."
      ]
    },
    {
      "cell_type": "code",
      "execution_count": null,
      "metadata": {
        "colab": {
          "base_uri": "https://localhost:8080/"
        },
        "id": "r570UPB39zQc",
        "outputId": "4ff0a060-17a0-4c02-e5d8-dea9ed66e642"
      },
      "outputs": [
        {
          "output_type": "execute_result",
          "data": {
            "text/plain": [
              "array([0, 1, 2, 3, 4, 5, 6, 7, 8, 9])"
            ]
          },
          "metadata": {},
          "execution_count": 14
        }
      ],
      "source": [
        "np.arange(10)"
      ]
    },
    {
      "cell_type": "code",
      "execution_count": null,
      "metadata": {
        "colab": {
          "base_uri": "https://localhost:8080/"
        },
        "id": "aeC2-8Qz9zQc",
        "outputId": "b155b860-e98c-4ea6-8497-07ae95b97c18"
      },
      "outputs": [
        {
          "output_type": "execute_result",
          "data": {
            "text/plain": [
              "array([ 2,  4,  6,  8, 10])"
            ]
          },
          "metadata": {},
          "execution_count": 16
        }
      ],
      "source": [
        "# tömb létrehozása 2 és 10 között minden 2. elemmel\n",
        "np.arange(2,12,2)"
      ]
    },
    {
      "cell_type": "markdown",
      "metadata": {
        "id": "qR-w238S9zQd"
      },
      "source": [
        "### zeros, ones\n",
        "\n",
        "Tömbök generálása 0 - `np.zeros()` vagy 1 - `np.ones()` elemekkel."
      ]
    },
    {
      "cell_type": "code",
      "execution_count": null,
      "metadata": {
        "id": "kRTcOo5V9zQd"
      },
      "outputs": [],
      "source": [
        "np.zeros(3)"
      ]
    },
    {
      "cell_type": "code",
      "execution_count": null,
      "metadata": {
        "id": "1Cr4iIO89zQd"
      },
      "outputs": [],
      "source": [
        "np.zeros((5,5))"
      ]
    },
    {
      "cell_type": "code",
      "execution_count": null,
      "metadata": {
        "colab": {
          "base_uri": "https://localhost:8080/"
        },
        "id": "xmrHkyUf9zQe",
        "outputId": "fe77fff1-cba8-423b-bf97-4f4065745ae3"
      },
      "outputs": [
        {
          "output_type": "execute_result",
          "data": {
            "text/plain": [
              "array([1, 1, 1, 1, 1])"
            ]
          },
          "metadata": {},
          "execution_count": 17
        }
      ],
      "source": [
        "# tömb elemei legyenek egész számok\n",
        "np.ones(5, dtype= int)"
      ]
    },
    {
      "cell_type": "code",
      "execution_count": null,
      "metadata": {
        "id": "Cg7AKb2s9zQf"
      },
      "outputs": [],
      "source": [
        "np.ones(3)"
      ]
    },
    {
      "cell_type": "code",
      "execution_count": null,
      "metadata": {
        "id": "26XDA4389zQf"
      },
      "outputs": [],
      "source": [
        "np.ones((3,3))"
      ]
    },
    {
      "cell_type": "code",
      "execution_count": null,
      "metadata": {
        "colab": {
          "base_uri": "https://localhost:8080/"
        },
        "id": "EC2Eap6-9zQf",
        "outputId": "199960de-3dfe-4f42-b207-408e165d4625"
      },
      "outputs": [
        {
          "output_type": "execute_result",
          "data": {
            "text/plain": [
              "array([[[1, 1, 1, 1],\n",
              "        [1, 1, 1, 1],\n",
              "        [1, 1, 1, 1]],\n",
              "\n",
              "       [[1, 1, 1, 1],\n",
              "        [1, 1, 1, 1],\n",
              "        [1, 1, 1, 1]]])"
            ]
          },
          "metadata": {},
          "execution_count": 19
        }
      ],
      "source": [
        "# tömb legyen (2,3,4) dimenziós és elemei egész számok\n",
        "np.ones((2,3,4), dtype=int)"
      ]
    },
    {
      "cell_type": "markdown",
      "metadata": {
        "id": "QznZn2-t9zQf"
      },
      "source": [
        "# empty\n",
        "\n",
        "Üres tömb létrehozása. Az `empty` függvény létrehoz egy tömböt, amelynek kezdeti tartalma véletlenszerű, a memória állapotától függ. Az `empty` használatának (`zeros` helyett) jelentősége a sebesség - később nem szabad elfeledkezni az összes konkrét elem feltöltéséről!"
      ]
    },
    {
      "cell_type": "code",
      "execution_count": null,
      "metadata": {
        "colab": {
          "base_uri": "https://localhost:8080/"
        },
        "id": "Ajxlqf-s9zQg",
        "outputId": "ebbc96e5-6ef4-4b5b-f970-708c69411f3e"
      },
      "outputs": [
        {
          "output_type": "execute_result",
          "data": {
            "text/plain": [
              "array([[0., 0.],\n",
              "       [0., 0.]])"
            ]
          },
          "metadata": {},
          "execution_count": 26
        }
      ],
      "source": [
        "üres = np.empty((2,2))\n",
        "üres"
      ]
    },
    {
      "cell_type": "markdown",
      "metadata": {
        "id": "Kwslh1gP9zQg"
      },
      "source": [
        "Kódrészletek végrehajtási idejének mérése: `timeit`\n",
        "https://docs.python.org/3/library/timeit.html"
      ]
    },
    {
      "cell_type": "code",
      "execution_count": null,
      "metadata": {
        "colab": {
          "base_uri": "https://localhost:8080/"
        },
        "id": "1OnpiLJl9zQg",
        "outputId": "8899b515-5eb4-4263-e1aa-aecdfd887c76"
      },
      "outputs": [
        {
          "output_type": "stream",
          "name": "stdout",
          "text": [
            "zeros:  2.1892935609999995\n",
            "empty:  0.3625402629999144\n"
          ]
        }
      ],
      "source": [
        "import timeit\n",
        "print(\"zeros: \",timeit.timeit(\"numpy.zeros((100,100))\",setup=\"import numpy\"))\n",
        "print(\"empty: \",timeit.timeit(\"numpy.empty((100,100))\",setup=\"import numpy\"))"
      ]
    },
    {
      "cell_type": "markdown",
      "metadata": {
        "id": "gTXRbNwt9zQg"
      },
      "source": [
        "### linspace\n",
        "\n",
        "Egyenletesen elosztott számok megadása egy meghatározott intervallumon belül."
      ]
    },
    {
      "cell_type": "code",
      "execution_count": null,
      "metadata": {
        "colab": {
          "base_uri": "https://localhost:8080/"
        },
        "id": "GzrmFPLO9zQg",
        "outputId": "661f5345-df67-4911-9bc7-c6db5de12997"
      },
      "outputs": [
        {
          "output_type": "execute_result",
          "data": {
            "text/plain": [
              "array([ 0.,  5., 10.])"
            ]
          },
          "metadata": {},
          "execution_count": 33
        }
      ],
      "source": [
        "np.linspace(0,10,3)"
      ]
    },
    {
      "cell_type": "code",
      "execution_count": null,
      "metadata": {
        "colab": {
          "base_uri": "https://localhost:8080/"
        },
        "id": "DVUWeha69zQh",
        "outputId": "e54cc154-76ae-4228-c092-92b2e43c62ef"
      },
      "outputs": [
        {
          "output_type": "execute_result",
          "data": {
            "text/plain": [
              "array([ 0.        ,  0.20408163,  0.40816327,  0.6122449 ,  0.81632653,\n",
              "        1.02040816,  1.2244898 ,  1.42857143,  1.63265306,  1.83673469,\n",
              "        2.04081633,  2.24489796,  2.44897959,  2.65306122,  2.85714286,\n",
              "        3.06122449,  3.26530612,  3.46938776,  3.67346939,  3.87755102,\n",
              "        4.08163265,  4.28571429,  4.48979592,  4.69387755,  4.89795918,\n",
              "        5.10204082,  5.30612245,  5.51020408,  5.71428571,  5.91836735,\n",
              "        6.12244898,  6.32653061,  6.53061224,  6.73469388,  6.93877551,\n",
              "        7.14285714,  7.34693878,  7.55102041,  7.75510204,  7.95918367,\n",
              "        8.16326531,  8.36734694,  8.57142857,  8.7755102 ,  8.97959184,\n",
              "        9.18367347,  9.3877551 ,  9.59183673,  9.79591837, 10.        ])"
            ]
          },
          "metadata": {},
          "execution_count": 34
        }
      ],
      "source": [
        "np.linspace(0,10)"
      ]
    },
    {
      "cell_type": "code",
      "execution_count": null,
      "metadata": {
        "colab": {
          "base_uri": "https://localhost:8080/"
        },
        "id": "ckAEqyY-9zQh",
        "outputId": "d99ab816-e807-4633-c5f7-75ce69005faa"
      },
      "outputs": [
        {
          "output_type": "execute_result",
          "data": {
            "text/plain": [
              "array([ 10,  20,  30,  40,  50,  60,  70,  80,  90, 100])"
            ]
          },
          "metadata": {},
          "execution_count": 35
        }
      ],
      "source": [
        "# 10 és 100 között 10 szám kiírása, egész számokkal\n",
        "np.linspace(10,100,10, dtype= int)"
      ]
    },
    {
      "cell_type": "markdown",
      "metadata": {
        "id": "FjpyUjag9zQh"
      },
      "source": [
        "### eye\n",
        "\n",
        "Egységmátrix készítése."
      ]
    },
    {
      "cell_type": "code",
      "execution_count": null,
      "metadata": {
        "colab": {
          "base_uri": "https://localhost:8080/"
        },
        "id": "ue2YaYVH9zQh",
        "outputId": "8e8a3162-86b5-4c35-8e4f-1ea547688381"
      },
      "outputs": [
        {
          "output_type": "execute_result",
          "data": {
            "text/plain": [
              "array([[1., 0., 0., 0.],\n",
              "       [0., 1., 0., 0.],\n",
              "       [0., 0., 1., 0.],\n",
              "       [0., 0., 0., 1.]])"
            ]
          },
          "metadata": {},
          "execution_count": 29
        }
      ],
      "source": [
        "np.eye(4)"
      ]
    },
    {
      "cell_type": "markdown",
      "metadata": {
        "id": "J2hQBHce9zQh"
      },
      "source": [
        "Készítsük el a következő mátrixot az `eye` függvény segítségével:\n",
        "```python\n",
        "array([[0, 0, 0, 0],\n",
        "       [1, 0, 0, 0],\n",
        "       [0, 1, 0, 0],\n",
        "       [0, 0, 1, 0]])\n",
        "```"
      ]
    },
    {
      "cell_type": "code",
      "execution_count": null,
      "metadata": {
        "colab": {
          "base_uri": "https://localhost:8080/"
        },
        "id": "m05tbobc9zQh",
        "outputId": "82f9943e-35ad-4ddf-be92-885113bb555c"
      },
      "outputs": [
        {
          "output_type": "execute_result",
          "data": {
            "text/plain": [
              "array([[0., 0., 0., 0.],\n",
              "       [1., 0., 0., 0.],\n",
              "       [0., 1., 0., 0.],\n",
              "       [0., 0., 1., 0.]])"
            ]
          },
          "metadata": {},
          "execution_count": 30
        }
      ],
      "source": [
        "np.eye(4, k=-1)"
      ]
    },
    {
      "cell_type": "markdown",
      "metadata": {
        "id": "m4KMXNBx9zQh"
      },
      "source": [
        "_____\n",
        "## Véletlen számokból álló tömbök\n",
        "\n",
        "A Numpy-ban sokféle lehetőség van véletlen tömbök készítésére:\n",
        "\n",
        "### rand\n",
        "Létrehoz egy megadott méretű tömböt és ``[0, 1)`` feletti egyenletes eloszlás szerinti véletlen értékekkel feltölti."
      ]
    },
    {
      "cell_type": "code",
      "execution_count": null,
      "metadata": {
        "colab": {
          "base_uri": "https://localhost:8080/"
        },
        "id": "QZGikemd9zQh",
        "outputId": "5a66c6f4-ff22-447e-ceaa-f2e292a78022"
      },
      "outputs": [
        {
          "output_type": "execute_result",
          "data": {
            "text/plain": [
              "array([0.44195644, 0.49326749])"
            ]
          },
          "metadata": {},
          "execution_count": 31
        }
      ],
      "source": [
        "np.random.rand(2)"
      ]
    },
    {
      "cell_type": "code",
      "execution_count": null,
      "metadata": {
        "colab": {
          "base_uri": "https://localhost:8080/"
        },
        "id": "kL2BRqK69zQi",
        "outputId": "b97abee0-0e44-402c-e94d-260a67bdbfc7"
      },
      "outputs": [
        {
          "output_type": "execute_result",
          "data": {
            "text/plain": [
              "array([[0.91325966, 0.98397589, 0.45765229, 0.80529342, 0.66800397],\n",
              "       [0.57251041, 0.96906375, 0.28375229, 0.63396018, 0.04220787],\n",
              "       [0.85019102, 0.65441827, 0.16502835, 0.25392278, 0.80368522],\n",
              "       [0.01265935, 0.01802143, 0.24853   , 0.88334102, 0.55906718],\n",
              "       [0.04605406, 0.35480185, 0.38803405, 0.58278508, 0.38511465]])"
            ]
          },
          "metadata": {},
          "execution_count": 32
        }
      ],
      "source": [
        "np.random.rand(5,5)"
      ]
    },
    {
      "cell_type": "markdown",
      "metadata": {
        "id": "QbrxM4Oi9zQi"
      },
      "source": [
        "### randn\n",
        "\n",
        "Standard normál eloszlás szerinti értékekkel tölti fel a tömböt."
      ]
    },
    {
      "cell_type": "code",
      "execution_count": null,
      "metadata": {
        "colab": {
          "base_uri": "https://localhost:8080/"
        },
        "id": "rqy2hTqw9zQi",
        "outputId": "f61640b9-6b40-475b-9fe4-34d0b541ad85"
      },
      "outputs": [
        {
          "output_type": "execute_result",
          "data": {
            "text/plain": [
              "array([-0.61578274,  1.25988392])"
            ]
          },
          "metadata": {},
          "execution_count": 36
        }
      ],
      "source": [
        "np.random.randn(2)"
      ]
    },
    {
      "cell_type": "code",
      "execution_count": null,
      "metadata": {
        "colab": {
          "base_uri": "https://localhost:8080/"
        },
        "id": "-UsUA25Y9zQi",
        "outputId": "569e5d7a-174f-4be9-a903-3e30d14a54fd"
      },
      "outputs": [
        {
          "output_type": "execute_result",
          "data": {
            "text/plain": [
              "array([[-0.75247618,  0.12512146, -0.34004123,  0.42410421, -0.87251226],\n",
              "       [ 1.7633347 , -1.60776312, -1.8286811 ,  1.25538849, -1.28969584],\n",
              "       [-1.10945225, -0.13719834, -0.65834413,  1.0203098 ,  0.95513824],\n",
              "       [ 0.78627198,  0.31335624, -1.02209085, -0.92542093,  0.94455806],\n",
              "       [-0.72418488,  1.83395237,  0.17234519, -0.30115835, -0.28111148]])"
            ]
          },
          "metadata": {},
          "execution_count": 37
        }
      ],
      "source": [
        "np.random.randn(5,5)"
      ]
    },
    {
      "cell_type": "markdown",
      "metadata": {
        "id": "8xmB3zPk9zQi"
      },
      "source": [
        "### randint\n",
        "Véletlen egész értékekkel tér vissza `low` (inclusive) és `high` (exclusive) intervallumból."
      ]
    },
    {
      "cell_type": "code",
      "execution_count": null,
      "metadata": {
        "colab": {
          "base_uri": "https://localhost:8080/"
        },
        "id": "589wg3Ce9zQj",
        "outputId": "bea43e48-1e62-4f09-979a-11106352c975"
      },
      "outputs": [
        {
          "output_type": "execute_result",
          "data": {
            "text/plain": [
              "20"
            ]
          },
          "metadata": {},
          "execution_count": 38
        }
      ],
      "source": [
        "np.random.randint(1,100)"
      ]
    },
    {
      "cell_type": "code",
      "execution_count": null,
      "metadata": {
        "colab": {
          "base_uri": "https://localhost:8080/"
        },
        "id": "3UK-UCNT9zQj",
        "outputId": "e26b15d4-bb89-44ca-8f9d-9d05940a7e9a"
      },
      "outputs": [
        {
          "output_type": "execute_result",
          "data": {
            "text/plain": [
              "array([43, 41,  5, 72, 52, 75,  8,  9, 78, 35])"
            ]
          },
          "metadata": {},
          "execution_count": 39
        }
      ],
      "source": [
        "np.random.randint(1,100,10)"
      ]
    },
    {
      "cell_type": "code",
      "execution_count": null,
      "metadata": {
        "colab": {
          "base_uri": "https://localhost:8080/"
        },
        "id": "HY0BTo3C9zQj",
        "outputId": "18defa42-4e0d-41d5-d6b5-475862f82604"
      },
      "outputs": [
        {
          "output_type": "execute_result",
          "data": {
            "text/plain": [
              "array([[72, 34, 66, 42, 46, 34, 74, 28, 99, 15],\n",
              "       [16, 53, 18, 11, 32, 60, 60, 25, 50, 83],\n",
              "       [67, 12, 68, 39, 56, 54, 14, 26, 22, 88],\n",
              "       [73, 79, 29, 41, 89, 93, 35, 21, 30,  8],\n",
              "       [13, 94, 19, 97, 67, 15, 21, 33, 85, 94],\n",
              "       [17, 25, 78, 30, 83, 73, 35, 53, 41, 58],\n",
              "       [90, 87, 38, 32, 86,  1,  3, 68, 90, 64],\n",
              "       [39, 50, 23, 59, 30, 57, 42, 80, 46, 76],\n",
              "       [13, 79, 27, 54, 38, 36, 11,  3, 25, 23],\n",
              "       [42, 48, 45, 37, 99,  9, 48,  5, 96, 16]])"
            ]
          },
          "metadata": {},
          "execution_count": 40
        }
      ],
      "source": [
        "np.random.randint(1,100,(10,10))"
      ]
    },
    {
      "cell_type": "markdown",
      "metadata": {
        "id": "EprqgOcO9zQj"
      },
      "source": [
        "_____\n",
        "## Tömb elemeinek rendezése, hozzáadása, törlése\n",
        "\n",
        "### sort"
      ]
    },
    {
      "cell_type": "code",
      "execution_count": null,
      "metadata": {
        "colab": {
          "base_uri": "https://localhost:8080/"
        },
        "id": "EXtC2i8e9zQj",
        "outputId": "8b6ccbba-9a82-4bfc-a71a-a5bce2f175ca"
      },
      "outputs": [
        {
          "output_type": "execute_result",
          "data": {
            "text/plain": [
              "array([83, 92,  6, 35, 55, 57, 24, 12, 78, 44])"
            ]
          },
          "metadata": {},
          "execution_count": 41
        }
      ],
      "source": [
        "rendezetlen = np.random.randint(1,100,10)\n",
        "rendezetlen"
      ]
    },
    {
      "cell_type": "code",
      "execution_count": null,
      "metadata": {
        "colab": {
          "base_uri": "https://localhost:8080/"
        },
        "id": "MpgZ-vyH9zQk",
        "outputId": "11b77589-d13f-45c3-c15a-88bd33f5fd84"
      },
      "outputs": [
        {
          "output_type": "execute_result",
          "data": {
            "text/plain": [
              "array([ 6, 12, 24, 35, 44, 55, 57, 78, 83, 92])"
            ]
          },
          "metadata": {},
          "execution_count": 42
        }
      ],
      "source": [
        "rendezett = np.sort(rendezetlen)\n",
        "rendezett"
      ]
    },
    {
      "cell_type": "markdown",
      "metadata": {
        "id": "kpRPywqY9zQk"
      },
      "source": [
        "### concatenate"
      ]
    },
    {
      "cell_type": "code",
      "execution_count": null,
      "metadata": {
        "colab": {
          "base_uri": "https://localhost:8080/"
        },
        "id": "YOLyG6o29zQk",
        "outputId": "fd494251-662b-4aaa-8059-59dd4e6eebc5"
      },
      "outputs": [
        {
          "output_type": "execute_result",
          "data": {
            "text/plain": [
              "array([1, 2, 3, 4, 5])"
            ]
          },
          "metadata": {},
          "execution_count": 43
        }
      ],
      "source": [
        "np.concatenate(([1,2],[3,4,5]))"
      ]
    },
    {
      "cell_type": "code",
      "execution_count": null,
      "metadata": {
        "colab": {
          "base_uri": "https://localhost:8080/"
        },
        "id": "6FYz6x7t9zQk",
        "outputId": "9e44b2a8-69bb-4e67-ef2b-fdd26b06dcc4"
      },
      "outputs": [
        {
          "output_type": "stream",
          "name": "stdout",
          "text": [
            "[[ 5 10]\n",
            " [15 20]] \n",
            "\n",
            "[[25 30]]\n"
          ]
        }
      ],
      "source": [
        "a = np.array([[5, 10],[15, 20]])\n",
        "b = np.array([[25, 30]])\n",
        "print(a,'\\n')\n",
        "print(b)"
      ]
    },
    {
      "cell_type": "code",
      "execution_count": null,
      "metadata": {
        "colab": {
          "base_uri": "https://localhost:8080/"
        },
        "id": "e8h3S7OP9zQk",
        "outputId": "8c739f53-085a-42fc-dc2b-9b125069107a"
      },
      "outputs": [
        {
          "output_type": "execute_result",
          "data": {
            "text/plain": [
              "array([[ 5, 10],\n",
              "       [15, 20],\n",
              "       [25, 30]])"
            ]
          },
          "metadata": {},
          "execution_count": 46
        }
      ],
      "source": [
        "np.concatenate((a,b))"
      ]
    },
    {
      "cell_type": "markdown",
      "metadata": {
        "id": "Pk2bijLI9zQl"
      },
      "source": [
        "Fűzzük össze az `a` és `b` tömböket, hogy az eredmény\n",
        "```python\n",
        "array([[ 5, 10, 25],\n",
        "       [15, 20, 30]])\n",
        "```\n",
        "legyen!"
      ]
    },
    {
      "cell_type": "code",
      "execution_count": null,
      "metadata": {
        "colab": {
          "base_uri": "https://localhost:8080/"
        },
        "id": "5GE-GVUk9zQl",
        "outputId": "8a59b96d-8328-4701-bd60-2e1bfda60c8d"
      },
      "outputs": [
        {
          "output_type": "execute_result",
          "data": {
            "text/plain": [
              "array([[ 5, 10, 25],\n",
              "       [15, 20, 30]])"
            ]
          },
          "metadata": {},
          "execution_count": 53
        }
      ],
      "source": [
        "np.concatenate((a,b.T), axis =1)"
      ]
    },
    {
      "cell_type": "code",
      "execution_count": null,
      "metadata": {
        "colab": {
          "base_uri": "https://localhost:8080/"
        },
        "id": "v5DtPYe89zQl",
        "outputId": "1db98bab-7f30-4412-be56-57695ba908f8"
      },
      "outputs": [
        {
          "output_type": "execute_result",
          "data": {
            "text/plain": [
              "array([[ 5, 10],\n",
              "       [15, 20],\n",
              "       [25, 30]])"
            ]
          },
          "metadata": {},
          "execution_count": 54
        }
      ],
      "source": [
        "np.concatenate((a,b), axis=0)"
      ]
    },
    {
      "cell_type": "code",
      "execution_count": null,
      "metadata": {
        "colab": {
          "base_uri": "https://localhost:8080/"
        },
        "id": "AvJBnPRC9zQl",
        "outputId": "2942889e-0aaf-4541-82e9-a4fcd9c0ded8"
      },
      "outputs": [
        {
          "output_type": "execute_result",
          "data": {
            "text/plain": [
              "array([ 5, 10, 15, 20, 25, 30])"
            ]
          },
          "metadata": {},
          "execution_count": 55
        }
      ],
      "source": [
        "np.concatenate((a,b),axis=None)"
      ]
    },
    {
      "cell_type": "markdown",
      "metadata": {
        "id": "4vQg58-o9zQl"
      },
      "source": [
        "### insert\n",
        "Értékek elhelyezése az adott tengely mentén a megadott indexek elé."
      ]
    },
    {
      "cell_type": "code",
      "execution_count": null,
      "metadata": {
        "colab": {
          "base_uri": "https://localhost:8080/"
        },
        "id": "DKQ6S6Wx9zQl",
        "outputId": "58a0d5c9-540c-4a0f-aa5c-01d7fb9cedf5"
      },
      "outputs": [
        {
          "output_type": "execute_result",
          "data": {
            "text/plain": [
              "array([[ 5, 10],\n",
              "       [15, 20]])"
            ]
          },
          "metadata": {},
          "execution_count": 56
        }
      ],
      "source": [
        "a"
      ]
    },
    {
      "cell_type": "code",
      "execution_count": null,
      "metadata": {
        "colab": {
          "base_uri": "https://localhost:8080/"
        },
        "id": "_9V0Caij9zQm",
        "outputId": "6ec06cdc-d716-47c6-db87-94b7b26d7eb5"
      },
      "outputs": [
        {
          "output_type": "execute_result",
          "data": {
            "text/plain": [
              "array([  5, 100,  10,  15,  20])"
            ]
          },
          "metadata": {},
          "execution_count": 57
        }
      ],
      "source": [
        "np.insert(a,1,100)"
      ]
    },
    {
      "cell_type": "code",
      "execution_count": null,
      "metadata": {
        "colab": {
          "base_uri": "https://localhost:8080/"
        },
        "id": "0sWQ7Bzk9zQm",
        "outputId": "87b69a56-90ae-45fd-cc56-afd31f500ae8"
      },
      "outputs": [
        {
          "output_type": "execute_result",
          "data": {
            "text/plain": [
              "array([[  5,  10],\n",
              "       [100, 100],\n",
              "       [ 15,  20]])"
            ]
          },
          "metadata": {},
          "execution_count": 58
        }
      ],
      "source": [
        "np.insert(a,1,100,axis=0)"
      ]
    },
    {
      "cell_type": "code",
      "execution_count": null,
      "metadata": {
        "colab": {
          "base_uri": "https://localhost:8080/"
        },
        "id": "lIjfuac_9zQm",
        "outputId": "1487c599-04f2-4c10-ee68-84cb7540412b"
      },
      "outputs": [
        {
          "output_type": "execute_result",
          "data": {
            "text/plain": [
              "array([[  5, 100,  10],\n",
              "       [ 15, 100,  20]])"
            ]
          },
          "metadata": {},
          "execution_count": 59
        }
      ],
      "source": [
        "np.insert(a,1,100,axis=1)"
      ]
    },
    {
      "cell_type": "markdown",
      "metadata": {
        "id": "Z_GzjgqH9zQm"
      },
      "source": [
        "Szúrjuk be az `a` tömb elejére és végére a `100, 200` elemekből álló oszlopvektort."
      ]
    },
    {
      "cell_type": "code",
      "execution_count": null,
      "metadata": {
        "colab": {
          "base_uri": "https://localhost:8080/"
        },
        "id": "cUGmwT6g9zQm",
        "outputId": "b22be7c9-5533-44a9-db05-0784ce032317"
      },
      "outputs": [
        {
          "output_type": "execute_result",
          "data": {
            "text/plain": [
              "array([[  5,  10, 100],\n",
              "       [ 15,  20, 200]])"
            ]
          },
          "metadata": {},
          "execution_count": 97
        }
      ],
      "source": [
        "np.insert( a ,2,[[100,200]], axis=1)\n",
        "# ezt ne mtudom"
      ]
    },
    {
      "cell_type": "code",
      "execution_count": null,
      "metadata": {
        "colab": {
          "base_uri": "https://localhost:8080/"
        },
        "id": "26_6WhmJ9zQm",
        "outputId": "71e806d9-524f-42b7-842a-3ca1dcb20754"
      },
      "outputs": [
        {
          "output_type": "execute_result",
          "data": {
            "text/plain": [
              "array([[  5, 100, 300,  10],\n",
              "       [ 15, 200, 400,  20]])"
            ]
          },
          "metadata": {},
          "execution_count": 81
        }
      ],
      "source": [
        "np.insert(a,1,[[100,200],[300,400]],axis=1)"
      ]
    },
    {
      "cell_type": "markdown",
      "metadata": {
        "id": "aHHLQG9s9zQn"
      },
      "source": [
        "### Eltávolítás\n",
        "Az elemek tömbből való eltávolításának egyszerű módja a megtartandó elemek indexeléssel történő kiválasztása. (Később)"
      ]
    },
    {
      "cell_type": "markdown",
      "metadata": {
        "id": "_kboNV2d9zQn"
      },
      "source": [
        "_____\n",
        "## Tömbfüggvények"
      ]
    },
    {
      "cell_type": "code",
      "execution_count": null,
      "metadata": {
        "id": "4MRYMJ0u9zQn"
      },
      "outputs": [],
      "source": [
        "arr = np.arange(20)\n",
        "ranarr = np.random.randint(0,50,10)"
      ]
    },
    {
      "cell_type": "code",
      "execution_count": null,
      "metadata": {
        "colab": {
          "base_uri": "https://localhost:8080/"
        },
        "id": "ybhC5uKM9zQn",
        "outputId": "3bc7d97d-aa89-4d6b-d324-03d052d21dd0"
      },
      "outputs": [
        {
          "output_type": "execute_result",
          "data": {
            "text/plain": [
              "array([ 0,  1,  2,  3,  4,  5,  6,  7,  8,  9, 10, 11, 12, 13, 14, 15, 16,\n",
              "       17, 18, 19])"
            ]
          },
          "metadata": {},
          "execution_count": 89
        }
      ],
      "source": [
        "arr"
      ]
    },
    {
      "cell_type": "code",
      "execution_count": null,
      "metadata": {
        "colab": {
          "base_uri": "https://localhost:8080/"
        },
        "id": "w-vTaGXy9zQn",
        "outputId": "ea5848c0-9857-4bde-d411-e441e5844fc0"
      },
      "outputs": [
        {
          "output_type": "execute_result",
          "data": {
            "text/plain": [
              "array([16, 21, 42, 10, 27, 11, 31, 30, 37, 18])"
            ]
          },
          "metadata": {},
          "execution_count": 90
        }
      ],
      "source": [
        "ranarr"
      ]
    },
    {
      "cell_type": "markdown",
      "metadata": {
        "id": "XlGc9FG99zQo"
      },
      "source": [
        "### reshape\n",
        "Egy tömböt ad vissza, amely ugyanazokat az adatokat tartalmazza, új alakban."
      ]
    },
    {
      "cell_type": "code",
      "execution_count": null,
      "metadata": {
        "colab": {
          "base_uri": "https://localhost:8080/"
        },
        "id": "ZfIwCmrW9zQo",
        "outputId": "517b5b82-d4ac-4d81-c70d-d39053b67097"
      },
      "outputs": [
        {
          "output_type": "execute_result",
          "data": {
            "text/plain": [
              "array([[ 0,  1],\n",
              "       [ 2,  3],\n",
              "       [ 4,  5],\n",
              "       [ 6,  7],\n",
              "       [ 8,  9],\n",
              "       [10, 11],\n",
              "       [12, 13],\n",
              "       [14, 15],\n",
              "       [16, 17],\n",
              "       [18, 19]])"
            ]
          },
          "metadata": {},
          "execution_count": 92
        }
      ],
      "source": [
        "np.reshape(arr,(10,2)) # 20 van benne és ne mfér el 10-be egy"
      ]
    },
    {
      "cell_type": "code",
      "execution_count": null,
      "metadata": {
        "colab": {
          "base_uri": "https://localhost:8080/"
        },
        "id": "2iO40nRy9zQo",
        "outputId": "79cafd55-36fb-4982-829d-b568bb256918"
      },
      "outputs": [
        {
          "output_type": "execute_result",
          "data": {
            "text/plain": [
              "array([[ 0,  1,  2,  3,  4],\n",
              "       [ 5,  6,  7,  8,  9],\n",
              "       [10, 11, 12, 13, 14],\n",
              "       [15, 16, 17, 18, 19]])"
            ]
          },
          "metadata": {},
          "execution_count": 93
        }
      ],
      "source": [
        "arr.reshape(4,5)"
      ]
    },
    {
      "cell_type": "markdown",
      "metadata": {
        "id": "3HcXhPLE9zQo"
      },
      "source": [
        "### max, min, argmax, argmin\n",
        "\n",
        "Hasznos módszerek a maximum vagy a minimum értékek megállapításához, továbbá megtalálni az index értékét az `argmin` vagy az `argmax` segítségével."
      ]
    },
    {
      "cell_type": "code",
      "execution_count": null,
      "metadata": {
        "colab": {
          "base_uri": "https://localhost:8080/"
        },
        "id": "UINIzySN9zQo",
        "outputId": "1a657906-e62e-4d20-bdb4-72c8611613a9"
      },
      "outputs": [
        {
          "output_type": "execute_result",
          "data": {
            "text/plain": [
              "array([16, 21, 42, 10, 27, 11, 31, 30, 37, 18])"
            ]
          },
          "metadata": {},
          "execution_count": 98
        }
      ],
      "source": [
        "ranarr"
      ]
    },
    {
      "cell_type": "code",
      "execution_count": null,
      "metadata": {
        "colab": {
          "base_uri": "https://localhost:8080/"
        },
        "id": "YdHF3vT29zQp",
        "outputId": "3f9cb7fc-bc77-41a7-82db-1ccb4f3a1a49"
      },
      "outputs": [
        {
          "output_type": "execute_result",
          "data": {
            "text/plain": [
              "42"
            ]
          },
          "metadata": {},
          "execution_count": 99
        }
      ],
      "source": [
        "ranarr.max()"
      ]
    },
    {
      "cell_type": "code",
      "execution_count": null,
      "metadata": {
        "colab": {
          "base_uri": "https://localhost:8080/"
        },
        "id": "5CnbRdh39zQp",
        "outputId": "12b75fdd-c379-4a76-90be-60929d5bfea3"
      },
      "outputs": [
        {
          "output_type": "execute_result",
          "data": {
            "text/plain": [
              "2"
            ]
          },
          "metadata": {},
          "execution_count": 100
        }
      ],
      "source": [
        "ranarr.argmax()"
      ]
    },
    {
      "cell_type": "code",
      "execution_count": null,
      "metadata": {
        "colab": {
          "base_uri": "https://localhost:8080/"
        },
        "id": "SviDvLVD9zQp",
        "outputId": "5ffa3569-cda8-45e1-b186-c7b623460540"
      },
      "outputs": [
        {
          "output_type": "execute_result",
          "data": {
            "text/plain": [
              "10"
            ]
          },
          "metadata": {},
          "execution_count": 101
        }
      ],
      "source": [
        "ranarr.min()"
      ]
    },
    {
      "cell_type": "code",
      "execution_count": null,
      "metadata": {
        "colab": {
          "base_uri": "https://localhost:8080/"
        },
        "id": "tP-Om_QU9zQp",
        "outputId": "2251173d-19dd-4588-e6e0-16ea06e727ea"
      },
      "outputs": [
        {
          "output_type": "execute_result",
          "data": {
            "text/plain": [
              "3"
            ]
          },
          "metadata": {},
          "execution_count": 102
        }
      ],
      "source": [
        "ranarr.argmin()"
      ]
    },
    {
      "cell_type": "markdown",
      "metadata": {
        "id": "r_pm64339zQq"
      },
      "source": [
        "## Tömb attribútumok\n",
        "### shape\n",
        "\n",
        "A tömb alakja (shape) egész számokból álló értéksor (tuple), amely megadja a tömb méretét az egyes dimenziók mentén."
      ]
    },
    {
      "cell_type": "code",
      "execution_count": null,
      "metadata": {
        "colab": {
          "base_uri": "https://localhost:8080/"
        },
        "id": "4w9jbG2z9zQq",
        "outputId": "176f047d-3ac9-4dc4-8648-9a44102b0e0c"
      },
      "outputs": [
        {
          "output_type": "execute_result",
          "data": {
            "text/plain": [
              "array([ 0,  1,  2,  3,  4,  5,  6,  7,  8,  9, 10, 11, 12, 13, 14, 15, 16,\n",
              "       17, 18, 19])"
            ]
          },
          "metadata": {},
          "execution_count": 103
        }
      ],
      "source": [
        "arr"
      ]
    },
    {
      "cell_type": "code",
      "execution_count": null,
      "metadata": {
        "colab": {
          "base_uri": "https://localhost:8080/"
        },
        "id": "gP9fBX-J9zQq",
        "outputId": "09305c98-c459-4beb-8e54-d451f93a651c"
      },
      "outputs": [
        {
          "output_type": "execute_result",
          "data": {
            "text/plain": [
              "(20,)"
            ]
          },
          "metadata": {},
          "execution_count": 104
        }
      ],
      "source": [
        "# 1-D\n",
        "arr.shape"
      ]
    },
    {
      "cell_type": "code",
      "execution_count": null,
      "metadata": {
        "colab": {
          "base_uri": "https://localhost:8080/"
        },
        "id": "t7ReTFQG9zQq",
        "outputId": "af02e9d7-133d-421d-be25-784dc7ddc292"
      },
      "outputs": [
        {
          "output_type": "execute_result",
          "data": {
            "text/plain": [
              "(20,)"
            ]
          },
          "metadata": {},
          "execution_count": 105
        }
      ],
      "source": [
        "np.shape(arr)"
      ]
    },
    {
      "cell_type": "code",
      "execution_count": null,
      "metadata": {
        "colab": {
          "base_uri": "https://localhost:8080/"
        },
        "id": "d0GF3yG79zQq",
        "outputId": "6a5c1d13-3c09-4775-a02a-59fce659dcfb"
      },
      "outputs": [
        {
          "output_type": "execute_result",
          "data": {
            "text/plain": [
              "array([[ 0,  1,  2,  3,  4,  5,  6,  7,  8,  9, 10, 11, 12, 13, 14, 15,\n",
              "        16, 17, 18, 19]])"
            ]
          },
          "metadata": {},
          "execution_count": 106
        }
      ],
      "source": [
        "# Megjegyzés: 2-D, dupla zárójel [[]]\n",
        "arr.reshape(1,20)"
      ]
    },
    {
      "cell_type": "code",
      "execution_count": null,
      "metadata": {
        "colab": {
          "base_uri": "https://localhost:8080/"
        },
        "id": "JCfZyLIE9zQq",
        "outputId": "e04ff76f-450e-4cd7-eeea-a9530013f153"
      },
      "outputs": [
        {
          "output_type": "execute_result",
          "data": {
            "text/plain": [
              "(1, 20)"
            ]
          },
          "metadata": {},
          "execution_count": 107
        }
      ],
      "source": [
        "arr.reshape(1,20).shape"
      ]
    },
    {
      "cell_type": "code",
      "execution_count": null,
      "metadata": {
        "colab": {
          "base_uri": "https://localhost:8080/"
        },
        "id": "xjxvEOT99zQr",
        "outputId": "8b5f14c0-ac01-4770-db09-3a4ca5b805e5"
      },
      "outputs": [
        {
          "output_type": "execute_result",
          "data": {
            "text/plain": [
              "array([[ 0],\n",
              "       [ 1],\n",
              "       [ 2],\n",
              "       [ 3],\n",
              "       [ 4],\n",
              "       [ 5],\n",
              "       [ 6],\n",
              "       [ 7],\n",
              "       [ 8],\n",
              "       [ 9],\n",
              "       [10],\n",
              "       [11],\n",
              "       [12],\n",
              "       [13],\n",
              "       [14],\n",
              "       [15],\n",
              "       [16],\n",
              "       [17],\n",
              "       [18],\n",
              "       [19]])"
            ]
          },
          "metadata": {},
          "execution_count": 108
        }
      ],
      "source": [
        "arr.reshape(20,1)"
      ]
    },
    {
      "cell_type": "code",
      "execution_count": null,
      "metadata": {
        "colab": {
          "base_uri": "https://localhost:8080/"
        },
        "id": "QQkhaoGT9zQr",
        "outputId": "b8fda08f-cd21-44bf-d6fb-822ea92a8883"
      },
      "outputs": [
        {
          "output_type": "execute_result",
          "data": {
            "text/plain": [
              "(20, 1)"
            ]
          },
          "metadata": {},
          "execution_count": 109
        }
      ],
      "source": [
        "arr.reshape(20,1).shape"
      ]
    },
    {
      "cell_type": "markdown",
      "metadata": {
        "id": "7v4qKdNd9zQr"
      },
      "source": [
        "### ndim\n",
        "A tömb dimenzióinak száma, a tömb rangja."
      ]
    },
    {
      "cell_type": "code",
      "execution_count": null,
      "metadata": {
        "colab": {
          "base_uri": "https://localhost:8080/"
        },
        "id": "eD9X65zh9zQs",
        "outputId": "42aa3753-64ff-4737-f1dc-370383fbea51"
      },
      "outputs": [
        {
          "output_type": "execute_result",
          "data": {
            "text/plain": [
              "1"
            ]
          },
          "metadata": {},
          "execution_count": 110
        }
      ],
      "source": [
        "arr.ndim"
      ]
    },
    {
      "cell_type": "code",
      "execution_count": null,
      "metadata": {
        "colab": {
          "base_uri": "https://localhost:8080/"
        },
        "id": "FVj8YKL59zQs",
        "outputId": "98449051-1b2c-4e76-efa4-741d7241ca8a"
      },
      "outputs": [
        {
          "output_type": "execute_result",
          "data": {
            "text/plain": [
              "2"
            ]
          },
          "metadata": {},
          "execution_count": 111
        }
      ],
      "source": [
        "arr.reshape(1,20).ndim"
      ]
    },
    {
      "cell_type": "code",
      "execution_count": null,
      "metadata": {
        "colab": {
          "base_uri": "https://localhost:8080/"
        },
        "id": "2BRJihDV9zQt",
        "outputId": "e0f5b0e2-5816-4c7e-bd62-fc0505202f4f"
      },
      "outputs": [
        {
          "output_type": "execute_result",
          "data": {
            "text/plain": [
              "4"
            ]
          },
          "metadata": {},
          "execution_count": 112
        }
      ],
      "source": [
        "np.ones((2,2,2,2)).ndim"
      ]
    },
    {
      "cell_type": "markdown",
      "metadata": {
        "id": "fYhr8h7k9zQt"
      },
      "source": [
        "### size\n",
        "A tömb elemeinek száma."
      ]
    },
    {
      "cell_type": "code",
      "execution_count": null,
      "metadata": {
        "id": "Ki5vIg6W9zQt"
      },
      "outputs": [],
      "source": [
        "np.ones((2,2,2,2)).size"
      ]
    },
    {
      "cell_type": "markdown",
      "metadata": {
        "id": "hnYSXVul9zQt"
      },
      "source": [
        "### dtype\n",
        "A tömb elemeinek típusa (mindegyik elem azonos típusú)."
      ]
    },
    {
      "cell_type": "code",
      "execution_count": null,
      "metadata": {
        "colab": {
          "base_uri": "https://localhost:8080/"
        },
        "id": "Rk1r5LnQ9zQt",
        "outputId": "68693f07-1ae6-4419-c21d-875aeb772e90"
      },
      "outputs": [
        {
          "output_type": "execute_result",
          "data": {
            "text/plain": [
              "dtype('int64')"
            ]
          },
          "metadata": {},
          "execution_count": 113
        }
      ],
      "source": [
        "arr.dtype"
      ]
    },
    {
      "cell_type": "code",
      "execution_count": null,
      "metadata": {
        "colab": {
          "base_uri": "https://localhost:8080/"
        },
        "id": "oBxTybGI9zQt",
        "outputId": "62fb7865-b280-4ec8-e084-00b4fbe2a8b6"
      },
      "outputs": [
        {
          "output_type": "execute_result",
          "data": {
            "text/plain": [
              "dtype('O')"
            ]
          },
          "metadata": {},
          "execution_count": 114
        }
      ],
      "source": [
        "sokszínű.dtype"
      ]
    },
    {
      "cell_type": "markdown",
      "metadata": {
        "id": "sD8NSjcO9zQu"
      },
      "source": [
        "További információk: [Array attributes](https://numpy.org/doc/stable/reference/arrays.ndarray.html#array-attributes)"
      ]
    },
    {
      "cell_type": "markdown",
      "metadata": {
        "id": "sqrJekm39zQu"
      },
      "source": [
        "___\n",
        "## NumPy indexelés és kiválasztás\n",
        "\n",
        "Elemek vagy elemek csoportjának kiválasztása egy tömbből."
      ]
    },
    {
      "cell_type": "code",
      "execution_count": null,
      "metadata": {
        "id": "MJF7wHBT9zQu"
      },
      "outputs": [],
      "source": [
        "#Tömb (vektor) készítése\n",
        "vektor = np.arange(0,11)"
      ]
    },
    {
      "cell_type": "code",
      "execution_count": null,
      "metadata": {
        "colab": {
          "base_uri": "https://localhost:8080/"
        },
        "id": "zt_5sekQ9zQu",
        "outputId": "949a5275-f166-42cb-e283-86bf02f4a62b"
      },
      "outputs": [
        {
          "output_type": "execute_result",
          "data": {
            "text/plain": [
              "array([ 0,  1,  2,  3,  4,  5,  6,  7,  8,  9, 10])"
            ]
          },
          "metadata": {},
          "execution_count": 116
        }
      ],
      "source": [
        "#Tömb megjelenítése\n",
        "vektor"
      ]
    },
    {
      "cell_type": "markdown",
      "metadata": {
        "id": "3oDaT24u9zQv"
      },
      "source": [
        "### Zárójeles indexelés és kiválasztás\n",
        "A tömb egyik vagy néhány elemének kiválasztásának legegyszerűbb módja. Nagyon hasonlít a Python listákhoz."
      ]
    },
    {
      "cell_type": "code",
      "execution_count": null,
      "metadata": {
        "colab": {
          "base_uri": "https://localhost:8080/"
        },
        "id": "EZANZgNX9zQv",
        "outputId": "4ddacaf4-a504-4ef7-a943-5acc5bdfb1a5"
      },
      "outputs": [
        {
          "output_type": "execute_result",
          "data": {
            "text/plain": [
              "5"
            ]
          },
          "metadata": {},
          "execution_count": 119
        }
      ],
      "source": [
        "#Egy adott indexhez tartozó érték elérése\n",
        "vektor[5]"
      ]
    },
    {
      "cell_type": "code",
      "execution_count": null,
      "metadata": {
        "colab": {
          "base_uri": "https://localhost:8080/"
        },
        "id": "ueog4UEN9zQv",
        "outputId": "70cfd1ff-9789-4d60-9219-e3f2abff677f"
      },
      "outputs": [
        {
          "output_type": "execute_result",
          "data": {
            "text/plain": [
              "array([1, 2, 3, 4, 5])"
            ]
          },
          "metadata": {},
          "execution_count": 120
        }
      ],
      "source": [
        "#Egy indextartományhoz tartozó értékek elérése\n",
        "#[start:stop]\n",
        "vektor[1:6]"
      ]
    },
    {
      "cell_type": "code",
      "execution_count": null,
      "metadata": {
        "colab": {
          "base_uri": "https://localhost:8080/"
        },
        "id": "U1SOBbdz9zQv",
        "outputId": "247da7ca-c143-42b0-91ab-2135d8bcb997"
      },
      "outputs": [
        {
          "output_type": "execute_result",
          "data": {
            "text/plain": [
              "array([0, 1, 2, 3, 4])"
            ]
          },
          "metadata": {},
          "execution_count": 121
        }
      ],
      "source": [
        "vektor[0:5]"
      ]
    },
    {
      "cell_type": "code",
      "execution_count": null,
      "metadata": {
        "colab": {
          "base_uri": "https://localhost:8080/"
        },
        "id": "gNB7XPIw9zQw",
        "outputId": "730ac8ff-1b8e-47d9-9fd7-cc4fd1ce16ae"
      },
      "outputs": [
        {
          "output_type": "execute_result",
          "data": {
            "text/plain": [
              "array([ 2,  3,  4,  5,  6,  7,  8,  9, 10])"
            ]
          },
          "metadata": {},
          "execution_count": 122
        }
      ],
      "source": [
        "vektor[2:]"
      ]
    },
    {
      "cell_type": "code",
      "execution_count": null,
      "metadata": {
        "colab": {
          "base_uri": "https://localhost:8080/"
        },
        "id": "UXJJHhmg9zQw",
        "outputId": "081c9a5d-91f7-45cb-c6a3-5cf301ba7b39"
      },
      "outputs": [
        {
          "output_type": "execute_result",
          "data": {
            "text/plain": [
              "array([0, 1, 2, 3, 4])"
            ]
          },
          "metadata": {},
          "execution_count": 123
        }
      ],
      "source": [
        "vektor[:5]"
      ]
    },
    {
      "cell_type": "code",
      "execution_count": null,
      "metadata": {
        "colab": {
          "base_uri": "https://localhost:8080/"
        },
        "id": "AlfFSmr69zQw",
        "outputId": "cca4aea6-9031-4fe5-9bb1-f520e3dabb5e"
      },
      "outputs": [
        {
          "output_type": "execute_result",
          "data": {
            "text/plain": [
              "array([8, 9])"
            ]
          },
          "metadata": {},
          "execution_count": 128
        }
      ],
      "source": [
        "vektor[-3:-1]"
      ]
    },
    {
      "cell_type": "code",
      "execution_count": null,
      "metadata": {
        "colab": {
          "base_uri": "https://localhost:8080/"
        },
        "id": "l9VuC5C79zQw",
        "outputId": "3fa964f0-ed69-4cdf-9f81-e171ab0284a2"
      },
      "outputs": [
        {
          "output_type": "execute_result",
          "data": {
            "text/plain": [
              "array([1, 3, 5])"
            ]
          },
          "metadata": {},
          "execution_count": 129
        }
      ],
      "source": [
        "#[start:stop:step]\n",
        "vektor[1:6:2]"
      ]
    },
    {
      "cell_type": "code",
      "execution_count": null,
      "metadata": {
        "colab": {
          "base_uri": "https://localhost:8080/"
        },
        "id": "qrriwblP9zQw",
        "outputId": "fbf1cce8-b09c-4873-d3fa-f5b9abd70699"
      },
      "outputs": [
        {
          "output_type": "execute_result",
          "data": {
            "text/plain": [
              "array([ 2,  4,  6,  8, 10])"
            ]
          },
          "metadata": {},
          "execution_count": 127
        }
      ],
      "source": [
        "vektor[2::2]"
      ]
    },
    {
      "cell_type": "code",
      "execution_count": null,
      "metadata": {
        "id": "kX2JS_Eq9zQw"
      },
      "outputs": [],
      "source": [
        "# vektor elemeinek megjelenítése fordított sorrendben"
      ]
    },
    {
      "cell_type": "code",
      "execution_count": null,
      "metadata": {
        "colab": {
          "base_uri": "https://localhost:8080/"
        },
        "id": "LO4d8WRL9zQx",
        "outputId": "aa3c3dbd-64f1-475b-df3f-a15784e2ed25"
      },
      "outputs": [
        {
          "output_type": "execute_result",
          "data": {
            "text/plain": [
              "array([10,  9,  8,  7,  6,  5,  4,  3,  2,  1,  0])"
            ]
          },
          "metadata": {},
          "execution_count": 131
        }
      ],
      "source": [
        "vektor[::-1]"
      ]
    },
    {
      "cell_type": "markdown",
      "metadata": {
        "id": "oOJmDAPr9zQx"
      },
      "source": [
        "### 2D tömbök (mátrixok) indexelése\n",
        "\n",
        "Általános formátum: **`arr_2d[sor][oszlop]`** vagy **`arr_2d[sor,oszlop]`**."
      ]
    },
    {
      "cell_type": "code",
      "execution_count": null,
      "metadata": {
        "colab": {
          "base_uri": "https://localhost:8080/"
        },
        "id": "kLK3es3Y9zQx",
        "outputId": "ce2ed25b-db99-434a-bcab-1454ff2e53a7"
      },
      "outputs": [
        {
          "output_type": "execute_result",
          "data": {
            "text/plain": [
              "array([[ 5, 10, 15],\n",
              "       [20, 25, 30],\n",
              "       [35, 40, 45]])"
            ]
          },
          "metadata": {},
          "execution_count": 132
        }
      ],
      "source": [
        "#Mátrix készítése\n",
        "mátrix = np.array(([5,10,15],[20,25,30],[35,40,45]))\n",
        "\n",
        "#A tömb megjelenítése\n",
        "mátrix"
      ]
    },
    {
      "cell_type": "code",
      "execution_count": null,
      "metadata": {
        "colab": {
          "base_uri": "https://localhost:8080/"
        },
        "id": "nVKLnbpT9zQx",
        "outputId": "3f94288d-7b8a-4f8a-c666-35c2510c006f"
      },
      "outputs": [
        {
          "output_type": "execute_result",
          "data": {
            "text/plain": [
              "array([20, 25, 30])"
            ]
          },
          "metadata": {},
          "execution_count": 133
        }
      ],
      "source": [
        "#Indexelés\n",
        "mátrix[1]"
      ]
    },
    {
      "cell_type": "code",
      "execution_count": null,
      "metadata": {
        "colab": {
          "base_uri": "https://localhost:8080/"
        },
        "id": "yMQXNOx59zQx",
        "outputId": "a57424a3-bb7f-4576-bb73-fc770d2154be"
      },
      "outputs": [
        {
          "output_type": "execute_result",
          "data": {
            "text/plain": [
              "20"
            ]
          },
          "metadata": {},
          "execution_count": 134
        }
      ],
      "source": [
        "# Egyedi elem értékének meghatározása\n",
        "mátrix[1][0]"
      ]
    },
    {
      "cell_type": "code",
      "execution_count": null,
      "metadata": {
        "colab": {
          "base_uri": "https://localhost:8080/"
        },
        "id": "mjUVcEVD9zQx",
        "outputId": "6752b5be-1416-4a4c-c9c4-fee3cd09feed"
      },
      "outputs": [
        {
          "output_type": "execute_result",
          "data": {
            "text/plain": [
              "40"
            ]
          },
          "metadata": {},
          "execution_count": 135
        }
      ],
      "source": [
        "# 3. sor 2. elemének kiválasztása\n",
        "mátrix[2][1]"
      ]
    },
    {
      "cell_type": "code",
      "execution_count": null,
      "metadata": {
        "colab": {
          "base_uri": "https://localhost:8080/"
        },
        "id": "PDtFP7d29zQy",
        "outputId": "699c9958-ccfe-4974-ad99-d3fa122ec556"
      },
      "outputs": [
        {
          "output_type": "execute_result",
          "data": {
            "text/plain": [
              "array([35, 40, 45])"
            ]
          },
          "metadata": {},
          "execution_count": 152
        }
      ],
      "source": [
        "#Legalsó sor kiválasztása\n",
        "mátrix[2][:]"
      ]
    },
    {
      "cell_type": "code",
      "execution_count": null,
      "metadata": {
        "colab": {
          "base_uri": "https://localhost:8080/"
        },
        "id": "HQAlqgk49zQy",
        "outputId": "27c61c28-2af6-487a-fe73-4a27b06c7a2c"
      },
      "outputs": [
        {
          "output_type": "execute_result",
          "data": {
            "text/plain": [
              "array([35, 40, 45])"
            ]
          },
          "metadata": {},
          "execution_count": 157
        }
      ],
      "source": [
        "mátrix[2,:]"
      ]
    },
    {
      "cell_type": "code",
      "execution_count": null,
      "metadata": {
        "colab": {
          "base_uri": "https://localhost:8080/"
        },
        "id": "LV5iudzE9zQy",
        "outputId": "93f088d3-2e28-440e-867e-e9aa4def9cec"
      },
      "outputs": [
        {
          "output_type": "execute_result",
          "data": {
            "text/plain": [
              "array([[15],\n",
              "       [30],\n",
              "       [45]])"
            ]
          },
          "metadata": {},
          "execution_count": 172
        }
      ],
      "source": [
        "#Középső oszlop kiválasztása\n",
        "\n",
        "mátrix[0:,:1] #első oszlop\n",
        "mátrix[0:,1] # 2. oszlop\n",
        "mátrix[0:,2:] #3.oszlop"
      ]
    },
    {
      "cell_type": "code",
      "execution_count": null,
      "metadata": {
        "colab": {
          "base_uri": "https://localhost:8080/"
        },
        "id": "2FarSqgn9zQz",
        "outputId": "05377eeb-89fc-4e6b-f386-2603a1541e74"
      },
      "outputs": [
        {
          "output_type": "execute_result",
          "data": {
            "text/plain": [
              "array([[10, 15],\n",
              "       [25, 30]])"
            ]
          },
          "metadata": {},
          "execution_count": 175
        }
      ],
      "source": [
        "# 2D tömb szeletelése (résztömb kiválasztása)\n",
        "# array([[ 5, 10, 15],\n",
        "#        [20, 25, 30],\n",
        "#        [35, 40, 45]])\n",
        "#A jobb felső sarokban levő 2x2-es mátrix kiválasztása\n",
        "mátrix[:2,1:]"
      ]
    },
    {
      "cell_type": "code",
      "execution_count": null,
      "metadata": {
        "colab": {
          "base_uri": "https://localhost:8080/"
        },
        "id": "WhpAI7Ey9zQz",
        "outputId": "057a77d5-8eca-4864-f44a-632f7344bb85"
      },
      "outputs": [
        {
          "output_type": "execute_result",
          "data": {
            "text/plain": [
              "array([[20, 25],\n",
              "       [35, 40]])"
            ]
          },
          "metadata": {},
          "execution_count": 179
        }
      ],
      "source": [
        "#A bal alsó sarokban levő 2x2-es mátrix kiválasztása\n",
        "mátrix[1:,:2]"
      ]
    },
    {
      "cell_type": "code",
      "execution_count": null,
      "metadata": {
        "id": "aLx5W6xm9zQz"
      },
      "outputs": [],
      "source": [
        "mat = np.arange(50).reshape(5,10)"
      ]
    },
    {
      "cell_type": "code",
      "execution_count": null,
      "metadata": {
        "colab": {
          "base_uri": "https://localhost:8080/"
        },
        "id": "C5_uBYNz9zQz",
        "outputId": "0a75038a-064b-4a60-d0e6-0faa868ae840"
      },
      "outputs": [
        {
          "output_type": "execute_result",
          "data": {
            "text/plain": [
              "array([[ 0,  1,  2,  3,  4,  5,  6,  7,  8,  9],\n",
              "       [10, 11, 12, 13, 14, 15, 16, 17, 18, 19],\n",
              "       [20, 21, 22, 23, 24, 25, 26, 27, 28, 29],\n",
              "       [30, 31, 32, 33, 34, 35, 36, 37, 38, 39],\n",
              "       [40, 41, 42, 43, 44, 45, 46, 47, 48, 49]])"
            ]
          },
          "metadata": {},
          "execution_count": 183
        }
      ],
      "source": [
        "mat"
      ]
    },
    {
      "cell_type": "markdown",
      "metadata": {
        "id": "Kpz4lsbW9zQz"
      },
      "source": [
        "Válasszuk ki a `mat` mátrixból az alábbi résztömböt:\n",
        "```python\n",
        "array([[24, 25, 26],\n",
        "       [34, 35, 36],\n",
        "       [44, 45, 46]])\n",
        "```"
      ]
    },
    {
      "cell_type": "code",
      "execution_count": null,
      "metadata": {
        "colab": {
          "base_uri": "https://localhost:8080/"
        },
        "id": "fk6jXaBc9zQ0",
        "outputId": "3b0da8c3-9a41-41e3-cccd-128be401d885"
      },
      "outputs": [
        {
          "output_type": "execute_result",
          "data": {
            "text/plain": [
              "array([[24, 25, 26],\n",
              "       [34, 35, 36],\n",
              "       [44, 45, 46]])"
            ]
          },
          "metadata": {},
          "execution_count": 192
        }
      ],
      "source": [
        "mat[ 2:, 4:7]"
      ]
    },
    {
      "cell_type": "markdown",
      "metadata": {
        "id": "9fOb1RSK9zQ0"
      },
      "source": [
        "Válasszuk ki a `mat` mátrixból az alábbi résztömböt:\n",
        "```python\n",
        "array([[ 0,  2,  4,  6,  8],\n",
        "       [20, 22, 24, 26, 28],\n",
        "       [40, 42, 44, 46, 48]])\n",
        "```"
      ]
    },
    {
      "cell_type": "code",
      "execution_count": null,
      "metadata": {
        "colab": {
          "base_uri": "https://localhost:8080/"
        },
        "id": "TLZnRU-k9zQ0",
        "outputId": "8b21f5b8-7fa4-43b5-d455-0e18bf9ce72a"
      },
      "outputs": [
        {
          "output_type": "execute_result",
          "data": {
            "text/plain": [
              "array([[ 0,  2,  4,  6,  8],\n",
              "       [20, 22, 24, 26, 28],\n",
              "       [40, 42, 44, 46, 48]])"
            ]
          },
          "metadata": {},
          "execution_count": 196
        }
      ],
      "source": [
        "mat[ ::2, ::2]"
      ]
    },
    {
      "cell_type": "markdown",
      "metadata": {
        "id": "SiK-mC1x9zQ0"
      },
      "source": [
        "### Feltételes kiválasztás"
      ]
    },
    {
      "cell_type": "code",
      "execution_count": null,
      "metadata": {
        "colab": {
          "base_uri": "https://localhost:8080/"
        },
        "id": "y9C3_uJ_9zQ0",
        "outputId": "016df81c-83bf-4b46-c6e0-94a48174bb63"
      },
      "outputs": [
        {
          "output_type": "execute_result",
          "data": {
            "text/plain": [
              "array([ 1,  2,  3,  4,  5,  6,  7,  8,  9, 10])"
            ]
          },
          "metadata": {},
          "execution_count": 197
        }
      ],
      "source": [
        "tömb = np.arange(1,11)\n",
        "tömb"
      ]
    },
    {
      "cell_type": "code",
      "execution_count": null,
      "metadata": {
        "colab": {
          "base_uri": "https://localhost:8080/"
        },
        "id": "6Jtcdj9V9zQ0",
        "outputId": "2acfc0a4-7280-4960-826e-77c50997cff9"
      },
      "outputs": [
        {
          "output_type": "execute_result",
          "data": {
            "text/plain": [
              "array([False, False, False, False,  True,  True,  True,  True,  True,\n",
              "        True])"
            ]
          },
          "metadata": {},
          "execution_count": 198
        }
      ],
      "source": [
        "tömb > 4"
      ]
    },
    {
      "cell_type": "code",
      "execution_count": null,
      "metadata": {
        "id": "G05lPrcV9zQ1"
      },
      "outputs": [],
      "source": [
        "bool_tömb = tömb>4"
      ]
    },
    {
      "cell_type": "code",
      "execution_count": null,
      "metadata": {
        "colab": {
          "base_uri": "https://localhost:8080/"
        },
        "id": "Qi7oBBQS9zQ1",
        "outputId": "fa6e1f3c-11f7-45f9-b2f9-ef518ddfc845"
      },
      "outputs": [
        {
          "output_type": "execute_result",
          "data": {
            "text/plain": [
              "array([False, False, False, False,  True,  True,  True,  True,  True,\n",
              "        True])"
            ]
          },
          "metadata": {},
          "execution_count": 201
        }
      ],
      "source": [
        "bool_tömb"
      ]
    },
    {
      "cell_type": "code",
      "execution_count": null,
      "metadata": {
        "colab": {
          "base_uri": "https://localhost:8080/"
        },
        "id": "QTMIzUgL9zQ1",
        "outputId": "806cb30f-1241-4e6b-a4e4-62def810d7b6"
      },
      "outputs": [
        {
          "output_type": "execute_result",
          "data": {
            "text/plain": [
              "array([ 5,  6,  7,  8,  9, 10])"
            ]
          },
          "metadata": {},
          "execution_count": 203
        }
      ],
      "source": [
        "tömb[bool_tömb]"
      ]
    },
    {
      "cell_type": "code",
      "execution_count": null,
      "metadata": {
        "colab": {
          "base_uri": "https://localhost:8080/"
        },
        "id": "58C4h33B9zQ1",
        "outputId": "00f1ba0f-2d0e-4e3d-e63e-80550e0dc6b6"
      },
      "outputs": [
        {
          "output_type": "execute_result",
          "data": {
            "text/plain": [
              "array([ 5,  6,  7,  8,  9, 10])"
            ]
          },
          "metadata": {},
          "execution_count": 204
        }
      ],
      "source": [
        "tömb[tömb>4]"
      ]
    },
    {
      "cell_type": "code",
      "execution_count": null,
      "metadata": {
        "colab": {
          "base_uri": "https://localhost:8080/"
        },
        "id": "fHB4ZTIm9zQ1",
        "outputId": "d91e241f-6869-4530-ece8-12172426a7fb"
      },
      "outputs": [
        {
          "output_type": "execute_result",
          "data": {
            "text/plain": [
              "array([ 2,  4,  6,  8, 10])"
            ]
          },
          "metadata": {},
          "execution_count": 206
        }
      ],
      "source": [
        "# A tömb páros elemeinek kiválasztása\n",
        "tömb[tömb%2==0]"
      ]
    },
    {
      "cell_type": "code",
      "execution_count": null,
      "metadata": {
        "colab": {
          "base_uri": "https://localhost:8080/"
        },
        "id": "hb5bvaON9zQ1",
        "outputId": "9e2d91b2-dfd2-4d99-8b50-6e00a927e488"
      },
      "outputs": [
        {
          "output_type": "execute_result",
          "data": {
            "text/plain": [
              "array([ 3,  4,  5,  6,  7,  8,  9, 10])"
            ]
          },
          "metadata": {},
          "execution_count": 207
        }
      ],
      "source": [
        "x = 2\n",
        "tömb[tömb>x]"
      ]
    },
    {
      "cell_type": "code",
      "execution_count": null,
      "metadata": {
        "colab": {
          "base_uri": "https://localhost:8080/"
        },
        "id": "D38SlLBd9zQ2",
        "outputId": "5467d7fd-4b5b-45ae-c9a2-cbf03bc9b565"
      },
      "outputs": [
        {
          "output_type": "execute_result",
          "data": {
            "text/plain": [
              "array([ 1,  7,  8,  9, 10])"
            ]
          },
          "metadata": {},
          "execution_count": 209
        }
      ],
      "source": [
        "tömb[(tömb < x) | (tömb > 3*x)]"
      ]
    },
    {
      "cell_type": "code",
      "execution_count": null,
      "metadata": {
        "colab": {
          "base_uri": "https://localhost:8080/"
        },
        "id": "jxm6VGhu9zQ2",
        "outputId": "a46c5a7e-bbac-4182-e3e2-d669d1ca1351"
      },
      "outputs": [
        {
          "output_type": "execute_result",
          "data": {
            "text/plain": [
              "array([3, 4, 5])"
            ]
          },
          "metadata": {},
          "execution_count": 217
        }
      ],
      "source": [
        "# A tömb x-nél nagyobb és 3x-nél kisebb elemeinek kiválasztása\n",
        "x=2\n",
        "tömb[(x < tömb) & (tömb< 3*x)]\n",
        "# tömb [x< tömb < 3*x]"
      ]
    },
    {
      "cell_type": "markdown",
      "metadata": {
        "collapsed": true,
        "id": "VNBSbe6r9zQ2"
      },
      "source": [
        "___\n",
        "## NumPy műveletek"
      ]
    },
    {
      "cell_type": "markdown",
      "metadata": {
        "id": "h5H-NrJk9zQ3"
      },
      "source": [
        "### Aritmetikai műveletek\n"
      ]
    },
    {
      "cell_type": "code",
      "execution_count": null,
      "metadata": {
        "id": "aAjP8M2z9zQ3"
      },
      "outputs": [],
      "source": [
        "tömb = np.arange(0,10)"
      ]
    },
    {
      "cell_type": "code",
      "execution_count": null,
      "metadata": {
        "colab": {
          "base_uri": "https://localhost:8080/"
        },
        "id": "eJb1L7Fu9zQ3",
        "outputId": "b433c250-aae8-41c1-cd5b-7ac109a26f42"
      },
      "outputs": [
        {
          "output_type": "execute_result",
          "data": {
            "text/plain": [
              "array([0, 1, 2, 3, 4, 5, 6, 7, 8, 9])"
            ]
          },
          "metadata": {},
          "execution_count": 219
        }
      ],
      "source": [
        "tömb"
      ]
    },
    {
      "cell_type": "code",
      "execution_count": null,
      "metadata": {
        "colab": {
          "base_uri": "https://localhost:8080/"
        },
        "id": "QFFnz_xg9zQ3",
        "outputId": "bc23a77a-392c-4029-d3a9-60cd4321cc66"
      },
      "outputs": [
        {
          "output_type": "execute_result",
          "data": {
            "text/plain": [
              "array([ 0,  2,  4,  6,  8, 10, 12, 14, 16, 18])"
            ]
          },
          "metadata": {},
          "execution_count": 220
        }
      ],
      "source": [
        "tömb + tömb"
      ]
    },
    {
      "cell_type": "code",
      "execution_count": null,
      "metadata": {
        "colab": {
          "base_uri": "https://localhost:8080/"
        },
        "id": "8vWQX5OZ9zQ3",
        "outputId": "600f965e-415b-41b4-a08e-8614c709dfd7"
      },
      "outputs": [
        {
          "output_type": "execute_result",
          "data": {
            "text/plain": [
              "array([0, 0, 0, 0, 0, 0, 0, 0, 0, 0])"
            ]
          },
          "metadata": {},
          "execution_count": 221
        }
      ],
      "source": [
        "tömb - tömb"
      ]
    },
    {
      "cell_type": "code",
      "execution_count": null,
      "metadata": {
        "colab": {
          "base_uri": "https://localhost:8080/"
        },
        "id": "ycQD1-Dq9zQ3",
        "outputId": "0ee9ac96-d546-4b1c-c2d5-86664255535d"
      },
      "outputs": [
        {
          "output_type": "execute_result",
          "data": {
            "text/plain": [
              "array([ 0,  1,  4,  9, 16, 25, 36, 49, 64, 81])"
            ]
          },
          "metadata": {},
          "execution_count": 222
        }
      ],
      "source": [
        "tömb * tömb"
      ]
    },
    {
      "cell_type": "code",
      "execution_count": null,
      "metadata": {
        "colab": {
          "base_uri": "https://localhost:8080/"
        },
        "id": "WUe8JaBK9zQ4",
        "outputId": "d1362a51-7dc3-4a3d-809f-9bf132e332b0"
      },
      "outputs": [
        {
          "output_type": "execute_result",
          "data": {
            "text/plain": [
              "array([100, 101, 102, 103, 104, 105, 106, 107, 108, 109])"
            ]
          },
          "metadata": {},
          "execution_count": 223
        }
      ],
      "source": [
        "tömb + 100"
      ]
    },
    {
      "cell_type": "code",
      "execution_count": null,
      "metadata": {
        "colab": {
          "base_uri": "https://localhost:8080/"
        },
        "id": "lxs6F5SA9zQ4",
        "outputId": "e1835863-a9fe-42c5-fa18-eb8c1f15ef81"
      },
      "outputs": [
        {
          "output_type": "execute_result",
          "data": {
            "text/plain": [
              "array([  0, 100, 200, 300, 400, 500, 600, 700, 800, 900])"
            ]
          },
          "metadata": {},
          "execution_count": 224
        }
      ],
      "source": [
        "tömb * 100"
      ]
    },
    {
      "cell_type": "code",
      "execution_count": null,
      "metadata": {
        "colab": {
          "base_uri": "https://localhost:8080/"
        },
        "id": "YsEf2yJ89zQ4",
        "outputId": "60843b1c-cde5-4e4c-f15f-94b10342602b"
      },
      "outputs": [
        {
          "output_type": "execute_result",
          "data": {
            "text/plain": [
              "array([ 0,  1,  4,  9, 16, 25, 36, 49, 64, 81])"
            ]
          },
          "metadata": {},
          "execution_count": 225
        }
      ],
      "source": [
        "tömb**2"
      ]
    },
    {
      "cell_type": "code",
      "execution_count": null,
      "metadata": {
        "colab": {
          "base_uri": "https://localhost:8080/"
        },
        "id": "JUR4DSYt9zQ4",
        "outputId": "0f6001b3-06c8-4a3b-d2f9-1766befd1421"
      },
      "outputs": [
        {
          "output_type": "stream",
          "name": "stderr",
          "text": [
            "<ipython-input-226-fa4430440b7f>:4: RuntimeWarning: invalid value encountered in divide\n",
            "  tömb/tömb\n"
          ]
        },
        {
          "output_type": "execute_result",
          "data": {
            "text/plain": [
              "array([nan,  1.,  1.,  1.,  1.,  1.,  1.,  1.,  1.,  1.])"
            ]
          },
          "metadata": {},
          "execution_count": 226
        }
      ],
      "source": [
        "# Tömb értékének nullával való osztása. Warning és nem hiba!!\n",
        "# Érték helyettesítése: nan\n",
        "\n",
        "tömb/tömb"
      ]
    },
    {
      "cell_type": "code",
      "execution_count": null,
      "metadata": {
        "colab": {
          "base_uri": "https://localhost:8080/",
          "height": 141
        },
        "id": "K-icOXwW9zQ4",
        "outputId": "0c4d8823-f2ee-4e38-c652-05d771c5e265"
      },
      "outputs": [
        {
          "output_type": "error",
          "ename": "ZeroDivisionError",
          "evalue": "division by zero",
          "traceback": [
            "\u001b[0;31m---------------------------------------------------------------------------\u001b[0m",
            "\u001b[0;31mZeroDivisionError\u001b[0m                         Traceback (most recent call last)",
            "\u001b[0;32m<ipython-input-227-9e1622b385b6>\u001b[0m in \u001b[0;36m<cell line: 1>\u001b[0;34m()\u001b[0m\n\u001b[0;32m----> 1\u001b[0;31m \u001b[0;36m1\u001b[0m\u001b[0;34m/\u001b[0m\u001b[0;36m0\u001b[0m\u001b[0;34m\u001b[0m\u001b[0;34m\u001b[0m\u001b[0m\n\u001b[0m",
            "\u001b[0;31mZeroDivisionError\u001b[0m: division by zero"
          ]
        }
      ],
      "source": [
        "1/0"
      ]
    },
    {
      "cell_type": "code",
      "execution_count": null,
      "metadata": {
        "colab": {
          "base_uri": "https://localhost:8080/"
        },
        "id": "xP1HTIae9zQ4",
        "outputId": "ad9f1a0c-1b7e-4a7c-e3b5-bfea16669943"
      },
      "outputs": [
        {
          "output_type": "stream",
          "name": "stderr",
          "text": [
            "<ipython-input-228-927aca502f9e>:1: RuntimeWarning: divide by zero encountered in divide\n",
            "  tömb/0\n",
            "<ipython-input-228-927aca502f9e>:1: RuntimeWarning: invalid value encountered in divide\n",
            "  tömb/0\n"
          ]
        },
        {
          "output_type": "execute_result",
          "data": {
            "text/plain": [
              "array([nan, inf, inf, inf, inf, inf, inf, inf, inf, inf])"
            ]
          },
          "metadata": {},
          "execution_count": 228
        }
      ],
      "source": [
        "tömb/0"
      ]
    },
    {
      "cell_type": "code",
      "execution_count": null,
      "metadata": {
        "colab": {
          "base_uri": "https://localhost:8080/"
        },
        "id": "AVUc09gl9zQ5",
        "outputId": "644d953f-0eae-4a2b-c36f-2bc5b6cde19e"
      },
      "outputs": [
        {
          "output_type": "stream",
          "name": "stderr",
          "text": [
            "<ipython-input-229-5c8eaafe4fc3>:4: RuntimeWarning: divide by zero encountered in divide\n",
            "  1/tömb\n"
          ]
        },
        {
          "output_type": "execute_result",
          "data": {
            "text/plain": [
              "array([       inf, 1.        , 0.5       , 0.33333333, 0.25      ,\n",
              "       0.2       , 0.16666667, 0.14285714, 0.125     , 0.11111111])"
            ]
          },
          "metadata": {},
          "execution_count": 229
        }
      ],
      "source": [
        "# Nullával való osztás. Warning és nem hiba!!\n",
        "# Érték helyettesítése: inf\n",
        "\n",
        "1/tömb"
      ]
    },
    {
      "cell_type": "markdown",
      "metadata": {
        "id": "nT_lyPZU9zQ5"
      },
      "source": [
        "### Univerzális függvények\n",
        "\n",
        "A Numpy számos univerzális függvénnyel rendelkezik: [universal array functions](https://numpy.org/doc/stable/reference/ufuncs.html).\n",
        "\n",
        "Néhány ezek közül:"
      ]
    },
    {
      "cell_type": "code",
      "execution_count": null,
      "metadata": {
        "colab": {
          "base_uri": "https://localhost:8080/"
        },
        "id": "Z0jsjakI9zQ5",
        "outputId": "1d8877a2-0320-4d24-c250-1e3597566bdd"
      },
      "outputs": [
        {
          "output_type": "execute_result",
          "data": {
            "text/plain": [
              "array([0.        , 1.        , 1.41421356, 1.73205081, 2.        ,\n",
              "       2.23606798, 2.44948974, 2.64575131, 2.82842712, 3.        ])"
            ]
          },
          "metadata": {},
          "execution_count": 230
        }
      ],
      "source": [
        "#Négyzetgyökvonás\n",
        "np.sqrt(tömb)"
      ]
    },
    {
      "cell_type": "code",
      "execution_count": null,
      "metadata": {
        "colab": {
          "base_uri": "https://localhost:8080/"
        },
        "id": "sN6tI5xn9zQ5",
        "outputId": "683bc642-2ee9-4fe9-d1ca-6bdfb4bafc3c"
      },
      "outputs": [
        {
          "output_type": "execute_result",
          "data": {
            "text/plain": [
              "array([1.00000000e+00, 2.71828183e+00, 7.38905610e+00, 2.00855369e+01,\n",
              "       5.45981500e+01, 1.48413159e+02, 4.03428793e+02, 1.09663316e+03,\n",
              "       2.98095799e+03, 8.10308393e+03])"
            ]
          },
          "metadata": {},
          "execution_count": 231
        }
      ],
      "source": [
        "#Exponenciális számítás\n",
        "np.exp(tömb)"
      ]
    },
    {
      "cell_type": "code",
      "execution_count": null,
      "metadata": {
        "colab": {
          "base_uri": "https://localhost:8080/"
        },
        "id": "5FCA_RZN9zQ5",
        "outputId": "1ebc02e9-38f3-4952-ec90-4fd7c9e8a6ea"
      },
      "outputs": [
        {
          "output_type": "execute_result",
          "data": {
            "text/plain": [
              "9"
            ]
          },
          "metadata": {},
          "execution_count": 232
        }
      ],
      "source": [
        "#Maximum érték meghatározása\n",
        "np.max(tömb) #azonos mint tömb.max()"
      ]
    },
    {
      "cell_type": "code",
      "execution_count": null,
      "metadata": {
        "colab": {
          "base_uri": "https://localhost:8080/"
        },
        "id": "6wryWhvj9zQ5",
        "outputId": "1c3a998a-4171-44ca-e934-f0fe5c3e07ec"
      },
      "outputs": [
        {
          "output_type": "execute_result",
          "data": {
            "text/plain": [
              "array([ 0.        ,  0.84147098,  0.90929743,  0.14112001, -0.7568025 ,\n",
              "       -0.95892427, -0.2794155 ,  0.6569866 ,  0.98935825,  0.41211849])"
            ]
          },
          "metadata": {},
          "execution_count": 233
        }
      ],
      "source": [
        "np.sin(tömb)"
      ]
    },
    {
      "cell_type": "code",
      "execution_count": null,
      "metadata": {
        "colab": {
          "base_uri": "https://localhost:8080/"
        },
        "id": "q9qHagUI9zQ6",
        "outputId": "39fda6fe-f7ca-41df-8af9-c1e6698a514f"
      },
      "outputs": [
        {
          "output_type": "stream",
          "name": "stderr",
          "text": [
            "<ipython-input-234-a0e0ccb26a85>:1: RuntimeWarning: divide by zero encountered in log\n",
            "  np.log(tömb)\n"
          ]
        },
        {
          "output_type": "execute_result",
          "data": {
            "text/plain": [
              "array([      -inf, 0.        , 0.69314718, 1.09861229, 1.38629436,\n",
              "       1.60943791, 1.79175947, 1.94591015, 2.07944154, 2.19722458])"
            ]
          },
          "metadata": {},
          "execution_count": 234
        }
      ],
      "source": [
        "np.log(tömb)"
      ]
    },
    {
      "cell_type": "markdown",
      "metadata": {
        "id": "VvDAlUib9zQ6"
      },
      "source": [
        "## Numpy objektumok mentése és beolvasása"
      ]
    },
    {
      "cell_type": "code",
      "execution_count": null,
      "metadata": {
        "colab": {
          "base_uri": "https://localhost:8080/"
        },
        "id": "Mj_B7dEk9zQ6",
        "outputId": "6b67921e-fc6f-4daa-db48-daab6ced2279"
      },
      "outputs": [
        {
          "output_type": "execute_result",
          "data": {
            "text/plain": [
              "array([[ 5, 10, 15],\n",
              "       [20, 25, 30],\n",
              "       [35, 40, 45]])"
            ]
          },
          "metadata": {},
          "execution_count": 236
        }
      ],
      "source": [
        "mátrix"
      ]
    },
    {
      "cell_type": "code",
      "execution_count": null,
      "metadata": {
        "id": "fPu-DL0e9zQ6"
      },
      "outputs": [],
      "source": [
        "# Mentés 'xxx.npy' néven\n",
        "np.save('xxx',mátrix)"
      ]
    },
    {
      "cell_type": "code",
      "execution_count": null,
      "metadata": {
        "id": "9-plLWot9zQ7"
      },
      "outputs": [],
      "source": [
        "# Beolvasás .npy fájlból\n",
        "npy = np.load('xxx.npy')"
      ]
    },
    {
      "cell_type": "code",
      "execution_count": null,
      "metadata": {
        "colab": {
          "base_uri": "https://localhost:8080/"
        },
        "id": "2o3otWuu9zQ7",
        "outputId": "84bf7a18-51eb-4225-d6a9-37e1057f3282"
      },
      "outputs": [
        {
          "output_type": "execute_result",
          "data": {
            "text/plain": [
              "array([[ 5, 10, 15],\n",
              "       [20, 25, 30],\n",
              "       [35, 40, 45]])"
            ]
          },
          "metadata": {},
          "execution_count": 239
        }
      ],
      "source": [
        "npy"
      ]
    },
    {
      "cell_type": "code",
      "execution_count": null,
      "metadata": {
        "id": "p4mNrLam9zQ7"
      },
      "outputs": [],
      "source": [
        "# Mentés .csv fájlként\n",
        "np.savetxt('xxx.csv', mátrix)"
      ]
    },
    {
      "cell_type": "code",
      "execution_count": null,
      "metadata": {
        "id": "UNY8eKKc9zQ7"
      },
      "outputs": [],
      "source": [
        "# Beolvasás .csv fájlból\n",
        "csv = np.loadtxt('xxx.csv')"
      ]
    },
    {
      "cell_type": "code",
      "execution_count": null,
      "metadata": {
        "colab": {
          "base_uri": "https://localhost:8080/"
        },
        "id": "F6y5s5eE9zQ7",
        "outputId": "e2945a79-b16d-4389-c83c-70c0b65364dd"
      },
      "outputs": [
        {
          "output_type": "execute_result",
          "data": {
            "text/plain": [
              "array([[ 5., 10., 15.],\n",
              "       [20., 25., 30.],\n",
              "       [35., 40., 45.]])"
            ]
          },
          "metadata": {},
          "execution_count": 244
        }
      ],
      "source": [
        "csv"
      ]
    },
    {
      "cell_type": "markdown",
      "metadata": {
        "id": "Zrqqq2gd9zQ7"
      },
      "source": [
        "## Numpy tömbön és Listán végzett műveletek sebességének összehasonlítása"
      ]
    },
    {
      "cell_type": "code",
      "execution_count": null,
      "metadata": {
        "id": "Eg9MErwG9zQ7"
      },
      "outputs": [],
      "source": [
        "lista = list(np.random.randint(0, 1000, 10000000))\n",
        "tömb = np.array(lista)"
      ]
    },
    {
      "cell_type": "code",
      "execution_count": null,
      "metadata": {
        "colab": {
          "base_uri": "https://localhost:8080/"
        },
        "id": "d0CMyRaR9zQ8",
        "outputId": "7a481c4c-edce-4526-f3ac-ff6a0537a470"
      },
      "outputs": [
        {
          "output_type": "stream",
          "name": "stdout",
          "text": [
            "1.183776617050171\n",
            "0.03905820846557617\n"
          ]
        }
      ],
      "source": [
        "import time\n",
        "# Lista elemeinek négyzete\n",
        "start = time.time()\n",
        "lista_négyzet = [elem**2 for elem in lista]\n",
        "end = time.time()\n",
        "lista_idő = end - start\n",
        "print(lista_idő)\n",
        "\n",
        "# Tömb elemeinek négyzete\n",
        "\n",
        "start = time.time()\n",
        "tömb_négyzet = tömb ** 2\n",
        "end = time.time()\n",
        "tömb_idő = end - start\n",
        "print(tömb_idő)"
      ]
    },
    {
      "cell_type": "code",
      "execution_count": null,
      "metadata": {
        "colab": {
          "base_uri": "https://localhost:8080/"
        },
        "id": "5de3RZdH9zQ8",
        "outputId": "50160511-fe2d-42bb-cd49-846bfbd438ed"
      },
      "outputs": [
        {
          "output_type": "stream",
          "name": "stdout",
          "text": [
            "30.308011134035723\n"
          ]
        }
      ],
      "source": [
        "arány = lista_idő / tömb_idő\n",
        "print(arány)"
      ]
    },
    {
      "cell_type": "markdown",
      "metadata": {
        "id": "K8VCwnXp9zQ8"
      },
      "source": [
        "---\n",
        "---\n",
        "***Feladat: BMI index meghatározása***\n",
        "\n",
        "Az adatok:\n",
        "|Név    |Kor    |Súly  |Magasság |\n",
        "|-------|-------|------|---------|\n",
        "|Anna   |34     |66    |1.65     |\n",
        "|Zsófia |25     |55    |1.64     |\n",
        "|János  |30     |86    |1.82     |\n",
        "|Péter  |32     |76    |1.70     |\n",
        "|Pál    |20     |68    |1.65     |\n",
        "|Júlia  |28     |58    |1.70     |\n",
        "\n",
        "- Készítsen numpy tömböt az adatokkal, majd írassa ki a tömböt.\n",
        "\n",
        "- Válassza ki a súly oszlopot (index alapján), majd írassa ki az értékeket.\n",
        "\n",
        "- Válassza ki a magasság oszlopot, majd írassa ki az értékeket.\n",
        "\n",
        "- Számolja ki a BMI értékeket: BMI = súly / magasság<sup>2</sup>, majd írassa ki 2 tizedesjegyig.\n",
        "\n",
        "Dokumentáció\n",
        "- Numpy adattípusok és konverzió: https://numpy.org/doc/stable/user/basics.types.html\n",
        "- Struktúrált tömbök: https://numpy.org/doc/stable/user/basics.rec.html"
      ]
    },
    {
      "cell_type": "code",
      "execution_count": 283,
      "metadata": {
        "id": "dywwXJTN9zQ8",
        "colab": {
          "base_uri": "https://localhost:8080/"
        },
        "outputId": "fa96b2a5-f133-47e4-96f5-2874a6cdf3e1"
      },
      "outputs": [
        {
          "output_type": "execute_result",
          "data": {
            "text/plain": [
              "array([['Súly'],\n",
              "       ['66'],\n",
              "       ['55'],\n",
              "       ['86'],\n",
              "       ['76'],\n",
              "       ['68'],\n",
              "       ['58']], dtype='<U32')"
            ]
          },
          "metadata": {},
          "execution_count": 283
        }
      ],
      "source": [
        "import numpy as np\n",
        "#Készítsen numpy tömböt az adatokkal, majd írassa ki a tömböt.\n",
        "tömb = np.array((['Név','Kor','Súly','Magasság'],\n",
        "                  ['Anna',34,66,1.65],\n",
        "                   ['Zsófia',25,55,1.64],\n",
        "                    ['János',30,86,1.82],\n",
        "                     ['Péter',32,76,1.70],\n",
        "                      ['Pál',20,68,1.65],\n",
        "                       ['Júlia',28,58,1.70]))\n",
        "tömb\n",
        "#Válassza ki a súly oszlopot (index alapján), majd írassa ki az értékeket.\n",
        "súly = (tömb[0:,2]).reshape(7,1)\n",
        "súly\n",
        "#Válassza ki a magasság oszlopot, majd írassa ki az értékeket.\n",
        "magasság = (tömb[0:,3:])\n",
        "magasság\n",
        "#Számolja ki a BMI értékeket: BMI = súly / magasság2, majd írassa ki 2 tizedesjegyig.\n",
        "\n",
        "BMI = súly / magasság**2"
      ]
    }
  ],
  "metadata": {
    "kernelspec": {
      "display_name": "Python 3 (ipykernel)",
      "language": "python",
      "name": "python3"
    },
    "language_info": {
      "codemirror_mode": {
        "name": "ipython",
        "version": 3
      },
      "file_extension": ".py",
      "mimetype": "text/x-python",
      "name": "python",
      "nbconvert_exporter": "python",
      "pygments_lexer": "ipython3",
      "version": "3.11.3"
    },
    "colab": {
      "provenance": [],
      "include_colab_link": true
    }
  },
  "nbformat": 4,
  "nbformat_minor": 0
}