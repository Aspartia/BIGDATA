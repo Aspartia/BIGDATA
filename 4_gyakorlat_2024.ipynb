{
  "cells": [
    {
      "cell_type": "markdown",
      "metadata": {
        "id": "view-in-github",
        "colab_type": "text"
      },
      "source": [
        "<a href=\"https://colab.research.google.com/github/Aspartia/BIGDATA/blob/main/4_gyakorlat_2024.ipynb\" target=\"_parent\"><img src=\"https://colab.research.google.com/assets/colab-badge.svg\" alt=\"Open In Colab\"/></a>"
      ]
    },
    {
      "cell_type": "markdown",
      "metadata": {
        "id": "i75Ez4xObYZe"
      },
      "source": [
        "<h1>Big Data algoritmusok és programozás - Python</h1>"
      ]
    },
    {
      "cell_type": "markdown",
      "source": [
        "# Párhuzamos feldolgozás - MapReduce - Mrjob #\n",
        "\n",
        "Google Colab"
      ],
      "metadata": {
        "id": "wBQ-yhVvYfZQ"
      }
    },
    {
      "cell_type": "markdown",
      "source": [
        "## 1. Az adathalmazok és vizsgálatuk"
      ],
      "metadata": {
        "id": "5DApPq3xXDxQ"
      }
    },
    {
      "cell_type": "markdown",
      "source": [
        "### `Salaries` adathalmaz"
      ],
      "metadata": {
        "id": "rie1Ezn4ce5M"
      }
    },
    {
      "cell_type": "markdown",
      "metadata": {
        "id": "dzLomTaubYZg"
      },
      "source": [
        "A `Salaries.csv` adathalmazt használjuk. Olvassuk be és készítsünk pandas DataFrame-et, majd vizsgáljuk meg az adathalmazt."
      ]
    },
    {
      "cell_type": "code",
      "execution_count": 34,
      "metadata": {
        "id": "fjja2qd2bYZh"
      },
      "outputs": [],
      "source": [
        "import pandas as pd"
      ]
    },
    {
      "cell_type": "code",
      "execution_count": 35,
      "metadata": {
        "id": "UFioLTHUbYZi"
      },
      "outputs": [],
      "source": [
        "df = pd.read_csv('Salaries.csv' )"
      ]
    },
    {
      "cell_type": "code",
      "execution_count": 36,
      "metadata": {
        "id": "Xy8vasz2bYZi",
        "colab": {
          "base_uri": "https://localhost:8080/",
          "height": 206
        },
        "outputId": "73db850d-dca3-4ae5-fc55-8088eb4a24ac"
      },
      "outputs": [
        {
          "output_type": "execute_result",
          "data": {
            "text/plain": [
              "   Id       EmployeeName                                        JobTitle  \\\n",
              "0   1     NATHANIEL FORD  GENERAL MANAGER-METROPOLITAN TRANSIT AUTHORITY   \n",
              "1   2       GARY JIMENEZ                 CAPTAIN III (POLICE DEPARTMENT)   \n",
              "2   3     ALBERT PARDINI                 CAPTAIN III (POLICE DEPARTMENT)   \n",
              "3   4  CHRISTOPHER CHONG            WIRE ROPE CABLE MAINTENANCE MECHANIC   \n",
              "4   5    PATRICK GARDNER    DEPUTY CHIEF OF DEPARTMENT,(FIRE DEPARTMENT)   \n",
              "\n",
              "     BasePay  OvertimePay   OtherPay  Benefits   TotalPay  TotalPayBenefits  \\\n",
              "0  167411.18         0.00  400184.25       NaN  567595.43         567595.43   \n",
              "1  155966.02    245131.88  137811.38       NaN  538909.28         538909.28   \n",
              "2  212739.13    106088.18   16452.60       NaN  335279.91         335279.91   \n",
              "3   77916.00     56120.71  198306.90       NaN  332343.61         332343.61   \n",
              "4  134401.60      9737.00  182234.59       NaN  326373.19         326373.19   \n",
              "\n",
              "     Year  Notes         Agency  Status  \n",
              "0  2011.0    NaN  San Francisco     NaN  \n",
              "1  2011.0    NaN  San Francisco     NaN  \n",
              "2  2011.0    NaN  San Francisco     NaN  \n",
              "3  2011.0    NaN  San Francisco     NaN  \n",
              "4  2011.0    NaN  San Francisco     NaN  "
            ],
            "text/html": [
              "\n",
              "  <div id=\"df-5245dc1c-98ee-4872-8f4d-164c2fb5f04d\" class=\"colab-df-container\">\n",
              "    <div>\n",
              "<style scoped>\n",
              "    .dataframe tbody tr th:only-of-type {\n",
              "        vertical-align: middle;\n",
              "    }\n",
              "\n",
              "    .dataframe tbody tr th {\n",
              "        vertical-align: top;\n",
              "    }\n",
              "\n",
              "    .dataframe thead th {\n",
              "        text-align: right;\n",
              "    }\n",
              "</style>\n",
              "<table border=\"1\" class=\"dataframe\">\n",
              "  <thead>\n",
              "    <tr style=\"text-align: right;\">\n",
              "      <th></th>\n",
              "      <th>Id</th>\n",
              "      <th>EmployeeName</th>\n",
              "      <th>JobTitle</th>\n",
              "      <th>BasePay</th>\n",
              "      <th>OvertimePay</th>\n",
              "      <th>OtherPay</th>\n",
              "      <th>Benefits</th>\n",
              "      <th>TotalPay</th>\n",
              "      <th>TotalPayBenefits</th>\n",
              "      <th>Year</th>\n",
              "      <th>Notes</th>\n",
              "      <th>Agency</th>\n",
              "      <th>Status</th>\n",
              "    </tr>\n",
              "  </thead>\n",
              "  <tbody>\n",
              "    <tr>\n",
              "      <th>0</th>\n",
              "      <td>1</td>\n",
              "      <td>NATHANIEL FORD</td>\n",
              "      <td>GENERAL MANAGER-METROPOLITAN TRANSIT AUTHORITY</td>\n",
              "      <td>167411.18</td>\n",
              "      <td>0.00</td>\n",
              "      <td>400184.25</td>\n",
              "      <td>NaN</td>\n",
              "      <td>567595.43</td>\n",
              "      <td>567595.43</td>\n",
              "      <td>2011.0</td>\n",
              "      <td>NaN</td>\n",
              "      <td>San Francisco</td>\n",
              "      <td>NaN</td>\n",
              "    </tr>\n",
              "    <tr>\n",
              "      <th>1</th>\n",
              "      <td>2</td>\n",
              "      <td>GARY JIMENEZ</td>\n",
              "      <td>CAPTAIN III (POLICE DEPARTMENT)</td>\n",
              "      <td>155966.02</td>\n",
              "      <td>245131.88</td>\n",
              "      <td>137811.38</td>\n",
              "      <td>NaN</td>\n",
              "      <td>538909.28</td>\n",
              "      <td>538909.28</td>\n",
              "      <td>2011.0</td>\n",
              "      <td>NaN</td>\n",
              "      <td>San Francisco</td>\n",
              "      <td>NaN</td>\n",
              "    </tr>\n",
              "    <tr>\n",
              "      <th>2</th>\n",
              "      <td>3</td>\n",
              "      <td>ALBERT PARDINI</td>\n",
              "      <td>CAPTAIN III (POLICE DEPARTMENT)</td>\n",
              "      <td>212739.13</td>\n",
              "      <td>106088.18</td>\n",
              "      <td>16452.60</td>\n",
              "      <td>NaN</td>\n",
              "      <td>335279.91</td>\n",
              "      <td>335279.91</td>\n",
              "      <td>2011.0</td>\n",
              "      <td>NaN</td>\n",
              "      <td>San Francisco</td>\n",
              "      <td>NaN</td>\n",
              "    </tr>\n",
              "    <tr>\n",
              "      <th>3</th>\n",
              "      <td>4</td>\n",
              "      <td>CHRISTOPHER CHONG</td>\n",
              "      <td>WIRE ROPE CABLE MAINTENANCE MECHANIC</td>\n",
              "      <td>77916.00</td>\n",
              "      <td>56120.71</td>\n",
              "      <td>198306.90</td>\n",
              "      <td>NaN</td>\n",
              "      <td>332343.61</td>\n",
              "      <td>332343.61</td>\n",
              "      <td>2011.0</td>\n",
              "      <td>NaN</td>\n",
              "      <td>San Francisco</td>\n",
              "      <td>NaN</td>\n",
              "    </tr>\n",
              "    <tr>\n",
              "      <th>4</th>\n",
              "      <td>5</td>\n",
              "      <td>PATRICK GARDNER</td>\n",
              "      <td>DEPUTY CHIEF OF DEPARTMENT,(FIRE DEPARTMENT)</td>\n",
              "      <td>134401.60</td>\n",
              "      <td>9737.00</td>\n",
              "      <td>182234.59</td>\n",
              "      <td>NaN</td>\n",
              "      <td>326373.19</td>\n",
              "      <td>326373.19</td>\n",
              "      <td>2011.0</td>\n",
              "      <td>NaN</td>\n",
              "      <td>San Francisco</td>\n",
              "      <td>NaN</td>\n",
              "    </tr>\n",
              "  </tbody>\n",
              "</table>\n",
              "</div>\n",
              "    <div class=\"colab-df-buttons\">\n",
              "\n",
              "  <div class=\"colab-df-container\">\n",
              "    <button class=\"colab-df-convert\" onclick=\"convertToInteractive('df-5245dc1c-98ee-4872-8f4d-164c2fb5f04d')\"\n",
              "            title=\"Convert this dataframe to an interactive table.\"\n",
              "            style=\"display:none;\">\n",
              "\n",
              "  <svg xmlns=\"http://www.w3.org/2000/svg\" height=\"24px\" viewBox=\"0 -960 960 960\">\n",
              "    <path d=\"M120-120v-720h720v720H120Zm60-500h600v-160H180v160Zm220 220h160v-160H400v160Zm0 220h160v-160H400v160ZM180-400h160v-160H180v160Zm440 0h160v-160H620v160ZM180-180h160v-160H180v160Zm440 0h160v-160H620v160Z\"/>\n",
              "  </svg>\n",
              "    </button>\n",
              "\n",
              "  <style>\n",
              "    .colab-df-container {\n",
              "      display:flex;\n",
              "      gap: 12px;\n",
              "    }\n",
              "\n",
              "    .colab-df-convert {\n",
              "      background-color: #E8F0FE;\n",
              "      border: none;\n",
              "      border-radius: 50%;\n",
              "      cursor: pointer;\n",
              "      display: none;\n",
              "      fill: #1967D2;\n",
              "      height: 32px;\n",
              "      padding: 0 0 0 0;\n",
              "      width: 32px;\n",
              "    }\n",
              "\n",
              "    .colab-df-convert:hover {\n",
              "      background-color: #E2EBFA;\n",
              "      box-shadow: 0px 1px 2px rgba(60, 64, 67, 0.3), 0px 1px 3px 1px rgba(60, 64, 67, 0.15);\n",
              "      fill: #174EA6;\n",
              "    }\n",
              "\n",
              "    .colab-df-buttons div {\n",
              "      margin-bottom: 4px;\n",
              "    }\n",
              "\n",
              "    [theme=dark] .colab-df-convert {\n",
              "      background-color: #3B4455;\n",
              "      fill: #D2E3FC;\n",
              "    }\n",
              "\n",
              "    [theme=dark] .colab-df-convert:hover {\n",
              "      background-color: #434B5C;\n",
              "      box-shadow: 0px 1px 3px 1px rgba(0, 0, 0, 0.15);\n",
              "      filter: drop-shadow(0px 1px 2px rgba(0, 0, 0, 0.3));\n",
              "      fill: #FFFFFF;\n",
              "    }\n",
              "  </style>\n",
              "\n",
              "    <script>\n",
              "      const buttonEl =\n",
              "        document.querySelector('#df-5245dc1c-98ee-4872-8f4d-164c2fb5f04d button.colab-df-convert');\n",
              "      buttonEl.style.display =\n",
              "        google.colab.kernel.accessAllowed ? 'block' : 'none';\n",
              "\n",
              "      async function convertToInteractive(key) {\n",
              "        const element = document.querySelector('#df-5245dc1c-98ee-4872-8f4d-164c2fb5f04d');\n",
              "        const dataTable =\n",
              "          await google.colab.kernel.invokeFunction('convertToInteractive',\n",
              "                                                    [key], {});\n",
              "        if (!dataTable) return;\n",
              "\n",
              "        const docLinkHtml = 'Like what you see? Visit the ' +\n",
              "          '<a target=\"_blank\" href=https://colab.research.google.com/notebooks/data_table.ipynb>data table notebook</a>'\n",
              "          + ' to learn more about interactive tables.';\n",
              "        element.innerHTML = '';\n",
              "        dataTable['output_type'] = 'display_data';\n",
              "        await google.colab.output.renderOutput(dataTable, element);\n",
              "        const docLink = document.createElement('div');\n",
              "        docLink.innerHTML = docLinkHtml;\n",
              "        element.appendChild(docLink);\n",
              "      }\n",
              "    </script>\n",
              "  </div>\n",
              "\n",
              "\n",
              "<div id=\"df-41fbc196-2e6f-41a5-99ff-2d8f9cd687ff\">\n",
              "  <button class=\"colab-df-quickchart\" onclick=\"quickchart('df-41fbc196-2e6f-41a5-99ff-2d8f9cd687ff')\"\n",
              "            title=\"Suggest charts\"\n",
              "            style=\"display:none;\">\n",
              "\n",
              "<svg xmlns=\"http://www.w3.org/2000/svg\" height=\"24px\"viewBox=\"0 0 24 24\"\n",
              "     width=\"24px\">\n",
              "    <g>\n",
              "        <path d=\"M19 3H5c-1.1 0-2 .9-2 2v14c0 1.1.9 2 2 2h14c1.1 0 2-.9 2-2V5c0-1.1-.9-2-2-2zM9 17H7v-7h2v7zm4 0h-2V7h2v10zm4 0h-2v-4h2v4z\"/>\n",
              "    </g>\n",
              "</svg>\n",
              "  </button>\n",
              "\n",
              "<style>\n",
              "  .colab-df-quickchart {\n",
              "      --bg-color: #E8F0FE;\n",
              "      --fill-color: #1967D2;\n",
              "      --hover-bg-color: #E2EBFA;\n",
              "      --hover-fill-color: #174EA6;\n",
              "      --disabled-fill-color: #AAA;\n",
              "      --disabled-bg-color: #DDD;\n",
              "  }\n",
              "\n",
              "  [theme=dark] .colab-df-quickchart {\n",
              "      --bg-color: #3B4455;\n",
              "      --fill-color: #D2E3FC;\n",
              "      --hover-bg-color: #434B5C;\n",
              "      --hover-fill-color: #FFFFFF;\n",
              "      --disabled-bg-color: #3B4455;\n",
              "      --disabled-fill-color: #666;\n",
              "  }\n",
              "\n",
              "  .colab-df-quickchart {\n",
              "    background-color: var(--bg-color);\n",
              "    border: none;\n",
              "    border-radius: 50%;\n",
              "    cursor: pointer;\n",
              "    display: none;\n",
              "    fill: var(--fill-color);\n",
              "    height: 32px;\n",
              "    padding: 0;\n",
              "    width: 32px;\n",
              "  }\n",
              "\n",
              "  .colab-df-quickchart:hover {\n",
              "    background-color: var(--hover-bg-color);\n",
              "    box-shadow: 0 1px 2px rgba(60, 64, 67, 0.3), 0 1px 3px 1px rgba(60, 64, 67, 0.15);\n",
              "    fill: var(--button-hover-fill-color);\n",
              "  }\n",
              "\n",
              "  .colab-df-quickchart-complete:disabled,\n",
              "  .colab-df-quickchart-complete:disabled:hover {\n",
              "    background-color: var(--disabled-bg-color);\n",
              "    fill: var(--disabled-fill-color);\n",
              "    box-shadow: none;\n",
              "  }\n",
              "\n",
              "  .colab-df-spinner {\n",
              "    border: 2px solid var(--fill-color);\n",
              "    border-color: transparent;\n",
              "    border-bottom-color: var(--fill-color);\n",
              "    animation:\n",
              "      spin 1s steps(1) infinite;\n",
              "  }\n",
              "\n",
              "  @keyframes spin {\n",
              "    0% {\n",
              "      border-color: transparent;\n",
              "      border-bottom-color: var(--fill-color);\n",
              "      border-left-color: var(--fill-color);\n",
              "    }\n",
              "    20% {\n",
              "      border-color: transparent;\n",
              "      border-left-color: var(--fill-color);\n",
              "      border-top-color: var(--fill-color);\n",
              "    }\n",
              "    30% {\n",
              "      border-color: transparent;\n",
              "      border-left-color: var(--fill-color);\n",
              "      border-top-color: var(--fill-color);\n",
              "      border-right-color: var(--fill-color);\n",
              "    }\n",
              "    40% {\n",
              "      border-color: transparent;\n",
              "      border-right-color: var(--fill-color);\n",
              "      border-top-color: var(--fill-color);\n",
              "    }\n",
              "    60% {\n",
              "      border-color: transparent;\n",
              "      border-right-color: var(--fill-color);\n",
              "    }\n",
              "    80% {\n",
              "      border-color: transparent;\n",
              "      border-right-color: var(--fill-color);\n",
              "      border-bottom-color: var(--fill-color);\n",
              "    }\n",
              "    90% {\n",
              "      border-color: transparent;\n",
              "      border-bottom-color: var(--fill-color);\n",
              "    }\n",
              "  }\n",
              "</style>\n",
              "\n",
              "  <script>\n",
              "    async function quickchart(key) {\n",
              "      const quickchartButtonEl =\n",
              "        document.querySelector('#' + key + ' button');\n",
              "      quickchartButtonEl.disabled = true;  // To prevent multiple clicks.\n",
              "      quickchartButtonEl.classList.add('colab-df-spinner');\n",
              "      try {\n",
              "        const charts = await google.colab.kernel.invokeFunction(\n",
              "            'suggestCharts', [key], {});\n",
              "      } catch (error) {\n",
              "        console.error('Error during call to suggestCharts:', error);\n",
              "      }\n",
              "      quickchartButtonEl.classList.remove('colab-df-spinner');\n",
              "      quickchartButtonEl.classList.add('colab-df-quickchart-complete');\n",
              "    }\n",
              "    (() => {\n",
              "      let quickchartButtonEl =\n",
              "        document.querySelector('#df-41fbc196-2e6f-41a5-99ff-2d8f9cd687ff button');\n",
              "      quickchartButtonEl.style.display =\n",
              "        google.colab.kernel.accessAllowed ? 'block' : 'none';\n",
              "    })();\n",
              "  </script>\n",
              "</div>\n",
              "    </div>\n",
              "  </div>\n"
            ],
            "application/vnd.google.colaboratory.intrinsic+json": {
              "type": "dataframe",
              "variable_name": "df",
              "summary": "{\n  \"name\": \"df\",\n  \"rows\": 9854,\n  \"fields\": [\n    {\n      \"column\": \"Id\",\n      \"properties\": {\n        \"dtype\": \"number\",\n        \"std\": 2844,\n        \"min\": 1,\n        \"max\": 9854,\n        \"num_unique_values\": 9854,\n        \"samples\": [\n          8354,\n          9844,\n          1852\n        ],\n        \"semantic_type\": \"\",\n        \"description\": \"\"\n      }\n    },\n    {\n      \"column\": \"EmployeeName\",\n      \"properties\": {\n        \"dtype\": \"string\",\n        \"num_unique_values\": 9698,\n        \"samples\": [\n          \"MANUEL ROSALES\",\n          \"JAMES BARBER\",\n          \"ROSANA SORIANO\"\n        ],\n        \"semantic_type\": \"\",\n        \"description\": \"\"\n      }\n    },\n    {\n      \"column\": \"JobTitle\",\n      \"properties\": {\n        \"dtype\": \"category\",\n        \"num_unique_values\": 473,\n        \"samples\": [\n          \"POLICE OFFICER I\",\n          \"DIAGNOSTIC IMAGING TECH II\",\n          \"MANAGER VII\"\n        ],\n        \"semantic_type\": \"\",\n        \"description\": \"\"\n      }\n    },\n    {\n      \"column\": \"BasePay\",\n      \"properties\": {\n        \"dtype\": \"number\",\n        \"std\": 25934.343900573367,\n        \"min\": 0.0,\n        \"max\": 294580.02,\n        \"num_unique_values\": 6336,\n        \"samples\": [\n          149252.0,\n          92193.35,\n          105040.62\n        ],\n        \"semantic_type\": \"\",\n        \"description\": \"\"\n      }\n    },\n    {\n      \"column\": \"OvertimePay\",\n      \"properties\": {\n        \"dtype\": \"number\",\n        \"std\": 16958.34100736669,\n        \"min\": 0.0,\n        \"max\": 245131.88,\n        \"num_unique_values\": 6120,\n        \"samples\": [\n          17287.6,\n          12750.27,\n          29424.03\n        ],\n        \"semantic_type\": \"\",\n        \"description\": \"\"\n      }\n    },\n    {\n      \"column\": \"OtherPay\",\n      \"properties\": {\n        \"dtype\": \"number\",\n        \"std\": 12833.801487975597,\n        \"min\": 0.0,\n        \"max\": 400184.25,\n        \"num_unique_values\": 7545,\n        \"samples\": [\n          6871.77,\n          14966.3,\n          5619.12\n        ],\n        \"semantic_type\": \"\",\n        \"description\": \"\"\n      }\n    },\n    {\n      \"column\": \"Benefits\",\n      \"properties\": {\n        \"dtype\": \"number\",\n        \"std\": null,\n        \"min\": null,\n        \"max\": null,\n        \"num_unique_values\": 0,\n        \"samples\": [],\n        \"semantic_type\": \"\",\n        \"description\": \"\"\n      }\n    },\n    {\n      \"column\": \"TotalPay\",\n      \"properties\": {\n        \"dtype\": \"number\",\n        \"std\": 29090.502654946038,\n        \"min\": 98061.21,\n        \"max\": 567595.43,\n        \"num_unique_values\": 9196,\n        \"samples\": [],\n        \"semantic_type\": \"\",\n        \"description\": \"\"\n      }\n    },\n    {\n      \"column\": \"TotalPayBenefits\",\n      \"properties\": {\n        \"dtype\": \"number\",\n        \"std\": 29090.502654946038,\n        \"min\": 98061.21,\n        \"max\": 567595.43,\n        \"num_unique_values\": 9196,\n        \"samples\": [],\n        \"semantic_type\": \"\",\n        \"description\": \"\"\n      }\n    },\n    {\n      \"column\": \"Year\",\n      \"properties\": {\n        \"dtype\": \"number\",\n        \"std\": 0.0,\n        \"min\": 2011.0,\n        \"max\": 2011.0,\n        \"num_unique_values\": 1,\n        \"samples\": [],\n        \"semantic_type\": \"\",\n        \"description\": \"\"\n      }\n    },\n    {\n      \"column\": \"Notes\",\n      \"properties\": {\n        \"dtype\": \"number\",\n        \"std\": null,\n        \"min\": null,\n        \"max\": null,\n        \"num_unique_values\": 0,\n        \"samples\": [],\n        \"semantic_type\": \"\",\n        \"description\": \"\"\n      }\n    },\n    {\n      \"column\": \"Agency\",\n      \"properties\": {\n        \"dtype\": \"category\",\n        \"num_unique_values\": 1,\n        \"samples\": [],\n        \"semantic_type\": \"\",\n        \"description\": \"\"\n      }\n    },\n    {\n      \"column\": \"Status\",\n      \"properties\": {\n        \"dtype\": \"number\",\n        \"std\": null,\n        \"min\": null,\n        \"max\": null,\n        \"num_unique_values\": 0,\n        \"samples\": [],\n        \"semantic_type\": \"\",\n        \"description\": \"\"\n      }\n    }\n  ]\n}"
            }
          },
          "metadata": {},
          "execution_count": 36
        }
      ],
      "source": [
        "df.head()"
      ]
    },
    {
      "cell_type": "code",
      "execution_count": 37,
      "metadata": {
        "id": "Z4hSxh3XbYZj",
        "colab": {
          "base_uri": "https://localhost:8080/"
        },
        "outputId": "ba0bcd46-df9b-4c2e-a058-04282d979d8d"
      },
      "outputs": [
        {
          "output_type": "execute_result",
          "data": {
            "text/plain": [
              "(9854, 13)"
            ]
          },
          "metadata": {},
          "execution_count": 37
        }
      ],
      "source": [
        "df.shape"
      ]
    },
    {
      "cell_type": "markdown",
      "metadata": {
        "id": "YRrEd_YqbYZk"
      },
      "source": [
        "Számoljuk meg, hányszor fordul elő egy adott string (`'MANAGER'`) egy adott oszlopban (`'JobTitle'`). Ehhez használhatjuk a `Series.str.count()` metódust."
      ]
    },
    {
      "cell_type": "code",
      "execution_count": 38,
      "metadata": {
        "id": "aRTyngR5bYZk",
        "colab": {
          "base_uri": "https://localhost:8080/"
        },
        "outputId": "38964b1d-0f95-4e40-f0f7-0b5c33b58005"
      },
      "outputs": [
        {
          "output_type": "execute_result",
          "data": {
            "text/plain": [
              "0       1.0\n",
              "1       0.0\n",
              "2       0.0\n",
              "3       0.0\n",
              "4       0.0\n",
              "       ... \n",
              "9849    0.0\n",
              "9850    0.0\n",
              "9851    0.0\n",
              "9852    0.0\n",
              "9853    NaN\n",
              "Name: JobTitle, Length: 9854, dtype: float64"
            ]
          },
          "metadata": {},
          "execution_count": 38
        }
      ],
      "source": [
        "df['JobTitle'].str.count('MANAGER')"
      ]
    },
    {
      "cell_type": "code",
      "execution_count": 39,
      "metadata": {
        "id": "FfMlVKHSbYZl"
      },
      "outputs": [],
      "source": [
        "total_MANAGER_occurrences = df['JobTitle'].str.count('MANAGER').sum()"
      ]
    },
    {
      "cell_type": "code",
      "execution_count": 40,
      "metadata": {
        "id": "DbmoJN7pbYZl",
        "colab": {
          "base_uri": "https://localhost:8080/"
        },
        "outputId": "2a3f37d5-5468-4b33-c7a4-7e3d48063a0d"
      },
      "outputs": [
        {
          "output_type": "execute_result",
          "data": {
            "text/plain": [
              "821.0"
            ]
          },
          "metadata": {},
          "execution_count": 40
        }
      ],
      "source": [
        "total_MANAGER_occurrences"
      ]
    },
    {
      "cell_type": "markdown",
      "metadata": {
        "id": "CARO_u8ebYZm"
      },
      "source": [
        "Oldjuk meg az előző feladatot case insensitive módon (transzformáljuk kisbetűssé a `JobTitle` oszlop értékeit)."
      ]
    },
    {
      "cell_type": "code",
      "source": [
        "\n",
        "df['JobTitle'] = df['JobTitle'].str.lower()\n"
      ],
      "metadata": {
        "id": "fk8AYcnckHju"
      },
      "execution_count": 41,
      "outputs": []
    },
    {
      "cell_type": "code",
      "source": [
        "total_manager_occurrences = df['JobTitle'].str.count('manager').sum()"
      ],
      "metadata": {
        "id": "-z7-ur00Gexn"
      },
      "execution_count": 42,
      "outputs": []
    },
    {
      "cell_type": "markdown",
      "metadata": {
        "id": "81BbEnA6bYZn"
      },
      "source": [
        "Készítsünk egy dictionary-t, amelyben a különböző beosztások előfordulását adjuk meg."
      ]
    },
    {
      "cell_type": "code",
      "execution_count": 43,
      "metadata": {
        "id": "QAQAtYmmbYZn"
      },
      "outputs": [],
      "source": [
        "frequency = {}"
      ]
    },
    {
      "cell_type": "code",
      "execution_count": 44,
      "metadata": {
        "id": "JVNb67bbbYZn"
      },
      "outputs": [],
      "source": [
        "frequency['manager'] = df['JobTitle'].str.count('manager').sum()\n",
        "frequency['deputy chief'] = df['JobTitle'].str.count('deputy chief').sum()\n",
        "frequency['captain'] = df['JobTitle'].str.count('captain').sum()"
      ]
    },
    {
      "cell_type": "code",
      "execution_count": 46,
      "metadata": {
        "id": "om8YcAiTbYZo",
        "colab": {
          "base_uri": "https://localhost:8080/"
        },
        "outputId": "a2f756af-34db-4039-b14e-b60b09e5fc2f"
      },
      "outputs": [
        {
          "output_type": "execute_result",
          "data": {
            "text/plain": [
              "{'manager': 821.0, 'deputy chief': 13.0, 'captain': 137.0}"
            ]
          },
          "metadata": {},
          "execution_count": 46
        }
      ],
      "source": [
        "frequency"
      ]
    },
    {
      "cell_type": "markdown",
      "metadata": {
        "id": "MHvfjadybYZo"
      },
      "source": [
        "### `Jobs` adathalmaz\n",
        "\n",
        "Készítsünk egy dictionary-t, amely a `Jobs.csv` fájlban található összes beosztás előfordulását tartalmazza.\n",
        "\n",
        "- Olvassuk be a `Jobs.csv` fájlt.\n",
        "- Készítsünk egy ciklust az összes a `Job` oszlopban levő beosztás gyakoriságának meghatározásához."
      ]
    },
    {
      "cell_type": "code",
      "execution_count": 47,
      "metadata": {
        "id": "S13MTQyKbYZo"
      },
      "outputs": [],
      "source": [
        "jobs = pd.read_csv('Jobs.csv')"
      ]
    },
    {
      "cell_type": "code",
      "execution_count": 48,
      "metadata": {
        "id": "8YQQX44RbYZp",
        "colab": {
          "base_uri": "https://localhost:8080/",
          "height": 300
        },
        "outputId": "55e65af3-237b-42a5-c00c-2454f475b6a1"
      },
      "outputs": [
        {
          "output_type": "execute_result",
          "data": {
            "text/plain": [
              "               Job\n",
              "0          manager\n",
              "1          captain\n",
              "2         director\n",
              "3        assistant\n",
              "4        inspector\n",
              "5    administrator\n",
              "6     deputy chief\n",
              "7  department head"
            ],
            "text/html": [
              "\n",
              "  <div id=\"df-a86540a2-57c7-400f-947c-eaae6db95657\" class=\"colab-df-container\">\n",
              "    <div>\n",
              "<style scoped>\n",
              "    .dataframe tbody tr th:only-of-type {\n",
              "        vertical-align: middle;\n",
              "    }\n",
              "\n",
              "    .dataframe tbody tr th {\n",
              "        vertical-align: top;\n",
              "    }\n",
              "\n",
              "    .dataframe thead th {\n",
              "        text-align: right;\n",
              "    }\n",
              "</style>\n",
              "<table border=\"1\" class=\"dataframe\">\n",
              "  <thead>\n",
              "    <tr style=\"text-align: right;\">\n",
              "      <th></th>\n",
              "      <th>Job</th>\n",
              "    </tr>\n",
              "  </thead>\n",
              "  <tbody>\n",
              "    <tr>\n",
              "      <th>0</th>\n",
              "      <td>manager</td>\n",
              "    </tr>\n",
              "    <tr>\n",
              "      <th>1</th>\n",
              "      <td>captain</td>\n",
              "    </tr>\n",
              "    <tr>\n",
              "      <th>2</th>\n",
              "      <td>director</td>\n",
              "    </tr>\n",
              "    <tr>\n",
              "      <th>3</th>\n",
              "      <td>assistant</td>\n",
              "    </tr>\n",
              "    <tr>\n",
              "      <th>4</th>\n",
              "      <td>inspector</td>\n",
              "    </tr>\n",
              "    <tr>\n",
              "      <th>5</th>\n",
              "      <td>administrator</td>\n",
              "    </tr>\n",
              "    <tr>\n",
              "      <th>6</th>\n",
              "      <td>deputy chief</td>\n",
              "    </tr>\n",
              "    <tr>\n",
              "      <th>7</th>\n",
              "      <td>department head</td>\n",
              "    </tr>\n",
              "  </tbody>\n",
              "</table>\n",
              "</div>\n",
              "    <div class=\"colab-df-buttons\">\n",
              "\n",
              "  <div class=\"colab-df-container\">\n",
              "    <button class=\"colab-df-convert\" onclick=\"convertToInteractive('df-a86540a2-57c7-400f-947c-eaae6db95657')\"\n",
              "            title=\"Convert this dataframe to an interactive table.\"\n",
              "            style=\"display:none;\">\n",
              "\n",
              "  <svg xmlns=\"http://www.w3.org/2000/svg\" height=\"24px\" viewBox=\"0 -960 960 960\">\n",
              "    <path d=\"M120-120v-720h720v720H120Zm60-500h600v-160H180v160Zm220 220h160v-160H400v160Zm0 220h160v-160H400v160ZM180-400h160v-160H180v160Zm440 0h160v-160H620v160ZM180-180h160v-160H180v160Zm440 0h160v-160H620v160Z\"/>\n",
              "  </svg>\n",
              "    </button>\n",
              "\n",
              "  <style>\n",
              "    .colab-df-container {\n",
              "      display:flex;\n",
              "      gap: 12px;\n",
              "    }\n",
              "\n",
              "    .colab-df-convert {\n",
              "      background-color: #E8F0FE;\n",
              "      border: none;\n",
              "      border-radius: 50%;\n",
              "      cursor: pointer;\n",
              "      display: none;\n",
              "      fill: #1967D2;\n",
              "      height: 32px;\n",
              "      padding: 0 0 0 0;\n",
              "      width: 32px;\n",
              "    }\n",
              "\n",
              "    .colab-df-convert:hover {\n",
              "      background-color: #E2EBFA;\n",
              "      box-shadow: 0px 1px 2px rgba(60, 64, 67, 0.3), 0px 1px 3px 1px rgba(60, 64, 67, 0.15);\n",
              "      fill: #174EA6;\n",
              "    }\n",
              "\n",
              "    .colab-df-buttons div {\n",
              "      margin-bottom: 4px;\n",
              "    }\n",
              "\n",
              "    [theme=dark] .colab-df-convert {\n",
              "      background-color: #3B4455;\n",
              "      fill: #D2E3FC;\n",
              "    }\n",
              "\n",
              "    [theme=dark] .colab-df-convert:hover {\n",
              "      background-color: #434B5C;\n",
              "      box-shadow: 0px 1px 3px 1px rgba(0, 0, 0, 0.15);\n",
              "      filter: drop-shadow(0px 1px 2px rgba(0, 0, 0, 0.3));\n",
              "      fill: #FFFFFF;\n",
              "    }\n",
              "  </style>\n",
              "\n",
              "    <script>\n",
              "      const buttonEl =\n",
              "        document.querySelector('#df-a86540a2-57c7-400f-947c-eaae6db95657 button.colab-df-convert');\n",
              "      buttonEl.style.display =\n",
              "        google.colab.kernel.accessAllowed ? 'block' : 'none';\n",
              "\n",
              "      async function convertToInteractive(key) {\n",
              "        const element = document.querySelector('#df-a86540a2-57c7-400f-947c-eaae6db95657');\n",
              "        const dataTable =\n",
              "          await google.colab.kernel.invokeFunction('convertToInteractive',\n",
              "                                                    [key], {});\n",
              "        if (!dataTable) return;\n",
              "\n",
              "        const docLinkHtml = 'Like what you see? Visit the ' +\n",
              "          '<a target=\"_blank\" href=https://colab.research.google.com/notebooks/data_table.ipynb>data table notebook</a>'\n",
              "          + ' to learn more about interactive tables.';\n",
              "        element.innerHTML = '';\n",
              "        dataTable['output_type'] = 'display_data';\n",
              "        await google.colab.output.renderOutput(dataTable, element);\n",
              "        const docLink = document.createElement('div');\n",
              "        docLink.innerHTML = docLinkHtml;\n",
              "        element.appendChild(docLink);\n",
              "      }\n",
              "    </script>\n",
              "  </div>\n",
              "\n",
              "\n",
              "<div id=\"df-2ccd3b04-9068-4ea4-a39d-26e3a1b2043f\">\n",
              "  <button class=\"colab-df-quickchart\" onclick=\"quickchart('df-2ccd3b04-9068-4ea4-a39d-26e3a1b2043f')\"\n",
              "            title=\"Suggest charts\"\n",
              "            style=\"display:none;\">\n",
              "\n",
              "<svg xmlns=\"http://www.w3.org/2000/svg\" height=\"24px\"viewBox=\"0 0 24 24\"\n",
              "     width=\"24px\">\n",
              "    <g>\n",
              "        <path d=\"M19 3H5c-1.1 0-2 .9-2 2v14c0 1.1.9 2 2 2h14c1.1 0 2-.9 2-2V5c0-1.1-.9-2-2-2zM9 17H7v-7h2v7zm4 0h-2V7h2v10zm4 0h-2v-4h2v4z\"/>\n",
              "    </g>\n",
              "</svg>\n",
              "  </button>\n",
              "\n",
              "<style>\n",
              "  .colab-df-quickchart {\n",
              "      --bg-color: #E8F0FE;\n",
              "      --fill-color: #1967D2;\n",
              "      --hover-bg-color: #E2EBFA;\n",
              "      --hover-fill-color: #174EA6;\n",
              "      --disabled-fill-color: #AAA;\n",
              "      --disabled-bg-color: #DDD;\n",
              "  }\n",
              "\n",
              "  [theme=dark] .colab-df-quickchart {\n",
              "      --bg-color: #3B4455;\n",
              "      --fill-color: #D2E3FC;\n",
              "      --hover-bg-color: #434B5C;\n",
              "      --hover-fill-color: #FFFFFF;\n",
              "      --disabled-bg-color: #3B4455;\n",
              "      --disabled-fill-color: #666;\n",
              "  }\n",
              "\n",
              "  .colab-df-quickchart {\n",
              "    background-color: var(--bg-color);\n",
              "    border: none;\n",
              "    border-radius: 50%;\n",
              "    cursor: pointer;\n",
              "    display: none;\n",
              "    fill: var(--fill-color);\n",
              "    height: 32px;\n",
              "    padding: 0;\n",
              "    width: 32px;\n",
              "  }\n",
              "\n",
              "  .colab-df-quickchart:hover {\n",
              "    background-color: var(--hover-bg-color);\n",
              "    box-shadow: 0 1px 2px rgba(60, 64, 67, 0.3), 0 1px 3px 1px rgba(60, 64, 67, 0.15);\n",
              "    fill: var(--button-hover-fill-color);\n",
              "  }\n",
              "\n",
              "  .colab-df-quickchart-complete:disabled,\n",
              "  .colab-df-quickchart-complete:disabled:hover {\n",
              "    background-color: var(--disabled-bg-color);\n",
              "    fill: var(--disabled-fill-color);\n",
              "    box-shadow: none;\n",
              "  }\n",
              "\n",
              "  .colab-df-spinner {\n",
              "    border: 2px solid var(--fill-color);\n",
              "    border-color: transparent;\n",
              "    border-bottom-color: var(--fill-color);\n",
              "    animation:\n",
              "      spin 1s steps(1) infinite;\n",
              "  }\n",
              "\n",
              "  @keyframes spin {\n",
              "    0% {\n",
              "      border-color: transparent;\n",
              "      border-bottom-color: var(--fill-color);\n",
              "      border-left-color: var(--fill-color);\n",
              "    }\n",
              "    20% {\n",
              "      border-color: transparent;\n",
              "      border-left-color: var(--fill-color);\n",
              "      border-top-color: var(--fill-color);\n",
              "    }\n",
              "    30% {\n",
              "      border-color: transparent;\n",
              "      border-left-color: var(--fill-color);\n",
              "      border-top-color: var(--fill-color);\n",
              "      border-right-color: var(--fill-color);\n",
              "    }\n",
              "    40% {\n",
              "      border-color: transparent;\n",
              "      border-right-color: var(--fill-color);\n",
              "      border-top-color: var(--fill-color);\n",
              "    }\n",
              "    60% {\n",
              "      border-color: transparent;\n",
              "      border-right-color: var(--fill-color);\n",
              "    }\n",
              "    80% {\n",
              "      border-color: transparent;\n",
              "      border-right-color: var(--fill-color);\n",
              "      border-bottom-color: var(--fill-color);\n",
              "    }\n",
              "    90% {\n",
              "      border-color: transparent;\n",
              "      border-bottom-color: var(--fill-color);\n",
              "    }\n",
              "  }\n",
              "</style>\n",
              "\n",
              "  <script>\n",
              "    async function quickchart(key) {\n",
              "      const quickchartButtonEl =\n",
              "        document.querySelector('#' + key + ' button');\n",
              "      quickchartButtonEl.disabled = true;  // To prevent multiple clicks.\n",
              "      quickchartButtonEl.classList.add('colab-df-spinner');\n",
              "      try {\n",
              "        const charts = await google.colab.kernel.invokeFunction(\n",
              "            'suggestCharts', [key], {});\n",
              "      } catch (error) {\n",
              "        console.error('Error during call to suggestCharts:', error);\n",
              "      }\n",
              "      quickchartButtonEl.classList.remove('colab-df-spinner');\n",
              "      quickchartButtonEl.classList.add('colab-df-quickchart-complete');\n",
              "    }\n",
              "    (() => {\n",
              "      let quickchartButtonEl =\n",
              "        document.querySelector('#df-2ccd3b04-9068-4ea4-a39d-26e3a1b2043f button');\n",
              "      quickchartButtonEl.style.display =\n",
              "        google.colab.kernel.accessAllowed ? 'block' : 'none';\n",
              "    })();\n",
              "  </script>\n",
              "</div>\n",
              "    </div>\n",
              "  </div>\n"
            ],
            "application/vnd.google.colaboratory.intrinsic+json": {
              "type": "dataframe",
              "variable_name": "jobs",
              "summary": "{\n  \"name\": \"jobs\",\n  \"rows\": 8,\n  \"fields\": [\n    {\n      \"column\": \"Job\",\n      \"properties\": {\n        \"dtype\": \"string\",\n        \"num_unique_values\": 8,\n        \"samples\": [\n          \"captain\",\n          \"administrator\",\n          \"manager\"\n        ],\n        \"semantic_type\": \"\",\n        \"description\": \"\"\n      }\n    }\n  ]\n}"
            }
          },
          "metadata": {},
          "execution_count": 48
        }
      ],
      "source": [
        "jobs"
      ]
    },
    {
      "cell_type": "code",
      "execution_count": 49,
      "metadata": {
        "id": "QDFilOAwbYZp"
      },
      "outputs": [],
      "source": [
        "frequency = {} #üres dictionary"
      ]
    },
    {
      "cell_type": "code",
      "execution_count": 50,
      "metadata": {
        "id": "ZCjEdQofbYZq"
      },
      "outputs": [],
      "source": [
        "for job_name in jobs['Job']:\n",
        "    frequency[job_name] = df['JobTitle'].str.count(job_name).sum()"
      ]
    },
    {
      "cell_type": "code",
      "execution_count": 51,
      "metadata": {
        "id": "YHs0280ObYZq",
        "colab": {
          "base_uri": "https://localhost:8080/"
        },
        "outputId": "4e395982-fbc2-445d-911a-3d883823a95a"
      },
      "outputs": [
        {
          "output_type": "execute_result",
          "data": {
            "text/plain": [
              "{'manager': 821.0,\n",
              " 'captain': 137.0,\n",
              " 'director': 152.0,\n",
              " 'assistant': 142.0,\n",
              " 'inspector': 417.0,\n",
              " 'administrator': 37.0,\n",
              " 'deputy chief': 13.0,\n",
              " 'department head': 36.0}"
            ]
          },
          "metadata": {},
          "execution_count": 51
        }
      ],
      "source": [
        "frequency"
      ]
    },
    {
      "cell_type": "markdown",
      "metadata": {
        "id": "5BaS6FM0bYZq"
      },
      "source": [
        "### `Count_jobs` függvény (beosztások előfordulásának megszámlálása)\n",
        "\n",
        "Készítsünk függvényt `count_jobs` néven a kódunkból, amelynek 2 argumentuma van:\n",
        "\n",
        "*   `data` az adatokat tartalmazó DataFrame és\n",
        "*   `jobs` a beosztásokat tartalmazó Series.\n",
        "\n",
        "\n"
      ]
    },
    {
      "cell_type": "code",
      "execution_count": 52,
      "metadata": {
        "id": "5C32ncOnbYZq"
      },
      "outputs": [],
      "source": [
        "def count_jobs(data,jobs):\n",
        "    frequency = {}\n",
        "    for job_name in jobs[\"Job\"]:\n",
        "        frequency[job_name] = data[\"JobTitle\"].str.count(job_name).sum()\n",
        "    return frequency"
      ]
    },
    {
      "cell_type": "code",
      "execution_count": 53,
      "metadata": {
        "id": "dCvctyXLbYZr",
        "colab": {
          "base_uri": "https://localhost:8080/"
        },
        "outputId": "a33b9e61-3c19-44ef-f6bd-97fb1e9dfa25"
      },
      "outputs": [
        {
          "output_type": "execute_result",
          "data": {
            "text/plain": [
              "{'manager': 821.0,\n",
              " 'captain': 137.0,\n",
              " 'director': 152.0,\n",
              " 'assistant': 142.0,\n",
              " 'inspector': 417.0,\n",
              " 'administrator': 37.0,\n",
              " 'deputy chief': 13.0,\n",
              " 'department head': 36.0}"
            ]
          },
          "metadata": {},
          "execution_count": 53
        }
      ],
      "source": [
        "freq = count_jobs(df,jobs)\n",
        "freq"
      ]
    },
    {
      "cell_type": "markdown",
      "metadata": {
        "id": "zCEdKibqI_Hm"
      },
      "source": [
        "## 2. Párhuzamos feldolgozás\n",
        "\n",
        "Valósítsuk meg mindezt párhuzamos feldolgozással."
      ]
    },
    {
      "cell_type": "markdown",
      "metadata": {
        "id": "O0iTJiU0bYZr"
      },
      "source": [
        "### Adathalmaz felosztása\n",
        "\n",
        "Ha párhuzamos feldolgozást használunk, akkor az adatokat részekre (chunk) osztjuk, és minden egyes részt átadunk a `count_jobs` függvénynek.\n",
        "\n",
        "- Készítsünk függvényt (`make_chunks`), amelynek argumentumai: `df` a felosztandó adathalmaz (DataFrame) és `num_chunk` a chunk-ok száma.\n",
        "\n",
        "- A függvény visszatérési értéke egy DataFrame lista (hossza a chunk-ok száma).\n",
        "- A chunk-ok méretét a következőképpen számolhatjuk:\n",
        "```python\n",
        "chunk_size = math.ceil(num_rows / num_chunks)\n",
        "```\n",
        "(A `math.ceil()` függvény kerekítést végez.)\n",
        "- A chunk lista készítése:\n",
        "```python\n",
        "chunks = []\n",
        "for i in range(0, num_rows, chunk_size):\n",
        "    chunks.append(df[i: i + chunk_size])\n",
        "```\n",
        "\n",
        "  Redukálhatjuk a kódot (list comprehension):\n",
        "```python\n",
        "chunks = [df[i:i+chunk_size] for i in range(0, num_rows, chunk_size)]\n",
        "```\n",
        "\n",
        "\n",
        "\n",
        "\n"
      ]
    },
    {
      "cell_type": "code",
      "execution_count": 54,
      "metadata": {
        "id": "KSN9q4ZdbYZs"
      },
      "outputs": [],
      "source": [
        "import math"
      ]
    },
    {
      "cell_type": "code",
      "execution_count": 55,
      "metadata": {
        "id": "02r4IR6wbYZs"
      },
      "outputs": [],
      "source": [
        "def make_chunks(df, num_chunks):\n",
        "    num_rows = df.shape[0]\n",
        "    chunk_size = math.ceil(num_rows / num_chunks)\n",
        "    return [df[i:i+chunk_size] for i in range(0, num_rows, chunk_size)]"
      ]
    },
    {
      "cell_type": "code",
      "execution_count": 56,
      "metadata": {
        "id": "EEhQz7iabYZs"
      },
      "outputs": [],
      "source": [
        "df_chunks = make_chunks(df, 10)"
      ]
    },
    {
      "cell_type": "code",
      "execution_count": 57,
      "metadata": {
        "id": "QT9riFq-bYZs",
        "colab": {
          "base_uri": "https://localhost:8080/"
        },
        "outputId": "4fb2aaf6-2391-4445-d5d7-84e976a054f5"
      },
      "outputs": [
        {
          "output_type": "execute_result",
          "data": {
            "text/plain": [
              "[      Id       EmployeeName                                        JobTitle  \\\n",
              " 0      1     NATHANIEL FORD  general manager-metropolitan transit authority   \n",
              " 1      2       GARY JIMENEZ                 captain iii (police department)   \n",
              " 2      3     ALBERT PARDINI                 captain iii (police department)   \n",
              " 3      4  CHRISTOPHER CHONG            wire rope cable maintenance mechanic   \n",
              " 4      5    PATRICK GARDNER    deputy chief of department,(fire department)   \n",
              " ..   ...                ...                                             ...   \n",
              " 981  982    WILLIAM WYCKOFF                                     firefighter   \n",
              " 982  983     CHARLES MC COY                     lieutenant, fire department   \n",
              " 983  984     MICHAEL HASTEY                          fire fighter paramedic   \n",
              " 984  985          PEIYUE HO                      diagnostic imaging tech ii   \n",
              " 985  986      CAROL WOLTHER            electrical transit shop supervisor i   \n",
              " \n",
              "        BasePay  OvertimePay   OtherPay  Benefits   TotalPay  TotalPayBenefits  \\\n",
              " 0    167411.18         0.00  400184.25       NaN  567595.43         567595.43   \n",
              " 1    155966.02    245131.88  137811.38       NaN  538909.28         538909.28   \n",
              " 2    212739.13    106088.18   16452.60       NaN  335279.91         335279.91   \n",
              " 3     77916.00     56120.71  198306.90       NaN  332343.61         332343.61   \n",
              " 4    134401.60      9737.00  182234.59       NaN  326373.19         326373.19   \n",
              " ..         ...          ...        ...       ...        ...               ...   \n",
              " 981  105934.64     52697.70   11553.27       NaN  170185.61         170185.61   \n",
              " 982  123105.00     31227.51   15842.22       NaN  170174.73         170174.73   \n",
              " 983  122405.00     32171.52   15551.55       NaN  170128.07         170128.07   \n",
              " 984  103971.40     23945.61   42208.30       NaN  170125.31         170125.31   \n",
              " 985  109160.81     43092.79   17859.01       NaN  170112.61         170112.61   \n",
              " \n",
              "        Year  Notes         Agency  Status  \n",
              " 0    2011.0    NaN  San Francisco     NaN  \n",
              " 1    2011.0    NaN  San Francisco     NaN  \n",
              " 2    2011.0    NaN  San Francisco     NaN  \n",
              " 3    2011.0    NaN  San Francisco     NaN  \n",
              " 4    2011.0    NaN  San Francisco     NaN  \n",
              " ..      ...    ...            ...     ...  \n",
              " 981  2011.0    NaN  San Francisco     NaN  \n",
              " 982  2011.0    NaN  San Francisco     NaN  \n",
              " 983  2011.0    NaN  San Francisco     NaN  \n",
              " 984  2011.0    NaN  San Francisco     NaN  \n",
              " 985  2011.0    NaN  San Francisco     NaN  \n",
              " \n",
              " [986 rows x 13 columns],\n",
              "         Id          EmployeeName                          JobTitle    BasePay  \\\n",
              " 986    987      KENNETH LOMBARDI         captain, fire suppression  135103.40   \n",
              " 987    988           DANIEL COLE  sergeant iii (police department)  131715.02   \n",
              " 988    989  DOUGLAS PRICE-HANSON              physician specialist  159511.95   \n",
              " 989    990           SUSAN OBATA  supervising physician specialist  169941.65   \n",
              " 990    991      RICHARD THOMPSON             senior deputy sheriff   96252.08   \n",
              " ...    ...                   ...                               ...        ...   \n",
              " 1967  1968          ROBERT ROYER                police officer iii  112973.21   \n",
              " 1968  1969         KAREN NAPITAN                     nurse manager  130351.00   \n",
              " 1969  1970           BRIAN BURNS            fire fighter paramedic  122405.00   \n",
              " 1970  1971       GREGORY COLLACO                       firefighter  105934.64   \n",
              " 1971  1972        KENNETH MARTIN                       firefighter  105934.67   \n",
              " \n",
              "       OvertimePay  OtherPay  Benefits   TotalPay  TotalPayBenefits    Year  \\\n",
              " 986      23598.47  11377.28       NaN  170079.15         170079.15  2011.0   \n",
              " 987       5201.24  33112.94       NaN  170029.20         170029.20  2011.0   \n",
              " 988          0.00  10513.63       NaN  170025.58         170025.58  2011.0   \n",
              " 989          0.00      0.00       NaN  169941.65         169941.65  2011.0   \n",
              " 990      64426.82   9244.04       NaN  169922.94         169922.94  2011.0   \n",
              " ...           ...       ...       ...        ...               ...     ...   \n",
              " 1967      7508.93  33085.16       NaN  153567.30         153567.30  2011.0   \n",
              " 1968         0.00  23189.24       NaN  153540.24         153540.24  2011.0   \n",
              " 1969     23816.71   7310.42       NaN  153532.13         153532.13  2011.0   \n",
              " 1970     31970.63  15578.29       NaN  153483.56         153483.56  2011.0   \n",
              " 1971     36653.52  10893.01       NaN  153481.20         153481.20  2011.0   \n",
              " \n",
              "       Notes         Agency  Status  \n",
              " 986     NaN  San Francisco     NaN  \n",
              " 987     NaN  San Francisco     NaN  \n",
              " 988     NaN  San Francisco     NaN  \n",
              " 989     NaN  San Francisco     NaN  \n",
              " 990     NaN  San Francisco     NaN  \n",
              " ...     ...            ...     ...  \n",
              " 1967    NaN  San Francisco     NaN  \n",
              " 1968    NaN  San Francisco     NaN  \n",
              " 1969    NaN  San Francisco     NaN  \n",
              " 1970    NaN  San Francisco     NaN  \n",
              " 1971    NaN  San Francisco     NaN  \n",
              " \n",
              " [986 rows x 13 columns],\n",
              "         Id        EmployeeName                          JobTitle    BasePay  \\\n",
              " 1972  1973  MICHAEL ANDRAYCHAK  sergeant iii (police department)  130476.40   \n",
              " 1973  1974      JESSICA GALENS            supervising pharmacist  148519.05   \n",
              " 1974  1975        AARON LOZADA  sergeant iii (police department)  130481.57   \n",
              " 1975  1976       HOLLY STOUMEN                 police officer ii  110242.93   \n",
              " 1976  1977          PHONG WANG         attorney (civil/criminal)  153440.35   \n",
              " ...    ...                 ...                               ...        ...   \n",
              " 2953  2954       NELSON ARTIGA  sergeant iii (police department)  130457.82   \n",
              " 2954  2955       ALBERN CIUDAD                  police officer i  106065.20   \n",
              " 2955  2956      JOSEPH FINIGAN  sergeant iii (police department)  130457.91   \n",
              " 2956  2957          KAREN KERR       lieutenant, fire department  122285.62   \n",
              " 2957  2958          BENNY FONG                police officer iii  117324.03   \n",
              " \n",
              "       OvertimePay  OtherPay  Benefits   TotalPay  TotalPayBenefits    Year  \\\n",
              " 1972      4978.14  18025.93       NaN  153480.47         153480.47  2011.0   \n",
              " 1973      4547.54    406.60       NaN  153473.19         153473.19  2011.0   \n",
              " 1974     13616.67   9362.22       NaN  153460.46         153460.46  2011.0   \n",
              " 1975     25063.35  18150.67       NaN  153456.95         153456.95  2011.0   \n",
              " 1976         0.00      0.00       NaN  153440.35         153440.35  2011.0   \n",
              " ...           ...       ...       ...        ...               ...     ...   \n",
              " 2953      4946.56   6044.46       NaN  141448.84         141448.84  2011.0   \n",
              " 2954     12993.08  22366.43       NaN  141424.71         141424.71  2011.0   \n",
              " 2955      7262.01   3698.36       NaN  141418.28         141418.28  2011.0   \n",
              " 2956     11632.04   7491.55       NaN  141409.21         141409.21  2011.0   \n",
              " 2957      8021.76  16059.00       NaN  141404.79         141404.79  2011.0   \n",
              " \n",
              "       Notes         Agency  Status  \n",
              " 1972    NaN  San Francisco     NaN  \n",
              " 1973    NaN  San Francisco     NaN  \n",
              " 1974    NaN  San Francisco     NaN  \n",
              " 1975    NaN  San Francisco     NaN  \n",
              " 1976    NaN  San Francisco     NaN  \n",
              " ...     ...            ...     ...  \n",
              " 2953    NaN  San Francisco     NaN  \n",
              " 2954    NaN  San Francisco     NaN  \n",
              " 2955    NaN  San Francisco     NaN  \n",
              " 2956    NaN  San Francisco     NaN  \n",
              " 2957    NaN  San Francisco     NaN  \n",
              " \n",
              " [986 rows x 13 columns],\n",
              "         Id    EmployeeName                          JobTitle    BasePay  \\\n",
              " 2958  2959       JOHN DUNN                       firefighter  105934.67   \n",
              " 2959  2960     KIM D' ARCY  sergeant iii (police department)  130481.28   \n",
              " 2960  2961    RICHARD TONG                police officer iii  107281.86   \n",
              " 2961  2962      TROY PEELE                police officer iii  112417.28   \n",
              " 2962  2963  SONIA CURAMENG                  registered nurse  114163.50   \n",
              " ...    ...             ...                               ...        ...   \n",
              " 3939  3940  MICHAEL ARRAJJ                  registered nurse  126984.00   \n",
              " 3940  3941    DAVID PAKTER              physician specialist  128139.01   \n",
              " 3941  3942      BUD MASSEY                police officer iii  112401.08   \n",
              " 3942  3943     YINGMING GU                          engineer  129112.76   \n",
              " 3943  3944     STACY HAYES                police officer iii  117299.43   \n",
              " \n",
              "       OvertimePay  OtherPay  Benefits   TotalPay  TotalPayBenefits    Year  \\\n",
              " 2958     15541.64  19925.09       NaN  141401.40         141401.40  2011.0   \n",
              " 2959         0.00  10912.83       NaN  141394.11         141394.11  2011.0   \n",
              " 2960      7200.90  26889.13       NaN  141371.89         141371.89  2011.0   \n",
              " 2961     26299.69   2643.70       NaN  141360.67         141360.67  2011.0   \n",
              " 2962      6520.13  20652.20       NaN  141335.83         141335.83  2011.0   \n",
              " ...           ...       ...       ...        ...               ...     ...   \n",
              " 3939         0.00   5209.99       NaN  132193.99         132193.99  2011.0   \n",
              " 3940         0.00   4054.00       NaN  132193.01         132193.01  2011.0   \n",
              " 3941     17369.50   2412.02       NaN  132182.60         132182.60  2011.0   \n",
              " 3942         0.00   3068.23       NaN  132180.99         132180.99  2011.0   \n",
              " 3943      8729.75   6146.21       NaN  132175.39         132175.39  2011.0   \n",
              " \n",
              "       Notes         Agency  Status  \n",
              " 2958    NaN  San Francisco     NaN  \n",
              " 2959    NaN  San Francisco     NaN  \n",
              " 2960    NaN  San Francisco     NaN  \n",
              " 2961    NaN  San Francisco     NaN  \n",
              " 2962    NaN  San Francisco     NaN  \n",
              " ...     ...            ...     ...  \n",
              " 3939    NaN  San Francisco     NaN  \n",
              " 3940    NaN  San Francisco     NaN  \n",
              " 3941    NaN  San Francisco     NaN  \n",
              " 3942    NaN  San Francisco     NaN  \n",
              " 3943    NaN  San Francisco     NaN  \n",
              " \n",
              " [986 rows x 13 columns],\n",
              "         Id          EmployeeName                            JobTitle  \\\n",
              " 3944  3945         DOUGLAS WELCH           attorney (civil/criminal)   \n",
              " 3945  3946             LLOYD LEW  inspector iii, (police department)   \n",
              " 3946  3947        LEONOR SALDANA                         firefighter   \n",
              " 3947  3948     MICHAEL BAGLIN JR                  police officer iii   \n",
              " 3948  3949  SUZANA RANISAVLJEVIC                       special nurse   \n",
              " ...    ...                   ...                                 ...   \n",
              " 4925  4926       ANTONIO CLAUDIO                  police officer iii   \n",
              " 4926  4927          FRANK JORDAN        utility plumber supervisor i   \n",
              " 4927  4928           BRIAN SMITH                 is project director   \n",
              " 4928  4929         ITALO NEGRINI       operating engineer, universal   \n",
              " 4929  4930        THOMAS VELLONE                    police officer i   \n",
              " \n",
              "         BasePay  OvertimePay  OtherPay  Benefits   TotalPay  TotalPayBenefits  \\\n",
              " 3944  132161.28         0.00      0.00       NaN  132161.28         132161.28   \n",
              " 3945  130457.88         0.00   1695.47       NaN  132153.35         132153.35   \n",
              " 3946   98217.81     21385.38  12547.96       NaN  132151.15         132151.15   \n",
              " 3947  112401.07     17730.23   2019.38       NaN  132150.68         132150.68   \n",
              " 3948  106443.74      8059.51  17640.67       NaN  132143.92         132143.92   \n",
              " ...         ...          ...       ...       ...        ...               ...   \n",
              " 4925  112401.07      4559.05   7716.86       NaN  124676.98         124676.98   \n",
              " 4926  102050.02      9965.35  12659.40       NaN  124674.77         124674.77   \n",
              " 4927  124618.59         0.00      0.00       NaN  124618.59         124618.59   \n",
              " 4928   83373.51     39410.35   1834.29       NaN  124618.15         124618.15   \n",
              " 4929   89173.05      2576.65  32867.41       NaN  124617.11         124617.11   \n",
              " \n",
              "         Year  Notes         Agency  Status  \n",
              " 3944  2011.0    NaN  San Francisco     NaN  \n",
              " 3945  2011.0    NaN  San Francisco     NaN  \n",
              " 3946  2011.0    NaN  San Francisco     NaN  \n",
              " 3947  2011.0    NaN  San Francisco     NaN  \n",
              " 3948  2011.0    NaN  San Francisco     NaN  \n",
              " ...      ...    ...            ...     ...  \n",
              " 4925  2011.0    NaN  San Francisco     NaN  \n",
              " 4926  2011.0    NaN  San Francisco     NaN  \n",
              " 4927  2011.0    NaN  San Francisco     NaN  \n",
              " 4928  2011.0    NaN  San Francisco     NaN  \n",
              " 4929  2011.0    NaN  San Francisco     NaN  \n",
              " \n",
              " [986 rows x 13 columns],\n",
              "         Id        EmployeeName                            JobTitle    BasePay  \\\n",
              " 4930  4931       ARMANN RAMOSO                    police officer i  106046.08   \n",
              " 4931  4932        RAMON DAVILA                    police officer i  106065.20   \n",
              " 4932  4933          TODD BURKS                    police officer i  106065.20   \n",
              " 4933  4934        SEAN PADILLA                    police officer i  106045.74   \n",
              " 4934  4935       MARIBEL AMODO                    registered nurse  119568.15   \n",
              " ...    ...                 ...                                 ...        ...   \n",
              " 5911  5912  JONATHON LUCCHETTI                   police officer ii  107838.80   \n",
              " 5912  5913   GENIEVE DELA CRUZ                    registered nurse   94194.01   \n",
              " 5913  5914       TIMOTHY DAVIS                    police officer i  106026.96   \n",
              " 5914  5915         MARK WARFEL              maintenance controller   82744.65   \n",
              " 5915  5916       DAVID OROPEZA  electrical transit system mechanic   77569.11   \n",
              " \n",
              "       OvertimePay  OtherPay  Benefits   TotalPay  TotalPayBenefits    Year  \\\n",
              " 4930      9511.85   9056.17       NaN  124614.10         124614.10  2011.0   \n",
              " 4931     11530.78   7015.71       NaN  124611.69         124611.69  2011.0   \n",
              " 4932     13347.64   5194.01       NaN  124606.85         124606.85  2011.0   \n",
              " 4933     10837.42   7721.39       NaN  124604.55         124604.55  2011.0   \n",
              " 4934         0.00   5036.06       NaN  124604.21         124604.21  2011.0   \n",
              " ...           ...       ...       ...        ...               ...     ...   \n",
              " 5911      6163.60   5166.95       NaN  119169.35         119169.35  2011.0   \n",
              " 5912     11350.50  13616.50       NaN  119161.01         119161.01  2011.0   \n",
              " 5913      4111.22   9022.12       NaN  119160.30         119160.30  2011.0   \n",
              " 5914     20840.45  15571.50       NaN  119156.60         119156.60  2011.0   \n",
              " 5915     35747.35   5828.55       NaN  119145.01         119145.01  2011.0   \n",
              " \n",
              "       Notes         Agency  Status  \n",
              " 4930    NaN  San Francisco     NaN  \n",
              " 4931    NaN  San Francisco     NaN  \n",
              " 4932    NaN  San Francisco     NaN  \n",
              " 4933    NaN  San Francisco     NaN  \n",
              " 4934    NaN  San Francisco     NaN  \n",
              " ...     ...            ...     ...  \n",
              " 5911    NaN  San Francisco     NaN  \n",
              " 5912    NaN  San Francisco     NaN  \n",
              " 5913    NaN  San Francisco     NaN  \n",
              " 5914    NaN  San Francisco     NaN  \n",
              " 5915    NaN  San Francisco     NaN  \n",
              " \n",
              " [986 rows x 13 columns],\n",
              "         Id       EmployeeName  \\\n",
              " 5916  5917        ADAM STREET   \n",
              " 5917  5918  JOSEPH ZAMAGNI-JR   \n",
              " 5918  5919        HERMANN CHU   \n",
              " 5919  5920       DIANA KENYON   \n",
              " 5920  5921   KENNETH EDMONSON   \n",
              " ...    ...                ...   \n",
              " 6897  6898       GREG STEVENS   \n",
              " 6898  6899     ROSANA SORIANO   \n",
              " 6899  6900     DEILAH ANGELES   \n",
              " 6900  6901    MALACHY OSUAGWU   \n",
              " 6901  6902   MICHELE PRIMIANO   \n",
              " \n",
              "                                               JobTitle    BasePay  \\\n",
              " 5916                                  police officer i  106046.06   \n",
              " 5917                                police officer iii  112421.45   \n",
              " 5918                                police officer iii  112380.70   \n",
              " 5919  buildings and grounds maintenance superintendent  105404.00   \n",
              " 5920      manager iv - municipal transportation agency  119123.65   \n",
              " ...                                                ...        ...   \n",
              " 6897                              is engineer - senior  105377.60   \n",
              " 6898                                        manager ii  113956.51   \n",
              " 6899                                  registered nurse  113687.50   \n",
              " 6900                                  registered nurse   91956.87   \n",
              " 6901                                 police officer ii  108643.28   \n",
              " \n",
              "       OvertimePay  OtherPay  Benefits   TotalPay  TotalPayBenefits    Year  \\\n",
              " 5916      4047.84   9050.86       NaN  119144.76         119144.76  2011.0   \n",
              " 5917      2492.45   4225.99       NaN  119139.89         119139.89  2011.0   \n",
              " 5918      2439.09   4318.94       NaN  119138.73         119138.73  2011.0   \n",
              " 5919         0.00  13729.30       NaN  119133.30         119133.30  2011.0   \n",
              " 5920         0.00      0.00       NaN  119123.65         119123.65  2011.0   \n",
              " ...           ...       ...       ...        ...               ...     ...   \n",
              " 6897         0.00   8580.14       NaN  113957.74         113957.74  2011.0   \n",
              " 6898         0.00      0.00       NaN  113956.51         113956.51  2011.0   \n",
              " 6899         0.00    250.00       NaN  113937.50         113937.50  2011.0   \n",
              " 6900      6810.30  15169.10       NaN  113936.27         113936.27  2011.0   \n",
              " 6901      2563.17   2691.90       NaN  113898.35         113898.35  2011.0   \n",
              " \n",
              "       Notes         Agency  Status  \n",
              " 5916    NaN  San Francisco     NaN  \n",
              " 5917    NaN  San Francisco     NaN  \n",
              " 5918    NaN  San Francisco     NaN  \n",
              " 5919    NaN  San Francisco     NaN  \n",
              " 5920    NaN  San Francisco     NaN  \n",
              " ...     ...            ...     ...  \n",
              " 6897    NaN  San Francisco     NaN  \n",
              " 6898    NaN  San Francisco     NaN  \n",
              " 6899    NaN  San Francisco     NaN  \n",
              " 6900    NaN  San Francisco     NaN  \n",
              " 6901    NaN  San Francisco     NaN  \n",
              " \n",
              " [986 rows x 13 columns],\n",
              "         Id      EmployeeName                            JobTitle    BasePay  \\\n",
              " 6902  6903     DANA HENNESSY                    registered nurse   87919.91   \n",
              " 6903  6904      BRENDAN DALY  electrical transit system mechanic   77580.41   \n",
              " 6904  6905  CATHERINE GROODY                      deputy sheriff   86840.06   \n",
              " 6905  6906    RONALD HOLLINS                   police officer ii  110223.04   \n",
              " 6906  6907   VICTOR GIANNINI                             plumber   91369.95   \n",
              " ...    ...               ...                                 ...        ...   \n",
              " 7883  7884      MICHAEL COTA                   police officer ii   96245.50   \n",
              " 7884  7885          HENRY HA                   police officer ii  101186.23   \n",
              " 7885  7886     EDWARD ANZORE    sergeant iii (police department)   39471.99   \n",
              " 7886  7887       NAUSHAD ALI            track maintenance worker   60127.10   \n",
              " 7887  7888       JAMES DOLLY               senior deputy sheriff   96254.33   \n",
              " \n",
              "       OvertimePay  OtherPay  Benefits   TotalPay  TotalPayBenefits    Year  \\\n",
              " 6902     17332.26   8636.32       NaN  113888.49         113888.49  2011.0   \n",
              " 6903     26431.92   9873.04       NaN  113885.37         113885.37  2011.0   \n",
              " 6904     20106.58   6938.06       NaN  113884.70         113884.70  2011.0   \n",
              " 6905         0.00   3661.65       NaN  113884.69         113884.69  2011.0   \n",
              " 6906     11876.53  10635.12       NaN  113881.60         113881.60  2011.0   \n",
              " ...           ...       ...       ...        ...               ...     ...   \n",
              " 7883      2779.43   8889.30       NaN  107914.23         107914.23  2011.0   \n",
              " 7884      2766.04   3948.98       NaN  107901.25         107901.25  2011.0   \n",
              " 7885     13271.22  55149.80       NaN  107893.01         107893.01  2011.0   \n",
              " 7886     41978.67   5779.33       NaN  107885.10         107885.10  2011.0   \n",
              " 7887      3140.46   8485.10       NaN  107879.89         107879.89  2011.0   \n",
              " \n",
              "       Notes         Agency  Status  \n",
              " 6902    NaN  San Francisco     NaN  \n",
              " 6903    NaN  San Francisco     NaN  \n",
              " 6904    NaN  San Francisco     NaN  \n",
              " 6905    NaN  San Francisco     NaN  \n",
              " 6906    NaN  San Francisco     NaN  \n",
              " ...     ...            ...     ...  \n",
              " 7883    NaN  San Francisco     NaN  \n",
              " 7884    NaN  San Francisco     NaN  \n",
              " 7885    NaN  San Francisco     NaN  \n",
              " 7886    NaN  San Francisco     NaN  \n",
              " 7887    NaN  San Francisco     NaN  \n",
              " \n",
              " [986 rows x 13 columns],\n",
              "         Id           EmployeeName                  JobTitle    BasePay  \\\n",
              " 7888  7889       MANOLITO LAZATIN            deputy sheriff   65696.97   \n",
              " 7889  7890             RONALD CHU            deputy sheriff   86506.01   \n",
              " 7890  7891         ANDREW NAVARRO        associate engineer  104486.05   \n",
              " 7891  7892           MARI SHEPARD         police officer ii   98300.00   \n",
              " 7892  7893              SUSAN LEE            court reporter  107848.40   \n",
              " ...    ...                    ...                       ...        ...   \n",
              " 8869  8870          DANIEL RAVINA  airport economic planner  103336.51   \n",
              " 8870  8871            STEPHEN KAY                 architect  103334.00   \n",
              " 8871  8872         MICHAEL HURLEY                   plumber   90098.40   \n",
              " 8872  8873  MARIA TERESA BAUTISTA             special nurse   87985.63   \n",
              " 8873  8874              GARY KATO      electrical inspector  101268.30   \n",
              " \n",
              "       OvertimePay  OtherPay  Benefits   TotalPay  TotalPayBenefits    Year  \\\n",
              " 7888     33176.25   9001.60       NaN  107874.82         107874.82  2011.0   \n",
              " 7889     14523.62   6830.36       NaN  107859.99         107859.99  2011.0   \n",
              " 7890         0.00   3371.42       NaN  107857.47         107857.47  2011.0   \n",
              " 7891      3966.93   5582.35       NaN  107849.28         107849.28  2011.0   \n",
              " 7892         0.00      0.00       NaN  107848.40         107848.40  2011.0   \n",
              " ...           ...       ...       ...        ...               ...     ...   \n",
              " 8869         0.00      0.00       NaN  103336.51         103336.51  2011.0   \n",
              " 8870         0.00      0.00       NaN  103334.00         103334.00  2011.0   \n",
              " 8871     12261.38    970.00       NaN  103329.78         103329.78  2011.0   \n",
              " 8872         0.00  15334.73       NaN  103320.36         103320.36  2011.0   \n",
              " 8873         0.00   2024.44       NaN  103292.74         103292.74  2011.0   \n",
              " \n",
              "       Notes         Agency  Status  \n",
              " 7888    NaN  San Francisco     NaN  \n",
              " 7889    NaN  San Francisco     NaN  \n",
              " 7890    NaN  San Francisco     NaN  \n",
              " 7891    NaN  San Francisco     NaN  \n",
              " 7892    NaN  San Francisco     NaN  \n",
              " ...     ...            ...     ...  \n",
              " 8869    NaN  San Francisco     NaN  \n",
              " 8870    NaN  San Francisco     NaN  \n",
              " 8871    NaN  San Francisco     NaN  \n",
              " 8872    NaN  San Francisco     NaN  \n",
              " 8873    NaN  San Francisco     NaN  \n",
              " \n",
              " [986 rows x 13 columns],\n",
              "         Id      EmployeeName                                 JobTitle  \\\n",
              " 8874  8875  ANTHONY ASSERETO                         police officer i   \n",
              " 8875  8876    JEFFREY BURTON             is business analyst - senior   \n",
              " 8876  8877       LIPING FONG        electronic maintenance technician   \n",
              " 8877  8878     FATIISHA RAZO  public safety communications dispatcher   \n",
              " 8878  8879       JENNY LOUIE                              manager iii   \n",
              " ...    ...               ...                                      ...   \n",
              " 9849  9850       RICK BURGER                              pipe welder   \n",
              " 9850  9851      ERIC SHAFFER                         registered nurse   \n",
              " 9851  9852     LEO BERNSTEIN                         police officer i   \n",
              " 9852  9853         TAMI QUAN                      airport electrician   \n",
              " 9853  9854          JOANNE D                                      NaN   \n",
              " \n",
              "         BasePay  OvertimePay  OtherPay  Benefits   TotalPay  TotalPayBenefits  \\\n",
              " 8874   91814.32      2212.25   9265.84       NaN  103292.41         103292.41   \n",
              " 8875  102461.00         0.00    826.50       NaN  103287.50         103287.50   \n",
              " 8876   99014.40      2963.25   1307.28       NaN  103284.93         103284.93   \n",
              " 8877   77725.65     15640.38   9909.04       NaN  103275.07         103275.07   \n",
              " 8878   98664.68         0.00   4600.00       NaN  103264.68         103264.68   \n",
              " ...         ...          ...       ...       ...        ...               ...   \n",
              " 9849   89916.75      6096.52   2070.00       NaN   98083.27          98083.27   \n",
              " 9850   92149.82      1069.72   4858.68       NaN   98078.22          98078.22   \n",
              " 9851   84009.21      3027.23  11030.81       NaN   98067.25          98067.25   \n",
              " 9852   96050.44        90.77   1920.00       NaN   98061.21          98061.21   \n",
              " 9853        NaN          NaN       NaN       NaN        NaN               NaN   \n",
              " \n",
              "         Year  Notes         Agency  Status  \n",
              " 8874  2011.0    NaN  San Francisco     NaN  \n",
              " 8875  2011.0    NaN  San Francisco     NaN  \n",
              " 8876  2011.0    NaN  San Francisco     NaN  \n",
              " 8877  2011.0    NaN  San Francisco     NaN  \n",
              " 8878  2011.0    NaN  San Francisco     NaN  \n",
              " ...      ...    ...            ...     ...  \n",
              " 9849  2011.0    NaN  San Francisco     NaN  \n",
              " 9850  2011.0    NaN  San Francisco     NaN  \n",
              " 9851  2011.0    NaN  San Francisco     NaN  \n",
              " 9852  2011.0    NaN  San Francisco     NaN  \n",
              " 9853     NaN    NaN            NaN     NaN  \n",
              " \n",
              " [980 rows x 13 columns]]"
            ]
          },
          "metadata": {},
          "execution_count": 57
        }
      ],
      "source": [
        "df_chunks"
      ]
    },
    {
      "cell_type": "code",
      "source": [
        "df_chunks[0]"
      ],
      "metadata": {
        "id": "OG9fvMmoBNYv",
        "colab": {
          "base_uri": "https://localhost:8080/",
          "height": 424
        },
        "outputId": "c892ffd3-cadb-4414-bad3-91d91ed8480c"
      },
      "execution_count": 58,
      "outputs": [
        {
          "output_type": "execute_result",
          "data": {
            "text/plain": [
              "      Id       EmployeeName                                        JobTitle  \\\n",
              "0      1     NATHANIEL FORD  general manager-metropolitan transit authority   \n",
              "1      2       GARY JIMENEZ                 captain iii (police department)   \n",
              "2      3     ALBERT PARDINI                 captain iii (police department)   \n",
              "3      4  CHRISTOPHER CHONG            wire rope cable maintenance mechanic   \n",
              "4      5    PATRICK GARDNER    deputy chief of department,(fire department)   \n",
              "..   ...                ...                                             ...   \n",
              "981  982    WILLIAM WYCKOFF                                     firefighter   \n",
              "982  983     CHARLES MC COY                     lieutenant, fire department   \n",
              "983  984     MICHAEL HASTEY                          fire fighter paramedic   \n",
              "984  985          PEIYUE HO                      diagnostic imaging tech ii   \n",
              "985  986      CAROL WOLTHER            electrical transit shop supervisor i   \n",
              "\n",
              "       BasePay  OvertimePay   OtherPay  Benefits   TotalPay  TotalPayBenefits  \\\n",
              "0    167411.18         0.00  400184.25       NaN  567595.43         567595.43   \n",
              "1    155966.02    245131.88  137811.38       NaN  538909.28         538909.28   \n",
              "2    212739.13    106088.18   16452.60       NaN  335279.91         335279.91   \n",
              "3     77916.00     56120.71  198306.90       NaN  332343.61         332343.61   \n",
              "4    134401.60      9737.00  182234.59       NaN  326373.19         326373.19   \n",
              "..         ...          ...        ...       ...        ...               ...   \n",
              "981  105934.64     52697.70   11553.27       NaN  170185.61         170185.61   \n",
              "982  123105.00     31227.51   15842.22       NaN  170174.73         170174.73   \n",
              "983  122405.00     32171.52   15551.55       NaN  170128.07         170128.07   \n",
              "984  103971.40     23945.61   42208.30       NaN  170125.31         170125.31   \n",
              "985  109160.81     43092.79   17859.01       NaN  170112.61         170112.61   \n",
              "\n",
              "       Year  Notes         Agency  Status  \n",
              "0    2011.0    NaN  San Francisco     NaN  \n",
              "1    2011.0    NaN  San Francisco     NaN  \n",
              "2    2011.0    NaN  San Francisco     NaN  \n",
              "3    2011.0    NaN  San Francisco     NaN  \n",
              "4    2011.0    NaN  San Francisco     NaN  \n",
              "..      ...    ...            ...     ...  \n",
              "981  2011.0    NaN  San Francisco     NaN  \n",
              "982  2011.0    NaN  San Francisco     NaN  \n",
              "983  2011.0    NaN  San Francisco     NaN  \n",
              "984  2011.0    NaN  San Francisco     NaN  \n",
              "985  2011.0    NaN  San Francisco     NaN  \n",
              "\n",
              "[986 rows x 13 columns]"
            ],
            "text/html": [
              "\n",
              "  <div id=\"df-a0fa7103-86ec-4c5d-b3be-f5784e1c1e6b\" class=\"colab-df-container\">\n",
              "    <div>\n",
              "<style scoped>\n",
              "    .dataframe tbody tr th:only-of-type {\n",
              "        vertical-align: middle;\n",
              "    }\n",
              "\n",
              "    .dataframe tbody tr th {\n",
              "        vertical-align: top;\n",
              "    }\n",
              "\n",
              "    .dataframe thead th {\n",
              "        text-align: right;\n",
              "    }\n",
              "</style>\n",
              "<table border=\"1\" class=\"dataframe\">\n",
              "  <thead>\n",
              "    <tr style=\"text-align: right;\">\n",
              "      <th></th>\n",
              "      <th>Id</th>\n",
              "      <th>EmployeeName</th>\n",
              "      <th>JobTitle</th>\n",
              "      <th>BasePay</th>\n",
              "      <th>OvertimePay</th>\n",
              "      <th>OtherPay</th>\n",
              "      <th>Benefits</th>\n",
              "      <th>TotalPay</th>\n",
              "      <th>TotalPayBenefits</th>\n",
              "      <th>Year</th>\n",
              "      <th>Notes</th>\n",
              "      <th>Agency</th>\n",
              "      <th>Status</th>\n",
              "    </tr>\n",
              "  </thead>\n",
              "  <tbody>\n",
              "    <tr>\n",
              "      <th>0</th>\n",
              "      <td>1</td>\n",
              "      <td>NATHANIEL FORD</td>\n",
              "      <td>general manager-metropolitan transit authority</td>\n",
              "      <td>167411.18</td>\n",
              "      <td>0.00</td>\n",
              "      <td>400184.25</td>\n",
              "      <td>NaN</td>\n",
              "      <td>567595.43</td>\n",
              "      <td>567595.43</td>\n",
              "      <td>2011.0</td>\n",
              "      <td>NaN</td>\n",
              "      <td>San Francisco</td>\n",
              "      <td>NaN</td>\n",
              "    </tr>\n",
              "    <tr>\n",
              "      <th>1</th>\n",
              "      <td>2</td>\n",
              "      <td>GARY JIMENEZ</td>\n",
              "      <td>captain iii (police department)</td>\n",
              "      <td>155966.02</td>\n",
              "      <td>245131.88</td>\n",
              "      <td>137811.38</td>\n",
              "      <td>NaN</td>\n",
              "      <td>538909.28</td>\n",
              "      <td>538909.28</td>\n",
              "      <td>2011.0</td>\n",
              "      <td>NaN</td>\n",
              "      <td>San Francisco</td>\n",
              "      <td>NaN</td>\n",
              "    </tr>\n",
              "    <tr>\n",
              "      <th>2</th>\n",
              "      <td>3</td>\n",
              "      <td>ALBERT PARDINI</td>\n",
              "      <td>captain iii (police department)</td>\n",
              "      <td>212739.13</td>\n",
              "      <td>106088.18</td>\n",
              "      <td>16452.60</td>\n",
              "      <td>NaN</td>\n",
              "      <td>335279.91</td>\n",
              "      <td>335279.91</td>\n",
              "      <td>2011.0</td>\n",
              "      <td>NaN</td>\n",
              "      <td>San Francisco</td>\n",
              "      <td>NaN</td>\n",
              "    </tr>\n",
              "    <tr>\n",
              "      <th>3</th>\n",
              "      <td>4</td>\n",
              "      <td>CHRISTOPHER CHONG</td>\n",
              "      <td>wire rope cable maintenance mechanic</td>\n",
              "      <td>77916.00</td>\n",
              "      <td>56120.71</td>\n",
              "      <td>198306.90</td>\n",
              "      <td>NaN</td>\n",
              "      <td>332343.61</td>\n",
              "      <td>332343.61</td>\n",
              "      <td>2011.0</td>\n",
              "      <td>NaN</td>\n",
              "      <td>San Francisco</td>\n",
              "      <td>NaN</td>\n",
              "    </tr>\n",
              "    <tr>\n",
              "      <th>4</th>\n",
              "      <td>5</td>\n",
              "      <td>PATRICK GARDNER</td>\n",
              "      <td>deputy chief of department,(fire department)</td>\n",
              "      <td>134401.60</td>\n",
              "      <td>9737.00</td>\n",
              "      <td>182234.59</td>\n",
              "      <td>NaN</td>\n",
              "      <td>326373.19</td>\n",
              "      <td>326373.19</td>\n",
              "      <td>2011.0</td>\n",
              "      <td>NaN</td>\n",
              "      <td>San Francisco</td>\n",
              "      <td>NaN</td>\n",
              "    </tr>\n",
              "    <tr>\n",
              "      <th>...</th>\n",
              "      <td>...</td>\n",
              "      <td>...</td>\n",
              "      <td>...</td>\n",
              "      <td>...</td>\n",
              "      <td>...</td>\n",
              "      <td>...</td>\n",
              "      <td>...</td>\n",
              "      <td>...</td>\n",
              "      <td>...</td>\n",
              "      <td>...</td>\n",
              "      <td>...</td>\n",
              "      <td>...</td>\n",
              "      <td>...</td>\n",
              "    </tr>\n",
              "    <tr>\n",
              "      <th>981</th>\n",
              "      <td>982</td>\n",
              "      <td>WILLIAM WYCKOFF</td>\n",
              "      <td>firefighter</td>\n",
              "      <td>105934.64</td>\n",
              "      <td>52697.70</td>\n",
              "      <td>11553.27</td>\n",
              "      <td>NaN</td>\n",
              "      <td>170185.61</td>\n",
              "      <td>170185.61</td>\n",
              "      <td>2011.0</td>\n",
              "      <td>NaN</td>\n",
              "      <td>San Francisco</td>\n",
              "      <td>NaN</td>\n",
              "    </tr>\n",
              "    <tr>\n",
              "      <th>982</th>\n",
              "      <td>983</td>\n",
              "      <td>CHARLES MC COY</td>\n",
              "      <td>lieutenant, fire department</td>\n",
              "      <td>123105.00</td>\n",
              "      <td>31227.51</td>\n",
              "      <td>15842.22</td>\n",
              "      <td>NaN</td>\n",
              "      <td>170174.73</td>\n",
              "      <td>170174.73</td>\n",
              "      <td>2011.0</td>\n",
              "      <td>NaN</td>\n",
              "      <td>San Francisco</td>\n",
              "      <td>NaN</td>\n",
              "    </tr>\n",
              "    <tr>\n",
              "      <th>983</th>\n",
              "      <td>984</td>\n",
              "      <td>MICHAEL HASTEY</td>\n",
              "      <td>fire fighter paramedic</td>\n",
              "      <td>122405.00</td>\n",
              "      <td>32171.52</td>\n",
              "      <td>15551.55</td>\n",
              "      <td>NaN</td>\n",
              "      <td>170128.07</td>\n",
              "      <td>170128.07</td>\n",
              "      <td>2011.0</td>\n",
              "      <td>NaN</td>\n",
              "      <td>San Francisco</td>\n",
              "      <td>NaN</td>\n",
              "    </tr>\n",
              "    <tr>\n",
              "      <th>984</th>\n",
              "      <td>985</td>\n",
              "      <td>PEIYUE HO</td>\n",
              "      <td>diagnostic imaging tech ii</td>\n",
              "      <td>103971.40</td>\n",
              "      <td>23945.61</td>\n",
              "      <td>42208.30</td>\n",
              "      <td>NaN</td>\n",
              "      <td>170125.31</td>\n",
              "      <td>170125.31</td>\n",
              "      <td>2011.0</td>\n",
              "      <td>NaN</td>\n",
              "      <td>San Francisco</td>\n",
              "      <td>NaN</td>\n",
              "    </tr>\n",
              "    <tr>\n",
              "      <th>985</th>\n",
              "      <td>986</td>\n",
              "      <td>CAROL WOLTHER</td>\n",
              "      <td>electrical transit shop supervisor i</td>\n",
              "      <td>109160.81</td>\n",
              "      <td>43092.79</td>\n",
              "      <td>17859.01</td>\n",
              "      <td>NaN</td>\n",
              "      <td>170112.61</td>\n",
              "      <td>170112.61</td>\n",
              "      <td>2011.0</td>\n",
              "      <td>NaN</td>\n",
              "      <td>San Francisco</td>\n",
              "      <td>NaN</td>\n",
              "    </tr>\n",
              "  </tbody>\n",
              "</table>\n",
              "<p>986 rows × 13 columns</p>\n",
              "</div>\n",
              "    <div class=\"colab-df-buttons\">\n",
              "\n",
              "  <div class=\"colab-df-container\">\n",
              "    <button class=\"colab-df-convert\" onclick=\"convertToInteractive('df-a0fa7103-86ec-4c5d-b3be-f5784e1c1e6b')\"\n",
              "            title=\"Convert this dataframe to an interactive table.\"\n",
              "            style=\"display:none;\">\n",
              "\n",
              "  <svg xmlns=\"http://www.w3.org/2000/svg\" height=\"24px\" viewBox=\"0 -960 960 960\">\n",
              "    <path d=\"M120-120v-720h720v720H120Zm60-500h600v-160H180v160Zm220 220h160v-160H400v160Zm0 220h160v-160H400v160ZM180-400h160v-160H180v160Zm440 0h160v-160H620v160ZM180-180h160v-160H180v160Zm440 0h160v-160H620v160Z\"/>\n",
              "  </svg>\n",
              "    </button>\n",
              "\n",
              "  <style>\n",
              "    .colab-df-container {\n",
              "      display:flex;\n",
              "      gap: 12px;\n",
              "    }\n",
              "\n",
              "    .colab-df-convert {\n",
              "      background-color: #E8F0FE;\n",
              "      border: none;\n",
              "      border-radius: 50%;\n",
              "      cursor: pointer;\n",
              "      display: none;\n",
              "      fill: #1967D2;\n",
              "      height: 32px;\n",
              "      padding: 0 0 0 0;\n",
              "      width: 32px;\n",
              "    }\n",
              "\n",
              "    .colab-df-convert:hover {\n",
              "      background-color: #E2EBFA;\n",
              "      box-shadow: 0px 1px 2px rgba(60, 64, 67, 0.3), 0px 1px 3px 1px rgba(60, 64, 67, 0.15);\n",
              "      fill: #174EA6;\n",
              "    }\n",
              "\n",
              "    .colab-df-buttons div {\n",
              "      margin-bottom: 4px;\n",
              "    }\n",
              "\n",
              "    [theme=dark] .colab-df-convert {\n",
              "      background-color: #3B4455;\n",
              "      fill: #D2E3FC;\n",
              "    }\n",
              "\n",
              "    [theme=dark] .colab-df-convert:hover {\n",
              "      background-color: #434B5C;\n",
              "      box-shadow: 0px 1px 3px 1px rgba(0, 0, 0, 0.15);\n",
              "      filter: drop-shadow(0px 1px 2px rgba(0, 0, 0, 0.3));\n",
              "      fill: #FFFFFF;\n",
              "    }\n",
              "  </style>\n",
              "\n",
              "    <script>\n",
              "      const buttonEl =\n",
              "        document.querySelector('#df-a0fa7103-86ec-4c5d-b3be-f5784e1c1e6b button.colab-df-convert');\n",
              "      buttonEl.style.display =\n",
              "        google.colab.kernel.accessAllowed ? 'block' : 'none';\n",
              "\n",
              "      async function convertToInteractive(key) {\n",
              "        const element = document.querySelector('#df-a0fa7103-86ec-4c5d-b3be-f5784e1c1e6b');\n",
              "        const dataTable =\n",
              "          await google.colab.kernel.invokeFunction('convertToInteractive',\n",
              "                                                    [key], {});\n",
              "        if (!dataTable) return;\n",
              "\n",
              "        const docLinkHtml = 'Like what you see? Visit the ' +\n",
              "          '<a target=\"_blank\" href=https://colab.research.google.com/notebooks/data_table.ipynb>data table notebook</a>'\n",
              "          + ' to learn more about interactive tables.';\n",
              "        element.innerHTML = '';\n",
              "        dataTable['output_type'] = 'display_data';\n",
              "        await google.colab.output.renderOutput(dataTable, element);\n",
              "        const docLink = document.createElement('div');\n",
              "        docLink.innerHTML = docLinkHtml;\n",
              "        element.appendChild(docLink);\n",
              "      }\n",
              "    </script>\n",
              "  </div>\n",
              "\n",
              "\n",
              "<div id=\"df-6714eea7-dd1e-4b41-ab82-180270422933\">\n",
              "  <button class=\"colab-df-quickchart\" onclick=\"quickchart('df-6714eea7-dd1e-4b41-ab82-180270422933')\"\n",
              "            title=\"Suggest charts\"\n",
              "            style=\"display:none;\">\n",
              "\n",
              "<svg xmlns=\"http://www.w3.org/2000/svg\" height=\"24px\"viewBox=\"0 0 24 24\"\n",
              "     width=\"24px\">\n",
              "    <g>\n",
              "        <path d=\"M19 3H5c-1.1 0-2 .9-2 2v14c0 1.1.9 2 2 2h14c1.1 0 2-.9 2-2V5c0-1.1-.9-2-2-2zM9 17H7v-7h2v7zm4 0h-2V7h2v10zm4 0h-2v-4h2v4z\"/>\n",
              "    </g>\n",
              "</svg>\n",
              "  </button>\n",
              "\n",
              "<style>\n",
              "  .colab-df-quickchart {\n",
              "      --bg-color: #E8F0FE;\n",
              "      --fill-color: #1967D2;\n",
              "      --hover-bg-color: #E2EBFA;\n",
              "      --hover-fill-color: #174EA6;\n",
              "      --disabled-fill-color: #AAA;\n",
              "      --disabled-bg-color: #DDD;\n",
              "  }\n",
              "\n",
              "  [theme=dark] .colab-df-quickchart {\n",
              "      --bg-color: #3B4455;\n",
              "      --fill-color: #D2E3FC;\n",
              "      --hover-bg-color: #434B5C;\n",
              "      --hover-fill-color: #FFFFFF;\n",
              "      --disabled-bg-color: #3B4455;\n",
              "      --disabled-fill-color: #666;\n",
              "  }\n",
              "\n",
              "  .colab-df-quickchart {\n",
              "    background-color: var(--bg-color);\n",
              "    border: none;\n",
              "    border-radius: 50%;\n",
              "    cursor: pointer;\n",
              "    display: none;\n",
              "    fill: var(--fill-color);\n",
              "    height: 32px;\n",
              "    padding: 0;\n",
              "    width: 32px;\n",
              "  }\n",
              "\n",
              "  .colab-df-quickchart:hover {\n",
              "    background-color: var(--hover-bg-color);\n",
              "    box-shadow: 0 1px 2px rgba(60, 64, 67, 0.3), 0 1px 3px 1px rgba(60, 64, 67, 0.15);\n",
              "    fill: var(--button-hover-fill-color);\n",
              "  }\n",
              "\n",
              "  .colab-df-quickchart-complete:disabled,\n",
              "  .colab-df-quickchart-complete:disabled:hover {\n",
              "    background-color: var(--disabled-bg-color);\n",
              "    fill: var(--disabled-fill-color);\n",
              "    box-shadow: none;\n",
              "  }\n",
              "\n",
              "  .colab-df-spinner {\n",
              "    border: 2px solid var(--fill-color);\n",
              "    border-color: transparent;\n",
              "    border-bottom-color: var(--fill-color);\n",
              "    animation:\n",
              "      spin 1s steps(1) infinite;\n",
              "  }\n",
              "\n",
              "  @keyframes spin {\n",
              "    0% {\n",
              "      border-color: transparent;\n",
              "      border-bottom-color: var(--fill-color);\n",
              "      border-left-color: var(--fill-color);\n",
              "    }\n",
              "    20% {\n",
              "      border-color: transparent;\n",
              "      border-left-color: var(--fill-color);\n",
              "      border-top-color: var(--fill-color);\n",
              "    }\n",
              "    30% {\n",
              "      border-color: transparent;\n",
              "      border-left-color: var(--fill-color);\n",
              "      border-top-color: var(--fill-color);\n",
              "      border-right-color: var(--fill-color);\n",
              "    }\n",
              "    40% {\n",
              "      border-color: transparent;\n",
              "      border-right-color: var(--fill-color);\n",
              "      border-top-color: var(--fill-color);\n",
              "    }\n",
              "    60% {\n",
              "      border-color: transparent;\n",
              "      border-right-color: var(--fill-color);\n",
              "    }\n",
              "    80% {\n",
              "      border-color: transparent;\n",
              "      border-right-color: var(--fill-color);\n",
              "      border-bottom-color: var(--fill-color);\n",
              "    }\n",
              "    90% {\n",
              "      border-color: transparent;\n",
              "      border-bottom-color: var(--fill-color);\n",
              "    }\n",
              "  }\n",
              "</style>\n",
              "\n",
              "  <script>\n",
              "    async function quickchart(key) {\n",
              "      const quickchartButtonEl =\n",
              "        document.querySelector('#' + key + ' button');\n",
              "      quickchartButtonEl.disabled = true;  // To prevent multiple clicks.\n",
              "      quickchartButtonEl.classList.add('colab-df-spinner');\n",
              "      try {\n",
              "        const charts = await google.colab.kernel.invokeFunction(\n",
              "            'suggestCharts', [key], {});\n",
              "      } catch (error) {\n",
              "        console.error('Error during call to suggestCharts:', error);\n",
              "      }\n",
              "      quickchartButtonEl.classList.remove('colab-df-spinner');\n",
              "      quickchartButtonEl.classList.add('colab-df-quickchart-complete');\n",
              "    }\n",
              "    (() => {\n",
              "      let quickchartButtonEl =\n",
              "        document.querySelector('#df-6714eea7-dd1e-4b41-ab82-180270422933 button');\n",
              "      quickchartButtonEl.style.display =\n",
              "        google.colab.kernel.accessAllowed ? 'block' : 'none';\n",
              "    })();\n",
              "  </script>\n",
              "</div>\n",
              "    </div>\n",
              "  </div>\n"
            ],
            "application/vnd.google.colaboratory.intrinsic+json": {
              "type": "dataframe",
              "summary": "{\n  \"name\": \"df_chunks[0]\",\n  \"rows\": 986,\n  \"fields\": [\n    {\n      \"column\": \"Id\",\n      \"properties\": {\n        \"dtype\": \"number\",\n        \"std\": 284,\n        \"min\": 1,\n        \"max\": 986,\n        \"num_unique_values\": 986,\n        \"samples\": [\n          614,\n          452,\n          732\n        ],\n        \"semantic_type\": \"\",\n        \"description\": \"\"\n      }\n    },\n    {\n      \"column\": \"EmployeeName\",\n      \"properties\": {\n        \"dtype\": \"string\",\n        \"num_unique_values\": 978,\n        \"samples\": [\n          \"ROBERT TAI\",\n          \"MYO CHANG\",\n          \"DWAYNE CURRY\"\n        ],\n        \"semantic_type\": \"\",\n        \"description\": \"\"\n      }\n    },\n    {\n      \"column\": \"JobTitle\",\n      \"properties\": {\n        \"dtype\": \"category\",\n        \"num_unique_values\": 112,\n        \"samples\": [\n          \"sheriff's lieutenant\",\n          \"assistant chief attorney ii\",\n          \"assistant deputy chief ii\"\n        ],\n        \"semantic_type\": \"\",\n        \"description\": \"\"\n      }\n    },\n    {\n      \"column\": \"BasePay\",\n      \"properties\": {\n        \"dtype\": \"number\",\n        \"std\": 39170.91370569884,\n        \"min\": 25400.0,\n        \"max\": 294580.02,\n        \"num_unique_values\": 639,\n        \"samples\": [\n          224035.85,\n          126292.58,\n          174229.56\n        ],\n        \"semantic_type\": \"\",\n        \"description\": \"\"\n      }\n    },\n    {\n      \"column\": \"OvertimePay\",\n      \"properties\": {\n        \"dtype\": \"number\",\n        \"std\": 32202.000527838856,\n        \"min\": 0.0,\n        \"max\": 245131.88,\n        \"num_unique_values\": 622,\n        \"samples\": [\n          85752.59,\n          55635.93,\n          76726.73\n        ],\n        \"semantic_type\": \"\",\n        \"description\": \"\"\n      }\n    },\n    {\n      \"column\": \"OtherPay\",\n      \"properties\": {\n        \"dtype\": \"number\",\n        \"std\": 27385.79346624692,\n        \"min\": 0.0,\n        \"max\": 400184.25,\n        \"num_unique_values\": 815,\n        \"samples\": [\n          11374.31,\n          17839.48,\n          27437.04\n        ],\n        \"semantic_type\": \"\",\n        \"description\": \"\"\n      }\n    },\n    {\n      \"column\": \"Benefits\",\n      \"properties\": {\n        \"dtype\": \"number\",\n        \"std\": null,\n        \"min\": null,\n        \"max\": null,\n        \"num_unique_values\": 0,\n        \"samples\": [],\n        \"semantic_type\": \"\",\n        \"description\": \"\"\n      }\n    },\n    {\n      \"column\": \"TotalPay\",\n      \"properties\": {\n        \"dtype\": \"number\",\n        \"std\": 29580.72407071346,\n        \"min\": 170112.61,\n        \"max\": 567595.43,\n        \"num_unique_values\": 940,\n        \"samples\": [],\n        \"semantic_type\": \"\",\n        \"description\": \"\"\n      }\n    },\n    {\n      \"column\": \"TotalPayBenefits\",\n      \"properties\": {\n        \"dtype\": \"number\",\n        \"std\": 29580.72407071346,\n        \"min\": 170112.61,\n        \"max\": 567595.43,\n        \"num_unique_values\": 940,\n        \"samples\": [],\n        \"semantic_type\": \"\",\n        \"description\": \"\"\n      }\n    },\n    {\n      \"column\": \"Year\",\n      \"properties\": {\n        \"dtype\": \"number\",\n        \"std\": 0.0,\n        \"min\": 2011.0,\n        \"max\": 2011.0,\n        \"num_unique_values\": 1,\n        \"samples\": [],\n        \"semantic_type\": \"\",\n        \"description\": \"\"\n      }\n    },\n    {\n      \"column\": \"Notes\",\n      \"properties\": {\n        \"dtype\": \"number\",\n        \"std\": null,\n        \"min\": null,\n        \"max\": null,\n        \"num_unique_values\": 0,\n        \"samples\": [],\n        \"semantic_type\": \"\",\n        \"description\": \"\"\n      }\n    },\n    {\n      \"column\": \"Agency\",\n      \"properties\": {\n        \"dtype\": \"category\",\n        \"num_unique_values\": 1,\n        \"samples\": [],\n        \"semantic_type\": \"\",\n        \"description\": \"\"\n      }\n    },\n    {\n      \"column\": \"Status\",\n      \"properties\": {\n        \"dtype\": \"number\",\n        \"std\": null,\n        \"min\": null,\n        \"max\": null,\n        \"num_unique_values\": 0,\n        \"samples\": [],\n        \"semantic_type\": \"\",\n        \"description\": \"\"\n      }\n    }\n  ]\n}"
            }
          },
          "metadata": {},
          "execution_count": 58
        }
      ]
    },
    {
      "cell_type": "markdown",
      "metadata": {
        "id": "6l0T3H4lbYZt"
      },
      "source": [
        "### Processzek párhuzamos futtatása\n",
        "\n",
        "A párhuzamos feldolgozás további lépései\n",
        "\n",
        "- Készítsünk process listát, minden chunk-ra egyet\n",
        "\n",
        "- Futtasuk a processzeinket\n",
        "\n",
        "- Gyűjtsük össze az eredményeket és egyesítsük azokat egyetlen gyakorisági táblázatba\n",
        "\n",
        "Ehhez a `concurrent.futures` modult használjuk. Ez a modul lehetővé teszi több processz futtatását, és egyes processzek eredményéből egy listát készít.\n",
        "\n",
        "A `concurrent.futures` modul dokumentációja: https://docs.python.org/3/library/concurrent.futures.html\n"
      ]
    },
    {
      "cell_type": "markdown",
      "metadata": {
        "id": "PZ9hE6vtJ40w"
      },
      "source": [
        "---\n",
        "A `concurrent.futures` modul működése egy egyszerű példán.\n",
        "\n",
        "Legyen egy `string_mult()` függvényünk, amely egy adott stringet megadott számszor megtöbbszöröz:\n"
      ]
    },
    {
      "cell_type": "code",
      "execution_count": 59,
      "metadata": {
        "id": "qIzWgsp0bYZu"
      },
      "outputs": [],
      "source": [
        "def string_mult(string, times):\n",
        "    return string * times"
      ]
    },
    {
      "cell_type": "code",
      "source": [
        "# a függvény kipróbálása\n",
        "string_mult('abc',10)\n",
        "#print('abc'*10)"
      ],
      "metadata": {
        "id": "zjFbp1qcBaV7",
        "colab": {
          "base_uri": "https://localhost:8080/",
          "height": 35
        },
        "outputId": "1f09647a-4199-489a-c7a1-9061e78d5e84"
      },
      "execution_count": 69,
      "outputs": [
        {
          "output_type": "execute_result",
          "data": {
            "text/plain": [
              "'abcabcabcabcabcabcabcabcabcabc'"
            ],
            "application/vnd.google.colaboratory.intrinsic+json": {
              "type": "string"
            }
          },
          "metadata": {},
          "execution_count": 69
        }
      ]
    },
    {
      "cell_type": "markdown",
      "metadata": {
        "id": "uWlHwMAHKFzr"
      },
      "source": [
        "Alkalmazzuk a `string_mult()` függvényt a `concurrent.futures` modulban egy lista (`['a', 'b', 'c', 'd']`) elemeire.\n",
        "\n",
        "Ehhez használjuk a `concurrent.futures.ProcessPoolExecutor` osztályt.\n"
      ]
    },
    {
      "cell_type": "code",
      "execution_count": 60,
      "metadata": {
        "id": "0cNxdsT-bYZu"
      },
      "outputs": [],
      "source": [
        "strings = ['a', 'b', 'c', 'd']\n",
        "times = 3"
      ]
    },
    {
      "cell_type": "code",
      "execution_count": 72,
      "metadata": {
        "id": "Bs_-ITxSbYZt"
      },
      "outputs": [],
      "source": [
        "import concurrent.futures"
      ]
    },
    {
      "cell_type": "markdown",
      "source": [
        "A `ProcessPoolExecutor()` `submit()` függvénye végrehajt egy függvényt. Első argumentuma a futtatandó függvény neve, azután a függvényargumentumok következnek vesszővel elválasztva."
      ],
      "metadata": {
        "id": "RPll5zSNhPgp"
      }
    },
    {
      "cell_type": "code",
      "source": [
        "concurrent.futures.ProcessPoolExecutor().submit(string_mult, 'abcd', times)"
      ],
      "metadata": {
        "id": "68tHZKS5ChMj",
        "colab": {
          "base_uri": "https://localhost:8080/"
        },
        "outputId": "22c2f719-b020-4c9c-d4f8-b8579787a846"
      },
      "execution_count": 73,
      "outputs": [
        {
          "output_type": "execute_result",
          "data": {
            "text/plain": [
              "<Future at 0x7ced2c603190 state=running>"
            ]
          },
          "metadata": {},
          "execution_count": 73
        }
      ]
    },
    {
      "cell_type": "markdown",
      "metadata": {
        "id": "i_E9oq6iKPZ6"
      },
      "source": [
        "Az `executor.submit()` függvény által létrehozott objektumok `Future` típusúak.\n",
        "A `Future.result()` metódus segítségével megkaphatjuk a visszatérési értékeket."
      ]
    },
    {
      "cell_type": "code",
      "source": [
        "concurrent.futures.ProcessPoolExecutor().submit(string_mult, 'abcd', times).result()"
      ],
      "metadata": {
        "id": "wQRO1Qqrnja8",
        "colab": {
          "base_uri": "https://localhost:8080/",
          "height": 35
        },
        "outputId": "9995c621-bb98-49e4-f7e5-9e02eb554742"
      },
      "execution_count": 74,
      "outputs": [
        {
          "output_type": "execute_result",
          "data": {
            "text/plain": [
              "'abcdabcdabcd'"
            ],
            "application/vnd.google.colaboratory.intrinsic+json": {
              "type": "string"
            }
          },
          "metadata": {},
          "execution_count": 74
        }
      ]
    },
    {
      "cell_type": "markdown",
      "source": [
        "Alkalmazzuk mindezt a `string` listánkra."
      ],
      "metadata": {
        "id": "yA0Bqd4bnzF_"
      }
    },
    {
      "cell_type": "code",
      "execution_count": 64,
      "metadata": {
        "id": "3Bpd2RBAbYZu"
      },
      "outputs": [],
      "source": [
        "with concurrent.futures.ProcessPoolExecutor() as executor:\n",
        "    futures = [executor.submit(string_mult, string, times) for string in strings]"
      ]
    },
    {
      "cell_type": "code",
      "execution_count": 75,
      "metadata": {
        "id": "hwlObrsOV537",
        "colab": {
          "base_uri": "https://localhost:8080/"
        },
        "outputId": "f6218821-e652-4e1b-9d01-9625e7f9dddb"
      },
      "outputs": [
        {
          "output_type": "execute_result",
          "data": {
            "text/plain": [
              "[<Future at 0x7ced264c3670 state=finished returned str>,\n",
              " <Future at 0x7ced264c3d30 state=finished returned str>,\n",
              " <Future at 0x7ced264c3df0 state=finished returned str>,\n",
              " <Future at 0x7ced264c3eb0 state=finished returned str>]"
            ]
          },
          "metadata": {},
          "execution_count": 75
        }
      ],
      "source": [
        "futures"
      ]
    },
    {
      "cell_type": "code",
      "execution_count": 76,
      "metadata": {
        "id": "6Z0IzeX-V537",
        "colab": {
          "base_uri": "https://localhost:8080/",
          "height": 35
        },
        "outputId": "e56ddfc5-91a2-4d4b-ffcc-c7be930fbfca"
      },
      "outputs": [
        {
          "output_type": "execute_result",
          "data": {
            "text/plain": [
              "'aaa'"
            ],
            "application/vnd.google.colaboratory.intrinsic+json": {
              "type": "string"
            }
          },
          "metadata": {},
          "execution_count": 76
        }
      ],
      "source": [
        "futures[0].result()"
      ]
    },
    {
      "cell_type": "code",
      "execution_count": 77,
      "metadata": {
        "id": "YUYSadWiuHnx",
        "colab": {
          "base_uri": "https://localhost:8080/"
        },
        "outputId": "3c9c024e-7fe0-4fea-a761-2c6061a721d1"
      },
      "outputs": [
        {
          "output_type": "execute_result",
          "data": {
            "text/plain": [
              "['aaa', 'bbb', 'ccc', 'ddd']"
            ]
          },
          "metadata": {},
          "execution_count": 77
        }
      ],
      "source": [
        "results = [future.result() for future in futures]\n",
        "results"
      ]
    },
    {
      "cell_type": "markdown",
      "metadata": {
        "id": "Ot8uoeEWhVPm"
      },
      "source": [
        "Mindez összefoglalható egy függvényben."
      ]
    },
    {
      "cell_type": "code",
      "execution_count": 78,
      "metadata": {
        "id": "sNkcY4DMuj1i"
      },
      "outputs": [],
      "source": [
        "def parallel(function, strings, times):\n",
        "    with concurrent.futures.ProcessPoolExecutor() as executor:\n",
        "        futures = [executor.submit(function, string, times) for string in strings]\n",
        "    return [future.result() for future in futures]"
      ]
    },
    {
      "cell_type": "code",
      "execution_count": 79,
      "metadata": {
        "id": "D5kKMVjrwGXX",
        "colab": {
          "base_uri": "https://localhost:8080/"
        },
        "outputId": "6d2286b7-2aea-4cf7-dad6-c67d17f15f8c"
      },
      "outputs": [
        {
          "output_type": "execute_result",
          "data": {
            "text/plain": [
              "['1111111111', '2222222222', '3333333333']"
            ]
          },
          "metadata": {},
          "execution_count": 79
        }
      ],
      "source": [
        "results = parallel(string_mult, ['1','2','3'], 10)\n",
        "results"
      ]
    },
    {
      "cell_type": "markdown",
      "metadata": {
        "id": "4_pJpTu5wypV"
      },
      "source": [
        "---\n",
        "Alkalmazzuk mindezt a kiindulási problémára (beosztások gyakoriságának meghatározása)."
      ]
    },
    {
      "cell_type": "code",
      "execution_count": 87,
      "metadata": {
        "id": "Q2bgdBUmh6j4"
      },
      "outputs": [],
      "source": [
        "def count_jobs_parallel(function, data, sequence): ## itt már chunkokra vannak dobálva az adatok\n",
        "    with concurrent.futures.ProcessPoolExecutor() as executor:\n",
        "        futures = [executor.submit(function, chunk, sequence) for chunk in data]\n",
        "    return [future.result() for future in futures]"
      ]
    },
    {
      "cell_type": "code",
      "source": [
        "# a függvény alkalmazása a beosztások gyakoriságának megszámlálására\n",
        "frequency = count_jobs_parallel(count jobs, df_chunks, jobs)\n",
        "print(frequency)\n"
      ],
      "metadata": {
        "id": "OQR3wU4B0bOj",
        "colab": {
          "base_uri": "https://localhost:8080/",
          "height": 109
        },
        "outputId": "81c6f7dc-26f0-454a-973e-42ce180bf572"
      },
      "execution_count": 89,
      "outputs": [
        {
          "output_type": "error",
          "ename": "SyntaxError",
          "evalue": "invalid syntax. Perhaps you forgot a comma? (<ipython-input-89-cfb164ffebc7>, line 2)",
          "traceback": [
            "\u001b[0;36m  File \u001b[0;32m\"<ipython-input-89-cfb164ffebc7>\"\u001b[0;36m, line \u001b[0;32m2\u001b[0m\n\u001b[0;31m    frequency = count_jobs_parallel(count jobs, df_chunks, jobs)\u001b[0m\n\u001b[0m                                    ^\u001b[0m\n\u001b[0;31mSyntaxError\u001b[0m\u001b[0;31m:\u001b[0m invalid syntax. Perhaps you forgot a comma?\n"
          ]
        }
      ]
    },
    {
      "cell_type": "markdown",
      "metadata": {
        "id": "Rm99yeAcRvkx"
      },
      "source": [
        "Egészítsük ki a függvényünket egy további argumentummal, a processzek számával."
      ]
    },
    {
      "cell_type": "code",
      "execution_count": 84,
      "metadata": {
        "id": "BuVsZ_MKbYZt"
      },
      "outputs": [],
      "source": [
        "def count_jobs_parallel_mod(function, data, sequence, num_processes):\n",
        "    chunks = make_chunks(data, num_processes)\n",
        "    with concurrent.futures.ProcessPoolExecutor() as executor:\n",
        "        futures = [executor.submit(function, chunk, sequence) for chunk in chunks]\n",
        "    return [future.result() for future in futures]"
      ]
    },
    {
      "cell_type": "code",
      "source": [
        "# a függvény alkalmazása a beosztások gyakoriságának megszámlálására\n",
        "frequency = count_jobs_parallel_mod(count_jobs, df, jobs,10)\n",
        "print(frequency)"
      ],
      "metadata": {
        "id": "sLq9DO0o0oPz",
        "colab": {
          "base_uri": "https://localhost:8080/"
        },
        "outputId": "83f82f01-9e03-4326-94f7-c4f9f653e424"
      },
      "execution_count": 93,
      "outputs": [
        {
          "output_type": "stream",
          "name": "stdout",
          "text": [
            "[{'manager': 81, 'captain': 90, 'director': 48, 'assistant': 42, 'inspector': 46, 'administrator': 2, 'deputy chief': 13, 'department head': 19}, {'manager': 88, 'captain': 26, 'director': 15, 'assistant': 17, 'inspector': 45, 'administrator': 0, 'deputy chief': 0, 'department head': 7}, {'manager': 117, 'captain': 13, 'director': 11, 'assistant': 11, 'inspector': 70, 'administrator': 1, 'deputy chief': 0, 'department head': 1}, {'manager': 104, 'captain': 3, 'director': 17, 'assistant': 11, 'inspector': 45, 'administrator': 1, 'deputy chief': 0, 'department head': 5}, {'manager': 48, 'captain': 3, 'director': 29, 'assistant': 10, 'inspector': 21, 'administrator': 0, 'deputy chief': 0, 'department head': 1}, {'manager': 116, 'captain': 0, 'director': 14, 'assistant': 7, 'inspector': 10, 'administrator': 1, 'deputy chief': 0, 'department head': 1}, {'manager': 90, 'captain': 0, 'director': 6, 'assistant': 10, 'inspector': 19, 'administrator': 2, 'deputy chief': 0, 'department head': 0}, {'manager': 61, 'captain': 1, 'director': 5, 'assistant': 11, 'inspector': 33, 'administrator': 3, 'deputy chief': 0, 'department head': 2}, {'manager': 82, 'captain': 1, 'director': 4, 'assistant': 9, 'inspector': 63, 'administrator': 5, 'deputy chief': 0, 'department head': 0}, {'manager': 34.0, 'captain': 0.0, 'director': 3.0, 'assistant': 14.0, 'inspector': 65.0, 'administrator': 22.0, 'deputy chief': 0.0, 'department head': 0.0}]\n"
          ]
        }
      ]
    },
    {
      "cell_type": "markdown",
      "source": [
        "### Eredmények kombinálása\n",
        "\n",
        "Python | Sum list of dictionaries with same key: https://www.geeksforgeeks.org/python-sum-list-of-dictionaries-with-same-key/\n",
        "> Method #1: Using reduce() + operator\n",
        "\n"
      ],
      "metadata": {
        "id": "VDl4FI3-rRxl"
      }
    },
    {
      "cell_type": "code",
      "source": [
        "import collections, functools, operator\n",
        "\n",
        "frequency_sum = dict(functools.reduce(operator.add,\n",
        "         map(collections.Counter, frequency)))\n",
        "print(frequency_sum)"
      ],
      "metadata": {
        "id": "Pn5Kwio7lemC",
        "colab": {
          "base_uri": "https://localhost:8080/"
        },
        "outputId": "7da64985-3c44-424b-be61-83bdd6008e89"
      },
      "execution_count": 94,
      "outputs": [
        {
          "output_type": "stream",
          "name": "stdout",
          "text": [
            "{'manager': 821.0, 'captain': 137.0, 'director': 152.0, 'assistant': 142.0, 'inspector': 417.0, 'administrator': 37.0, 'deputy chief': 13.0, 'department head': 36.0}\n"
          ]
        }
      ]
    },
    {
      "cell_type": "markdown",
      "metadata": {
        "id": "OSaBJQhyU78t"
      },
      "source": [
        "---\n",
        "## 3. MapReduce\n",
        "\n",
        "Készítsünk saját MapReduce keretrendszert.\n",
        "\n",
        "- Split: az adatok felosztása részekre (chunks).\n",
        "\n",
        "- Map: párhuzamos feldolgozás minden részre.\n",
        "\n",
        "- Reduce: az egyes részek eredményeinek kombinálása - globális eredmény.\n",
        "\n"
      ]
    },
    {
      "cell_type": "markdown",
      "metadata": {
        "id": "pbdREQvTU78u"
      },
      "source": [
        "###Példa\n",
        "\n",
        "MapReduce segítségével egy számlistában a maximális érték kiszámításának lépései.\n",
        "\n",
        "1.   Split: a `make_chunks()` függvény használata a lista kisebb darabokra bontásához.\n",
        "2.   Map: adott chunk-ra a maximális érték meghatározása (ehhez használható a `max()` beépített függvény).\n",
        "3. Reduce: eredmények összesítése.\n",
        "\n",
        "\n",
        "![image.png](data:image/png;base64,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)\n"
      ]
    },
    {
      "cell_type": "code",
      "execution_count": 95,
      "metadata": {
        "id": "8E59Gk9VU78v"
      },
      "outputs": [],
      "source": [
        "values = [1, 4, 5, 2, 7, 21,     \\\n",
        "          31, 41, 3, 40, 5, 14,  \\\n",
        "          9, 32, 12, 18, 1, 30,  \\\n",
        "          6, 19, 23, 35, 12, 13, \\\n",
        "          0, 12, 42, 41, 11, 9]"
      ]
    },
    {
      "cell_type": "markdown",
      "metadata": {
        "id": "xTjp5nTaU78t"
      },
      "source": [
        "### Split\n",
        "\n",
        "Korábban használtuk:\n",
        "\n",
        "```python\n",
        "def make_chunks(df, num_chunks):\n",
        "    chunk_size = math.ceil(df.shape[0] / num_chunks)\n",
        "    return [df[i:i+chunk_size] for i in range(0, df.shape[0], chunk_size)]\n",
        "```\n",
        "\n",
        "általánosítás: `df.shape` helyett `len()` - DataFrame-ek mellett listákra és egyéb python objektumokra is használható\n"
      ]
    },
    {
      "cell_type": "code",
      "execution_count": 96,
      "metadata": {
        "id": "HExvGHVrU78u"
      },
      "outputs": [],
      "source": [
        "def make_chunks(data, num_chunks):\n",
        "    chunk_size = math.ceil(len(data) / num_chunks)\n",
        "    return [data[i:i+chunk_size] for i in range(0, len(data), chunk_size)]"
      ]
    },
    {
      "cell_type": "code",
      "execution_count": 112,
      "metadata": {
        "id": "MP58jDI9U78u"
      },
      "outputs": [],
      "source": [
        "chunks = make_chunks(values, 5) # itt állítható  a szám !!!"
      ]
    },
    {
      "cell_type": "code",
      "execution_count": 113,
      "metadata": {
        "id": "FyNC_Ls9U78u",
        "colab": {
          "base_uri": "https://localhost:8080/"
        },
        "outputId": "5e8326c6-6d6c-4836-9c90-4b466fb0ecf8"
      },
      "outputs": [
        {
          "output_type": "execute_result",
          "data": {
            "text/plain": [
              "[[1, 4, 5, 2, 7, 21],\n",
              " [31, 41, 3, 40, 5, 14],\n",
              " [9, 32, 12, 18, 1, 30],\n",
              " [6, 19, 23, 35, 12, 13],\n",
              " [0, 12, 42, 41, 11, 9]]"
            ]
          },
          "metadata": {},
          "execution_count": 113
        }
      ],
      "source": [
        "chunks"
      ]
    },
    {
      "cell_type": "markdown",
      "source": [
        "### Map"
      ],
      "metadata": {
        "id": "3_dtJ_kpuFlZ"
      }
    },
    {
      "cell_type": "markdown",
      "metadata": {
        "id": "Xm9AbgKcU78u"
      },
      "source": [
        "#### `map_parallel()` függvény készítése\n",
        "\n",
        "Korábban használt `count_jobs_parallel_mod` függvény általánosítása:\n",
        "\n",
        "```python\n",
        "def count_jobs_parallel_mod(function, data, num_processes):\n",
        "    chunks = make_chunks(data, num_processes)\n",
        "    with concurrent.futures.ProcessPoolExecutor() as executor:\n",
        "        futures = [executor.submit(function, chunk) for chunk in chunks]\n",
        "    return [future.result() for future in futures]\n",
        "```\n",
        "\n",
        "A `map_parallel()` függvénynek három paramétere lesz:\n",
        "\n",
        "- mapper: a függvény, amelyet alkalmazni szeretnénk a részeken (chunk) - a fenti példában ez a `max()` függvény\n",
        "\n",
        "- data: az adat\n",
        "\n",
        "- num_processes: a processzek száma"
      ]
    },
    {
      "cell_type": "code",
      "execution_count": 117,
      "metadata": {
        "id": "7J6O_EmLU78v"
      },
      "outputs": [],
      "source": [
        "def map_parallel(mapper, data, num_processes):\n",
        "    chunks = make_chunks(data, num_processes)\n",
        "    with concurrent.futures.ProcessPoolExecutor() as executor:\n",
        "        futures = [executor.submit(mapper, chunk) for chunk in chunks]\n",
        "    return [future.result() for future in futures]"
      ]
    },
    {
      "cell_type": "markdown",
      "metadata": {
        "id": "vXfFA21XU78v"
      },
      "source": [
        "Hívjuk meg a `map_parallel()` függvényt a következő paraméterekkel:\n",
        "- mapper: a `max()` beépített függvény\n",
        "- data: `values` értéklista\n",
        "- num_processes: 5"
      ]
    },
    {
      "cell_type": "code",
      "source": [
        "results= map_parallel(max,values,5)\n",
        "results"
      ],
      "metadata": {
        "id": "XupxD6P50v1_",
        "colab": {
          "base_uri": "https://localhost:8080/"
        },
        "outputId": "36a87291-f463-44f3-fda9-47be58379a52"
      },
      "execution_count": 116,
      "outputs": [
        {
          "output_type": "execute_result",
          "data": {
            "text/plain": [
              "[21, 41, 32, 35, 42]"
            ]
          },
          "metadata": {},
          "execution_count": 116
        }
      ]
    },
    {
      "cell_type": "markdown",
      "metadata": {
        "id": "1AgwWPqxU78v"
      },
      "source": [
        "#### Másik módszer: `Pool` használata\n",
        "\n",
        "Multiprocessing — Process-based parallelism: https://docs.python.org/3/library/multiprocessing.html\n",
        "\n",
        "A `multiprocessing` modul `Pool` objektumának használatával:\n",
        "\n",
        "```python\n",
        "from multiprocessing import Pool\n",
        "pool = Pool(num_processes)\n",
        "```\n",
        "\n",
        "Ha nem adjuk meg a processzek számát, akkor automatikusan az `os.cpu_count()` értékre áll be, ami a CPU-k száma (Colab vagy saját gép használata esetén a gépünkön):\n",
        "\n",
        "```python\n",
        "import os\n",
        "print(os.cpu_count())\n",
        "```\n",
        "\n",
        "```python\n",
        "import multiprocessing\n",
        "multiprocessing.cpu_count()\n",
        "```"
      ]
    },
    {
      "cell_type": "code",
      "source": [
        "import os\n",
        "print(os.cpu_count())"
      ],
      "metadata": {
        "id": "MpwO7eIVhj4q",
        "colab": {
          "base_uri": "https://localhost:8080/"
        },
        "outputId": "41a99e99-4023-41b5-aebb-60beaed590f1"
      },
      "execution_count": 100,
      "outputs": [
        {
          "output_type": "stream",
          "name": "stdout",
          "text": [
            "2\n"
          ]
        }
      ]
    },
    {
      "cell_type": "code",
      "execution_count": 101,
      "metadata": {
        "id": "MAIC_hhCU78w",
        "colab": {
          "base_uri": "https://localhost:8080/"
        },
        "outputId": "c6ca936c-cde8-4e6a-87cf-9f8bd519828b"
      },
      "outputs": [
        {
          "output_type": "execute_result",
          "data": {
            "text/plain": [
              "<multiprocessing.pool.Pool state=RUN pool_size=2>"
            ]
          },
          "metadata": {},
          "execution_count": 101
        }
      ],
      "source": [
        "from multiprocessing import Pool\n",
        "pool = Pool()\n",
        "pool"
      ]
    },
    {
      "cell_type": "code",
      "source": [
        "pool = Pool(3)\n",
        "pool"
      ],
      "metadata": {
        "id": "wd3WtBGYxVox",
        "colab": {
          "base_uri": "https://localhost:8080/"
        },
        "outputId": "8b149225-9eec-4fdb-d643-0364fe5f21b5"
      },
      "execution_count": 102,
      "outputs": [
        {
          "output_type": "execute_result",
          "data": {
            "text/plain": [
              "<multiprocessing.pool.Pool state=RUN pool_size=3>"
            ]
          },
          "metadata": {},
          "execution_count": 102
        }
      ]
    },
    {
      "cell_type": "markdown",
      "metadata": {
        "id": "bKpvw4uRU78w"
      },
      "source": [
        "A `Pool.map()` metódus segítségével párhuzamosan futtathatunk függvényeket adatdarabokon.\n",
        "\n",
        "Példa a `Pool.map()` használatára - a `sum()` függvény párhuzamos alkalmazása listák listájára:"
      ]
    },
    {
      "cell_type": "code",
      "execution_count": 103,
      "metadata": {
        "id": "ZsN1NuV_U78w",
        "colab": {
          "base_uri": "https://localhost:8080/"
        },
        "outputId": "460b7bd2-cf6b-4c88-95eb-8643c6045245"
      },
      "outputs": [
        {
          "output_type": "stream",
          "name": "stdout",
          "text": [
            "[6, 15, 24]\n"
          ]
        }
      ],
      "source": [
        "sums = pool.map(sum, [[1, 2, 3], [4, 5, 6], [7, 8, 9]])\n",
        "print(sums)"
      ]
    },
    {
      "cell_type": "markdown",
      "metadata": {
        "id": "4ritGAHaU78w"
      },
      "source": [
        "A korábbi ábrán levő példa esetén:"
      ]
    },
    {
      "cell_type": "code",
      "source": [
        "print(values)"
      ],
      "metadata": {
        "id": "XaN_hcq1kQwa",
        "colab": {
          "base_uri": "https://localhost:8080/"
        },
        "outputId": "40720efe-1e6b-4cbe-f873-388db8ca5b90"
      },
      "execution_count": 104,
      "outputs": [
        {
          "output_type": "stream",
          "name": "stdout",
          "text": [
            "[1, 4, 5, 2, 7, 21, 31, 41, 3, 40, 5, 14, 9, 32, 12, 18, 1, 30, 6, 19, 23, 35, 12, 13, 0, 12, 42, 41, 11, 9]\n"
          ]
        }
      ]
    },
    {
      "cell_type": "code",
      "execution_count": 105,
      "metadata": {
        "id": "Upzdr5g8U78w",
        "colab": {
          "base_uri": "https://localhost:8080/"
        },
        "outputId": "63a366a1-19ba-46b9-e65a-a54e515f00b1"
      },
      "outputs": [
        {
          "output_type": "execute_result",
          "data": {
            "text/plain": [
              "[[1, 4, 5, 2, 7, 21, 31, 41],\n",
              " [3, 40, 5, 14, 9, 32, 12, 18],\n",
              " [1, 30, 6, 19, 23, 35, 12, 13],\n",
              " [0, 12, 42, 41, 11, 9]]"
            ]
          },
          "metadata": {},
          "execution_count": 105
        }
      ],
      "source": [
        "chunks = make_chunks(values, 4)\n",
        "chunks"
      ]
    },
    {
      "cell_type": "code",
      "execution_count": 106,
      "metadata": {
        "id": "ZDqZx3SCT6Cz"
      },
      "outputs": [],
      "source": [
        "with Pool(4) as pool:\n",
        "    results = pool.map(max, chunks)"
      ]
    },
    {
      "cell_type": "code",
      "execution_count": 107,
      "metadata": {
        "id": "FofIuF-MU78w",
        "colab": {
          "base_uri": "https://localhost:8080/"
        },
        "outputId": "28b03ba4-77e7-466c-a57a-15623df0b14a"
      },
      "outputs": [
        {
          "output_type": "execute_result",
          "data": {
            "text/plain": [
              "[41, 40, 35, 42]"
            ]
          },
          "metadata": {},
          "execution_count": 107
        }
      ],
      "source": [
        "results"
      ]
    },
    {
      "cell_type": "markdown",
      "metadata": {
        "id": "1U0kq53MU78x"
      },
      "source": [
        "### Reduce\n",
        "\n",
        "A `functools` modul `reduce` függvényét használhatjuk. A `functools.reduce()` függvénynek két argumentuma van:\n",
        "\n",
        "- a reducer függvény\n",
        "- lista, amelyen a reducer függvényt alkalmazzuk\n",
        "\n",
        "Példa: reducer függvény az `add()` függvény, amely két számot összead:\n",
        "\n"
      ]
    },
    {
      "cell_type": "code",
      "execution_count": 118,
      "metadata": {
        "id": "ynHXplCfU78x"
      },
      "outputs": [],
      "source": [
        "def add(x, y):\n",
        "    return x + y"
      ]
    },
    {
      "cell_type": "code",
      "execution_count": 119,
      "metadata": {
        "id": "cPpsXTZWU78x",
        "colab": {
          "base_uri": "https://localhost:8080/"
        },
        "outputId": "d4af75ee-cfd1-4a92-e730-b0e1d903b82f"
      },
      "outputs": [
        {
          "output_type": "stream",
          "name": "stdout",
          "text": [
            "34\n"
          ]
        }
      ],
      "source": [
        "#import functools\n",
        "print(functools.reduce(add, [5, 7, 3, 9, 4, 6]))"
      ]
    },
    {
      "cell_type": "markdown",
      "metadata": {
        "id": "QweuZ5V3U78x"
      },
      "source": [
        "A `functools.reduce()` függvény alkalmazása a korábbi ábrán látható példára (a reducer függvény a `max` függvény):"
      ]
    },
    {
      "cell_type": "code",
      "execution_count": 120,
      "metadata": {
        "id": "u8Hp12HRU78x",
        "colab": {
          "base_uri": "https://localhost:8080/"
        },
        "outputId": "cd929ed2-a64f-47d2-974c-bb8d198c2252"
      },
      "outputs": [
        {
          "output_type": "execute_result",
          "data": {
            "text/plain": [
              "[21, 41, 32, 35, 42]"
            ]
          },
          "metadata": {},
          "execution_count": 120
        }
      ],
      "source": [
        "# a map utáni eredmény\n",
        "results"
      ]
    },
    {
      "cell_type": "code",
      "source": [
        "max_value= functools.reduce(max,results)\n",
        "max_value"
      ],
      "metadata": {
        "id": "nu9kODQx0724",
        "colab": {
          "base_uri": "https://localhost:8080/"
        },
        "outputId": "2a1aee2f-7821-429b-83a9-07aed57d3331"
      },
      "execution_count": 125,
      "outputs": [
        {
          "output_type": "execute_result",
          "data": {
            "text/plain": [
              "42"
            ]
          },
          "metadata": {},
          "execution_count": 125
        }
      ]
    },
    {
      "cell_type": "markdown",
      "metadata": {
        "id": "SOPNPL3CU78x"
      },
      "source": [
        "### Saját MapReduce keretrendszer készítése\n",
        "\n",
        "A korábbi ábrán látható példa (számlista maximális értékének meghatározása) megoldása.\n",
        "\n",
        "1. Adatok felosztása a `make_chunks()` függvény használatával\n",
        "2. Minden részhalmaz maximumának meghatározása a `Pool.map()` metódussal\n",
        "3. Az eredmények kombinálása a `functools.reduce()` függvény használatával"
      ]
    },
    {
      "cell_type": "code",
      "execution_count": 121,
      "metadata": {
        "id": "YB8H-FfTVBPK",
        "colab": {
          "base_uri": "https://localhost:8080/"
        },
        "outputId": "9afd4f34-02e8-4a83-83bc-899e0f2c720f"
      },
      "outputs": [
        {
          "output_type": "stream",
          "name": "stdout",
          "text": [
            "[1, 4, 5, 2, 7, 21, 31, 41, 3, 40, 5, 14, 9, 32, 12, 18, 1, 30, 6, 19, 23, 35, 12, 13, 0, 12, 42, 41, 11, 9]\n"
          ]
        }
      ],
      "source": [
        "print(values)"
      ]
    },
    {
      "cell_type": "code",
      "execution_count": 122,
      "metadata": {
        "id": "i35pIpatU78y"
      },
      "outputs": [],
      "source": [
        "num_processes = 5"
      ]
    },
    {
      "cell_type": "code",
      "execution_count": 123,
      "metadata": {
        "id": "wlwvjnK0U78y"
      },
      "outputs": [],
      "source": [
        "chunks = make_chunks(values, num_processes)\n",
        "\n",
        "with Pool(num_processes) as pool:\n",
        "    chunk_results = pool.map(max, chunks)\n",
        "\n",
        "overall_result = functools.reduce(max, chunk_results)"
      ]
    },
    {
      "cell_type": "code",
      "execution_count": 124,
      "metadata": {
        "id": "AkZNwiPhU78y",
        "colab": {
          "base_uri": "https://localhost:8080/"
        },
        "outputId": "715ef0c1-4d1c-4a11-e95b-53a56fea7db3"
      },
      "outputs": [
        {
          "output_type": "execute_result",
          "data": {
            "text/plain": [
              "42"
            ]
          },
          "metadata": {},
          "execution_count": 124
        }
      ],
      "source": [
        "overall_result"
      ]
    },
    {
      "cell_type": "markdown",
      "metadata": {
        "id": "-0tp93avU78y"
      },
      "source": [
        "**Minden lépést tegyünk bele egy függvénybe**\n",
        "\n",
        "`map_reduce()` függvény készítése, amely bármely adathalmazon alkalmazható. Ennek paraméterei:\n",
        "\n",
        "1. adathalmaz: `data`\n",
        "2. folyamatok száma (chunk-ok száma): `num_processes`\n",
        "3. a chunk-okra alkalmazandó függvény: `mapper`\n",
        "4. a chunk-ok eredményeit kombináló függvény: `reducer`"
      ]
    },
    {
      "cell_type": "code",
      "source": [
        "def map_reduce(data,map_processes,mapper,reducer):\n",
        "  chunks= make_chunks(data,num_processes)\n",
        "  with Pool(map_processes) as pool:\n",
        "    chunk_results =pool.map(mapper, chunks)\n",
        "  return functools.reduce(reducer,chunk_results)"
      ],
      "metadata": {
        "id": "adlG93tm1An-"
      },
      "execution_count": 128,
      "outputs": []
    },
    {
      "cell_type": "markdown",
      "metadata": {
        "id": "A1fq3TGXU78y"
      },
      "source": [
        "A `map_reduce()` függvény használata a korábbi képen levő példára (számok maximumának meghatározása):"
      ]
    },
    {
      "cell_type": "code",
      "source": [
        "max_value = map_reduce(values,5,max,max)\n",
        "max_value"
      ],
      "metadata": {
        "id": "-TpOXxN81C6q",
        "colab": {
          "base_uri": "https://localhost:8080/"
        },
        "outputId": "734d1567-a3aa-4a9a-e5c0-5b6c2ce7b73b"
      },
      "execution_count": 130,
      "outputs": [
        {
          "output_type": "execute_result",
          "data": {
            "text/plain": [
              "42"
            ]
          },
          "metadata": {},
          "execution_count": 130
        }
      ]
    },
    {
      "cell_type": "markdown",
      "source": [
        "**Feladat:** A `map_reduce()` függvény használata a számok minimumának meghatározására."
      ],
      "metadata": {
        "id": "YwCjMIfcpOeP"
      }
    },
    {
      "cell_type": "code",
      "source": [
        "min_value =map_reduce(values,5,min,min)\n",
        "min_value"
      ],
      "metadata": {
        "id": "XnKY1UDL1Gb7",
        "colab": {
          "base_uri": "https://localhost:8080/"
        },
        "outputId": "aa2257e9-9a09-43c8-cff1-c536d5e5dc8c"
      },
      "execution_count": 132,
      "outputs": [
        {
          "output_type": "execute_result",
          "data": {
            "text/plain": [
              "0"
            ]
          },
          "metadata": {},
          "execution_count": 132
        }
      ]
    },
    {
      "cell_type": "markdown",
      "source": [
        "**Feladat:** A `map_reduce()` függvény használata a számok összegének meghatározására."
      ],
      "metadata": {
        "id": "d0TLjUZemkYb"
      }
    },
    {
      "cell_type": "code",
      "source": [
        "sum_value= map_reduce(values,5,sum,add)\n",
        "sum_value"
      ],
      "metadata": {
        "id": "OVEqHanT1H4A",
        "colab": {
          "base_uri": "https://localhost:8080/"
        },
        "outputId": "bac68d6e-95a0-47ba-8e9d-d78b85963c86"
      },
      "execution_count": 135,
      "outputs": [
        {
          "output_type": "execute_result",
          "data": {
            "text/plain": [
              "499"
            ]
          },
          "metadata": {},
          "execution_count": 135
        }
      ]
    },
    {
      "cell_type": "code",
      "source": [
        "sum_value= map_reduce(values,5,sum,(lambda x,y : x+y))\n",
        "sum_value"
      ],
      "metadata": {
        "colab": {
          "base_uri": "https://localhost:8080/"
        },
        "id": "9ZbezicVROk3",
        "outputId": "ec4fba48-9b98-45df-d97a-e785893ca731"
      },
      "execution_count": 136,
      "outputs": [
        {
          "output_type": "execute_result",
          "data": {
            "text/plain": [
              "499"
            ]
          },
          "metadata": {},
          "execution_count": 136
        }
      ]
    },
    {
      "cell_type": "markdown",
      "source": [],
      "metadata": {
        "id": "8UeDTX1kRORZ"
      }
    },
    {
      "cell_type": "markdown",
      "metadata": {
        "id": "iSblKgTSU78z"
      },
      "source": [
        "---\n",
        "**Kiindulási példa megoldása a `map_reduce()` függvény használatával.**\n",
        "\n",
        "1. változat (`jobs` DataFrame particionálásával)\n",
        "\n",
        "- `mapper()` függvény definiálása\n",
        "\n",
        "- `reducer()` függvény definiálása (két argumentuma: `dict1`, `dict2` - a két rész gyakoriság-táblái (különböző kulcsokkal), ezeket egyesíti a `dict.update()` metódussal)\n",
        "\n",
        "- `map_reduce()` függvény meghívása négy argumentummal: jobs, 4, mapper, reducer"
      ]
    },
    {
      "cell_type": "code",
      "execution_count": 137,
      "metadata": {
        "id": "9QWZ99_9U78z"
      },
      "outputs": [],
      "source": [
        "#import pandas as pd"
      ]
    },
    {
      "cell_type": "code",
      "execution_count": 138,
      "metadata": {
        "id": "bm5dpVnAU78z"
      },
      "outputs": [],
      "source": [
        "#df = pd.read_csv(\"Salaries.csv\")"
      ]
    },
    {
      "cell_type": "code",
      "execution_count": 139,
      "metadata": {
        "id": "-cDUHTydU78z"
      },
      "outputs": [],
      "source": [
        "#df[\"JobTitle\"] = df[\"JobTitle\"].str.lower()"
      ]
    },
    {
      "cell_type": "code",
      "execution_count": 140,
      "metadata": {
        "id": "DcI0oEt8U78z"
      },
      "outputs": [],
      "source": [
        "#jobs = pd.read_csv(\"Jobs.csv\")"
      ]
    },
    {
      "cell_type": "code",
      "source": [
        "def mapper(job_chunk):\n",
        "    frequency = {}\n",
        "    for job_name in job_chunk[\"Job\"]:\n",
        "        frequency[job_name] = df[\"JobTitle\"].str.count(job_name).sum()\n",
        "    return frequency\n",
        "\n",
        "def reducer(dict1, dict2):\n",
        "    merged = {}\n",
        "    merged.update(dict1)\n",
        "    merged.update(dict2)\n",
        "    return merged"
      ],
      "metadata": {
        "id": "ylWuhZTm2snW"
      },
      "execution_count": 142,
      "outputs": []
    },
    {
      "cell_type": "code",
      "source": [
        "job_freq = map_reduce(jobs, 4, mapper, reducer)"
      ],
      "metadata": {
        "id": "1840WKaI3Usi"
      },
      "execution_count": 143,
      "outputs": []
    },
    {
      "cell_type": "code",
      "execution_count": 144,
      "metadata": {
        "id": "oqjsNBgaU780",
        "colab": {
          "base_uri": "https://localhost:8080/"
        },
        "outputId": "2f885c28-7bf2-43ce-fea0-102fdbc269b4"
      },
      "outputs": [
        {
          "output_type": "execute_result",
          "data": {
            "text/plain": [
              "{'manager': 821.0,\n",
              " 'captain': 137.0,\n",
              " 'director': 152.0,\n",
              " 'assistant': 142.0,\n",
              " 'inspector': 417.0,\n",
              " 'administrator': 37.0,\n",
              " 'deputy chief': 13.0,\n",
              " 'department head': 36.0}"
            ]
          },
          "metadata": {},
          "execution_count": 144
        }
      ],
      "source": [
        "job_freq"
      ]
    },
    {
      "cell_type": "markdown",
      "source": [
        "2. változat (`df` DataFrame - salaries - particionálásával)\n",
        "\n",
        "- `mapper_df()` függvény definiálása\n",
        "\n",
        "- `reducer_df()` függvény definiálása (két argumentuma: `dict1`, `dict2` dictionary - az azonos kulcsokhoz tartozó értékeket összegzi)\n",
        "\n",
        "- `map_reduce()` függvény meghívása négy argumentummal: df, 4, mapper_df, reducer_df"
      ],
      "metadata": {
        "id": "CBih0Iy6LfQ2"
      }
    },
    {
      "cell_type": "code",
      "source": [
        "def mapper_df(data_chunk):\n",
        "    frequency = {}\n",
        "    for job_name in jobs[\"Job\"]:\n",
        "        frequency[job_name] = data_chunk[\"JobTitle\"].str.count(job_name).sum()\n",
        "    return frequency\n",
        "\n",
        "def reducer_df(dict1, dict2):\n",
        "    sumdict = {}\n",
        "    for key in dict1:\n",
        "      sumdict[key] = dict1[key] + dict2[key]\n",
        "    return sumdict\n",
        "\n",
        "def reducer_df2(dict1, dict2):\n",
        "    for key in dict2:\n",
        "      if key in dict1:\n",
        "        dict1[key] += dict2[key]\n",
        "      else:\n",
        "        dict1[key] = dict2[key]\n",
        "    return dict1"
      ],
      "metadata": {
        "id": "VsjSd8aTDTUG"
      },
      "execution_count": 145,
      "outputs": []
    },
    {
      "cell_type": "code",
      "source": [
        "job_freq_2 = map_reduce(df, 4, mapper_df, reducer_df)\n",
        "job_freq_2"
      ],
      "metadata": {
        "id": "2uXL8NK9FoGU",
        "colab": {
          "base_uri": "https://localhost:8080/"
        },
        "outputId": "7577bee1-d176-40bd-86ba-b1a3c80ca178"
      },
      "execution_count": 146,
      "outputs": [
        {
          "output_type": "execute_result",
          "data": {
            "text/plain": [
              "{'manager': 821.0,\n",
              " 'captain': 137.0,\n",
              " 'director': 152.0,\n",
              " 'assistant': 142.0,\n",
              " 'inspector': 417.0,\n",
              " 'administrator': 37.0,\n",
              " 'deputy chief': 13.0,\n",
              " 'department head': 36.0}"
            ]
          },
          "metadata": {},
          "execution_count": 146
        }
      ]
    },
    {
      "cell_type": "markdown",
      "source": [
        "**Feladat:** A `map_reduce()` függvény használata a `beer.txt` szavainak megszámlálására."
      ],
      "metadata": {
        "id": "vqTw8rCtNO_J"
      }
    },
    {
      "cell_type": "code",
      "source": [
        "words = []\n",
        "with open(\"beer.txt\",'r') as file:\n",
        "    for line in file:\n",
        "      for word in line.split():\n",
        "        words.append(word)\n",
        "print(words[0:7],'\\n',words[7:11],'\\n',words[11:19],'\\n',words[19:26])"
      ],
      "metadata": {
        "id": "2xgQQGIBNcaU",
        "colab": {
          "base_uri": "https://localhost:8080/"
        },
        "outputId": "084d7038-a858-47fe-c028-1ed6d5c0d2d6"
      },
      "execution_count": 147,
      "outputs": [
        {
          "output_type": "stream",
          "name": "stdout",
          "text": [
            "['100', 'bottles', 'of', 'beer', 'on', 'the', 'wall'] \n",
            " ['100', 'bottles', 'of', 'beer'] \n",
            " ['You', 'take', 'one', 'down', 'and', 'pass', 'it', 'around'] \n",
            " ['99', 'bottles', 'of', 'beer', 'on', 'the', 'wall.']\n"
          ]
        }
      ]
    },
    {
      "cell_type": "code",
      "source": [
        "# mapper_beer és reducer_beer függvények definiálása\n",
        "words= []\n",
        "with open('beer.txt') as file:\n",
        "  for line in file:\n",
        "    for word in line.split():\n",
        "      words.append(word)\n",
        "print_words([0:7], '\\n'  ) ##"
      ],
      "metadata": {
        "id": "BpyBvMgR1MMJ"
      },
      "execution_count": null,
      "outputs": []
    },
    {
      "cell_type": "code",
      "source": [
        "# map_reduce alkalmazása\n",
        "\n",
        "def mapper_beer(words_chunk):\n",
        "  frequency={}\n",
        "  for word in words_chunk:\n",
        "    if not word in frequency:\n",
        "      frequency[word] =0\n",
        "    frequency[word] +=1\n",
        "  return frequency\n",
        "\n",
        "def reducer_beer(dict1,dict2):\n",
        "  for key in dict2:\n",
        "    if key in dict1:\n",
        "      dict1[key] += dict2[key]\n",
        "    else:\n",
        "      dict1[key] = dict2[key]\n",
        "  return dict1\n",
        "\n"
      ],
      "metadata": {
        "id": "XfvHmwln1h58"
      },
      "execution_count": 148,
      "outputs": []
    },
    {
      "cell_type": "code",
      "source": [
        "word_counts =map_reduce(words,4,mapper_beer,reducer_beer)\n",
        "word_counts"
      ],
      "metadata": {
        "colab": {
          "base_uri": "https://localhost:8080/"
        },
        "id": "uXMyl0C4U2R8",
        "outputId": "4e5ffa9e-7ec3-4af9-eb2f-68e6feccd19f"
      },
      "execution_count": 150,
      "outputs": [
        {
          "output_type": "execute_result",
          "data": {
            "text/plain": [
              "{'100': 2,\n",
              " 'bottles': 298,\n",
              " 'of': 300,\n",
              " 'beer': 300,\n",
              " 'on': 200,\n",
              " 'the': 200,\n",
              " 'wall': 100,\n",
              " 'You': 100,\n",
              " 'take': 100,\n",
              " 'one': 100,\n",
              " 'down': 100,\n",
              " 'and': 100,\n",
              " 'pass': 100,\n",
              " 'it': 100,\n",
              " 'around': 100,\n",
              " '99': 3,\n",
              " 'wall.': 100,\n",
              " '98': 3,\n",
              " '97': 3,\n",
              " '96': 3,\n",
              " '95': 3,\n",
              " '94': 3,\n",
              " '93': 3,\n",
              " '92': 3,\n",
              " '91': 3,\n",
              " '90': 3,\n",
              " '89': 3,\n",
              " '88': 3,\n",
              " '87': 3,\n",
              " '86': 3,\n",
              " '85': 3,\n",
              " '84': 3,\n",
              " '83': 3,\n",
              " '82': 3,\n",
              " '81': 3,\n",
              " '80': 3,\n",
              " '79': 3,\n",
              " '78': 3,\n",
              " '77': 3,\n",
              " '76': 3,\n",
              " '75': 3,\n",
              " '74': 3,\n",
              " '73': 3,\n",
              " '72': 3,\n",
              " '71': 3,\n",
              " '70': 3,\n",
              " '69': 3,\n",
              " '68': 3,\n",
              " '67': 3,\n",
              " '66': 3,\n",
              " '65': 3,\n",
              " '64': 3,\n",
              " '63': 3,\n",
              " '62': 3,\n",
              " '61': 3,\n",
              " '60': 3,\n",
              " '59': 3,\n",
              " '58': 3,\n",
              " '57': 3,\n",
              " '56': 3,\n",
              " '55': 3,\n",
              " '54': 3,\n",
              " '53': 3,\n",
              " '52': 3,\n",
              " '51': 3,\n",
              " '50': 3,\n",
              " '49': 3,\n",
              " '48': 3,\n",
              " '47': 3,\n",
              " '46': 3,\n",
              " '45': 3,\n",
              " '44': 3,\n",
              " '43': 3,\n",
              " '42': 3,\n",
              " '41': 3,\n",
              " '40': 3,\n",
              " '39': 3,\n",
              " '38': 3,\n",
              " '37': 3,\n",
              " '36': 3,\n",
              " '35': 3,\n",
              " '34': 3,\n",
              " '33': 3,\n",
              " '32': 3,\n",
              " '31': 3,\n",
              " '30': 3,\n",
              " '29': 3,\n",
              " '28': 3,\n",
              " '27': 3,\n",
              " '26': 3,\n",
              " '25': 3,\n",
              " '24': 3,\n",
              " '23': 3,\n",
              " '22': 3,\n",
              " '21': 3,\n",
              " '20': 3,\n",
              " '19': 3,\n",
              " '18': 3,\n",
              " '17': 3,\n",
              " '16': 3,\n",
              " '15': 3,\n",
              " '14': 3,\n",
              " '13': 3,\n",
              " '12': 3,\n",
              " '11': 3,\n",
              " '10': 3,\n",
              " '9': 3,\n",
              " '8': 3,\n",
              " '7': 3,\n",
              " '6': 3,\n",
              " '5': 3,\n",
              " '4': 3,\n",
              " '3': 3,\n",
              " '2': 3,\n",
              " '1': 3,\n",
              " 'bottle': 2,\n",
              " 'No': 1}"
            ]
          },
          "metadata": {},
          "execution_count": 150
        }
      ]
    },
    {
      "cell_type": "markdown",
      "metadata": {
        "id": "HfNKNtW7-DSu"
      },
      "source": [
        "## 4. Mrjob könyvtár használata\n",
        "\n",
        "Az mrjob a YELP által kifejlesztett MapReduce Python könyvtár. A könyvtár segíti a MapReduce kód írását. Az mrjob-bal írt MapReduce Python kód használható lokálisan Hadoop telepítése nélkül vagy tetszőleges klaszteren vagy a felhőben az Amazon EMR (Elastic MapReduce) segítségével.\n",
        "\n",
        "További információ: https://pypi.org/project/mrjob/\n",
        "\n",
        "https://buildmedia.readthedocs.org/media/pdf/mrjob/latest/mrjob.pdf"
      ]
    },
    {
      "cell_type": "code",
      "execution_count": 151,
      "metadata": {
        "id": "t3RdkkIUU780",
        "colab": {
          "base_uri": "https://localhost:8080/"
        },
        "outputId": "c9d04ee5-f44d-4e31-b00d-a79c0dffa95f"
      },
      "outputs": [
        {
          "output_type": "stream",
          "name": "stdout",
          "text": [
            "Collecting mrjob\n",
            "  Downloading mrjob-0.7.4-py2.py3-none-any.whl (439 kB)\n",
            "\u001b[2K     \u001b[90m━━━━━━━━━━━━━━━━━━━━━━━━━━━━━━━━━━━━━━━━\u001b[0m \u001b[32m439.6/439.6 kB\u001b[0m \u001b[31m7.0 MB/s\u001b[0m eta \u001b[36m0:00:00\u001b[0m\n",
            "\u001b[?25hRequirement already satisfied: PyYAML>=3.10 in /usr/local/lib/python3.10/dist-packages (from mrjob) (6.0.1)\n",
            "Installing collected packages: mrjob\n",
            "Successfully installed mrjob-0.7.4\n"
          ]
        }
      ],
      "source": [
        "!pip install mrjob  # ebbe nagyon egyszerű megírni"
      ]
    },
    {
      "cell_type": "markdown",
      "metadata": {
        "id": "a9GVEH1Y_RzT"
      },
      "source": [
        "Mintapélda: szöveg sorainak, szavainak és karaktereinek megszámlálása"
      ]
    },
    {
      "cell_type": "code",
      "execution_count": 154,
      "metadata": {
        "id": "yk_hY4AB_OYt",
        "colab": {
          "base_uri": "https://localhost:8080/"
        },
        "outputId": "befde690-ace1-46a3-9b82-1b28d8165594"
      },
      "outputs": [
        {
          "output_type": "stream",
          "name": "stdout",
          "text": [
            "Overwriting MRWordCount.py\n"
          ]
        }
      ],
      "source": [
        "%%writefile MRWordCount.py\n",
        "\n",
        "from mrjob.job import MRJob\n",
        "\n",
        "class MRWordCount(MRJob):\n",
        "\n",
        "    def mapper(self, _, line):\n",
        "        yield \"chars\", len(line)\n",
        "        yield \"words\", len(line.split())\n",
        "        yield \"lines\", 1\n",
        "\n",
        "    def reducer(self, key, values):\n",
        "        yield key, sum(values)  # a yield = return\n",
        "\n",
        "if __name__ == '__main__':\n",
        "    MRWordCount.run()"
      ]
    },
    {
      "cell_type": "code",
      "execution_count": 153,
      "metadata": {
        "id": "1Fh17NCAA4QU",
        "colab": {
          "base_uri": "https://localhost:8080/"
        },
        "outputId": "29bf9571-1ea1-4776-eded-064a7738a9f5"
      },
      "outputs": [
        {
          "output_type": "stream",
          "name": "stdout",
          "text": [
            "No configs found; falling back on auto-configuration\n",
            "No configs specified for inline runner\n",
            "Creating temp directory /tmp/MRWordCount.root.20240307.143302.870862\n",
            "Running step 1 of 1...\n",
            "job output is in /tmp/MRWordCount.root.20240307.143302.870862/output\n",
            "Streaming final output from /tmp/MRWordCount.root.20240307.143302.870862/output...\n",
            "Removing temp directory /tmp/MRWordCount.root.20240307.143302.870862...\n"
          ]
        }
      ],
      "source": [
        "!python MRWordCount.py beer.txt > out"
      ]
    },
    {
      "cell_type": "markdown",
      "metadata": {
        "id": "0lKcp7zoCiIR"
      },
      "source": [
        "### MapReduce kód készítése `mrjob` használatával\n",
        "\n",
        "Az elvégzendő feladat az `mrjob`-ból származtatott osztállyal adható meg. Ez lépések sorozatát tartalmazza:\n",
        "- `mapper()`\n",
        "\n",
        "  - argumentumai: kulcs, érték (az előző példában nincs kulcs, egy sor szövegbevitel az érték)\n",
        "  - visszatérési érték: tetszőleges számú kulcs-érték pár\n",
        "- `combiner()`\n",
        "\n",
        "  - argumentumai: kulcs, kulcs értékeinek részhalmaza\n",
        "\n",
        "  - visszatérési érték: tetszőleges számú kulcs-érték pár\n",
        "- `reducer()`\n",
        "\n",
        "  - argumentumai: kulcs, kulcs teljes értékkészlete\n",
        "\n",
        "  - visszatérési érték: tetszőleges számú kulcs-érték pár (az előző példában összegzi az egyes kulcsokhoz tartozó értékeket: karakterek, szavak, sorok száma)\n",
        "\n",
        "Mindezek opcionálisak lehetnek, de legalább egy szükséges."
      ]
    },
    {
      "cell_type": "code",
      "execution_count": 166,
      "metadata": {
        "id": "vwv3fN3Sr_Oj",
        "colab": {
          "base_uri": "https://localhost:8080/"
        },
        "outputId": "622b7713-8295-4dc1-c4a8-c36c93280acb"
      },
      "outputs": [
        {
          "output_type": "stream",
          "name": "stdout",
          "text": [
            "Overwriting MRWordCountCombiner.py\n"
          ]
        }
      ],
      "source": [
        "%%writefile MRWordCountCombiner.py\n",
        "\n",
        "from mrjob.job import MRJob # szószámláló\n",
        "\n",
        "class MRWordCountCombiner(MRJob):\n",
        "\n",
        "    def mapper(self, _, line):\n",
        "        words = line.split()\n",
        "        for word in words:\n",
        "            yield word.lower(), 1\n",
        "\n",
        "    def combiner(self, key, values):\n",
        "        yield key, sum(values)\n",
        "\n",
        "    def reducer(self, key, values):\n",
        "        yield key, sum(values)\n",
        "\n",
        "\n",
        "if __name__ == '__main__':\n",
        "    MRWordCountCombiner.run()\n"
      ]
    },
    {
      "cell_type": "code",
      "execution_count": 167,
      "metadata": {
        "id": "jt2yijoosudo",
        "colab": {
          "base_uri": "https://localhost:8080/"
        },
        "outputId": "72e45b0d-4f0a-4250-9ae5-8e14eb64e7db"
      },
      "outputs": [
        {
          "output_type": "stream",
          "name": "stdout",
          "text": [
            "No configs found; falling back on auto-configuration\n",
            "No configs specified for inline runner\n",
            "Creating temp directory /tmp/MRWordCountCombiner.root.20240307.144239.073106\n",
            "Running step 1 of 1...\n",
            "job output is in /tmp/MRWordCountCombiner.root.20240307.144239.073106/output\n",
            "Streaming final output from /tmp/MRWordCountCombiner.root.20240307.144239.073106/output...\n",
            "Removing temp directory /tmp/MRWordCountCombiner.root.20240307.144239.073106...\n"
          ]
        }
      ],
      "source": [
        "!python MRWordCountCombiner.py beer.txt > out2"
      ]
    },
    {
      "cell_type": "code",
      "source": [
        "orders = pd.read_csv('customer-orders.csv',names=['customerID','itemID','orderAmount'])"
      ],
      "metadata": {
        "id": "BrUqCy85E-Tt"
      },
      "execution_count": 168,
      "outputs": []
    },
    {
      "cell_type": "code",
      "execution_count": 169,
      "metadata": {
        "id": "xw1oh3kMgiEj",
        "colab": {
          "base_uri": "https://localhost:8080/",
          "height": 206
        },
        "outputId": "f7303cbd-fa38-4eed-dd0c-7aec6f13899b"
      },
      "outputs": [
        {
          "output_type": "execute_result",
          "data": {
            "text/plain": [
              "   customerID  itemID  orderAmount\n",
              "0          44    8602        37.19\n",
              "1          35    5368        65.89\n",
              "2           2    3391        40.64\n",
              "3          47    6694        14.98\n",
              "4          29     680        13.08"
            ],
            "text/html": [
              "\n",
              "  <div id=\"df-53aa5e1d-1cdc-42bd-a546-7f8fc6fb664e\" class=\"colab-df-container\">\n",
              "    <div>\n",
              "<style scoped>\n",
              "    .dataframe tbody tr th:only-of-type {\n",
              "        vertical-align: middle;\n",
              "    }\n",
              "\n",
              "    .dataframe tbody tr th {\n",
              "        vertical-align: top;\n",
              "    }\n",
              "\n",
              "    .dataframe thead th {\n",
              "        text-align: right;\n",
              "    }\n",
              "</style>\n",
              "<table border=\"1\" class=\"dataframe\">\n",
              "  <thead>\n",
              "    <tr style=\"text-align: right;\">\n",
              "      <th></th>\n",
              "      <th>customerID</th>\n",
              "      <th>itemID</th>\n",
              "      <th>orderAmount</th>\n",
              "    </tr>\n",
              "  </thead>\n",
              "  <tbody>\n",
              "    <tr>\n",
              "      <th>0</th>\n",
              "      <td>44</td>\n",
              "      <td>8602</td>\n",
              "      <td>37.19</td>\n",
              "    </tr>\n",
              "    <tr>\n",
              "      <th>1</th>\n",
              "      <td>35</td>\n",
              "      <td>5368</td>\n",
              "      <td>65.89</td>\n",
              "    </tr>\n",
              "    <tr>\n",
              "      <th>2</th>\n",
              "      <td>2</td>\n",
              "      <td>3391</td>\n",
              "      <td>40.64</td>\n",
              "    </tr>\n",
              "    <tr>\n",
              "      <th>3</th>\n",
              "      <td>47</td>\n",
              "      <td>6694</td>\n",
              "      <td>14.98</td>\n",
              "    </tr>\n",
              "    <tr>\n",
              "      <th>4</th>\n",
              "      <td>29</td>\n",
              "      <td>680</td>\n",
              "      <td>13.08</td>\n",
              "    </tr>\n",
              "  </tbody>\n",
              "</table>\n",
              "</div>\n",
              "    <div class=\"colab-df-buttons\">\n",
              "\n",
              "  <div class=\"colab-df-container\">\n",
              "    <button class=\"colab-df-convert\" onclick=\"convertToInteractive('df-53aa5e1d-1cdc-42bd-a546-7f8fc6fb664e')\"\n",
              "            title=\"Convert this dataframe to an interactive table.\"\n",
              "            style=\"display:none;\">\n",
              "\n",
              "  <svg xmlns=\"http://www.w3.org/2000/svg\" height=\"24px\" viewBox=\"0 -960 960 960\">\n",
              "    <path d=\"M120-120v-720h720v720H120Zm60-500h600v-160H180v160Zm220 220h160v-160H400v160Zm0 220h160v-160H400v160ZM180-400h160v-160H180v160Zm440 0h160v-160H620v160ZM180-180h160v-160H180v160Zm440 0h160v-160H620v160Z\"/>\n",
              "  </svg>\n",
              "    </button>\n",
              "\n",
              "  <style>\n",
              "    .colab-df-container {\n",
              "      display:flex;\n",
              "      gap: 12px;\n",
              "    }\n",
              "\n",
              "    .colab-df-convert {\n",
              "      background-color: #E8F0FE;\n",
              "      border: none;\n",
              "      border-radius: 50%;\n",
              "      cursor: pointer;\n",
              "      display: none;\n",
              "      fill: #1967D2;\n",
              "      height: 32px;\n",
              "      padding: 0 0 0 0;\n",
              "      width: 32px;\n",
              "    }\n",
              "\n",
              "    .colab-df-convert:hover {\n",
              "      background-color: #E2EBFA;\n",
              "      box-shadow: 0px 1px 2px rgba(60, 64, 67, 0.3), 0px 1px 3px 1px rgba(60, 64, 67, 0.15);\n",
              "      fill: #174EA6;\n",
              "    }\n",
              "\n",
              "    .colab-df-buttons div {\n",
              "      margin-bottom: 4px;\n",
              "    }\n",
              "\n",
              "    [theme=dark] .colab-df-convert {\n",
              "      background-color: #3B4455;\n",
              "      fill: #D2E3FC;\n",
              "    }\n",
              "\n",
              "    [theme=dark] .colab-df-convert:hover {\n",
              "      background-color: #434B5C;\n",
              "      box-shadow: 0px 1px 3px 1px rgba(0, 0, 0, 0.15);\n",
              "      filter: drop-shadow(0px 1px 2px rgba(0, 0, 0, 0.3));\n",
              "      fill: #FFFFFF;\n",
              "    }\n",
              "  </style>\n",
              "\n",
              "    <script>\n",
              "      const buttonEl =\n",
              "        document.querySelector('#df-53aa5e1d-1cdc-42bd-a546-7f8fc6fb664e button.colab-df-convert');\n",
              "      buttonEl.style.display =\n",
              "        google.colab.kernel.accessAllowed ? 'block' : 'none';\n",
              "\n",
              "      async function convertToInteractive(key) {\n",
              "        const element = document.querySelector('#df-53aa5e1d-1cdc-42bd-a546-7f8fc6fb664e');\n",
              "        const dataTable =\n",
              "          await google.colab.kernel.invokeFunction('convertToInteractive',\n",
              "                                                    [key], {});\n",
              "        if (!dataTable) return;\n",
              "\n",
              "        const docLinkHtml = 'Like what you see? Visit the ' +\n",
              "          '<a target=\"_blank\" href=https://colab.research.google.com/notebooks/data_table.ipynb>data table notebook</a>'\n",
              "          + ' to learn more about interactive tables.';\n",
              "        element.innerHTML = '';\n",
              "        dataTable['output_type'] = 'display_data';\n",
              "        await google.colab.output.renderOutput(dataTable, element);\n",
              "        const docLink = document.createElement('div');\n",
              "        docLink.innerHTML = docLinkHtml;\n",
              "        element.appendChild(docLink);\n",
              "      }\n",
              "    </script>\n",
              "  </div>\n",
              "\n",
              "\n",
              "<div id=\"df-fcb30087-d7ea-4889-a162-6ca049cab5a0\">\n",
              "  <button class=\"colab-df-quickchart\" onclick=\"quickchart('df-fcb30087-d7ea-4889-a162-6ca049cab5a0')\"\n",
              "            title=\"Suggest charts\"\n",
              "            style=\"display:none;\">\n",
              "\n",
              "<svg xmlns=\"http://www.w3.org/2000/svg\" height=\"24px\"viewBox=\"0 0 24 24\"\n",
              "     width=\"24px\">\n",
              "    <g>\n",
              "        <path d=\"M19 3H5c-1.1 0-2 .9-2 2v14c0 1.1.9 2 2 2h14c1.1 0 2-.9 2-2V5c0-1.1-.9-2-2-2zM9 17H7v-7h2v7zm4 0h-2V7h2v10zm4 0h-2v-4h2v4z\"/>\n",
              "    </g>\n",
              "</svg>\n",
              "  </button>\n",
              "\n",
              "<style>\n",
              "  .colab-df-quickchart {\n",
              "      --bg-color: #E8F0FE;\n",
              "      --fill-color: #1967D2;\n",
              "      --hover-bg-color: #E2EBFA;\n",
              "      --hover-fill-color: #174EA6;\n",
              "      --disabled-fill-color: #AAA;\n",
              "      --disabled-bg-color: #DDD;\n",
              "  }\n",
              "\n",
              "  [theme=dark] .colab-df-quickchart {\n",
              "      --bg-color: #3B4455;\n",
              "      --fill-color: #D2E3FC;\n",
              "      --hover-bg-color: #434B5C;\n",
              "      --hover-fill-color: #FFFFFF;\n",
              "      --disabled-bg-color: #3B4455;\n",
              "      --disabled-fill-color: #666;\n",
              "  }\n",
              "\n",
              "  .colab-df-quickchart {\n",
              "    background-color: var(--bg-color);\n",
              "    border: none;\n",
              "    border-radius: 50%;\n",
              "    cursor: pointer;\n",
              "    display: none;\n",
              "    fill: var(--fill-color);\n",
              "    height: 32px;\n",
              "    padding: 0;\n",
              "    width: 32px;\n",
              "  }\n",
              "\n",
              "  .colab-df-quickchart:hover {\n",
              "    background-color: var(--hover-bg-color);\n",
              "    box-shadow: 0 1px 2px rgba(60, 64, 67, 0.3), 0 1px 3px 1px rgba(60, 64, 67, 0.15);\n",
              "    fill: var(--button-hover-fill-color);\n",
              "  }\n",
              "\n",
              "  .colab-df-quickchart-complete:disabled,\n",
              "  .colab-df-quickchart-complete:disabled:hover {\n",
              "    background-color: var(--disabled-bg-color);\n",
              "    fill: var(--disabled-fill-color);\n",
              "    box-shadow: none;\n",
              "  }\n",
              "\n",
              "  .colab-df-spinner {\n",
              "    border: 2px solid var(--fill-color);\n",
              "    border-color: transparent;\n",
              "    border-bottom-color: var(--fill-color);\n",
              "    animation:\n",
              "      spin 1s steps(1) infinite;\n",
              "  }\n",
              "\n",
              "  @keyframes spin {\n",
              "    0% {\n",
              "      border-color: transparent;\n",
              "      border-bottom-color: var(--fill-color);\n",
              "      border-left-color: var(--fill-color);\n",
              "    }\n",
              "    20% {\n",
              "      border-color: transparent;\n",
              "      border-left-color: var(--fill-color);\n",
              "      border-top-color: var(--fill-color);\n",
              "    }\n",
              "    30% {\n",
              "      border-color: transparent;\n",
              "      border-left-color: var(--fill-color);\n",
              "      border-top-color: var(--fill-color);\n",
              "      border-right-color: var(--fill-color);\n",
              "    }\n",
              "    40% {\n",
              "      border-color: transparent;\n",
              "      border-right-color: var(--fill-color);\n",
              "      border-top-color: var(--fill-color);\n",
              "    }\n",
              "    60% {\n",
              "      border-color: transparent;\n",
              "      border-right-color: var(--fill-color);\n",
              "    }\n",
              "    80% {\n",
              "      border-color: transparent;\n",
              "      border-right-color: var(--fill-color);\n",
              "      border-bottom-color: var(--fill-color);\n",
              "    }\n",
              "    90% {\n",
              "      border-color: transparent;\n",
              "      border-bottom-color: var(--fill-color);\n",
              "    }\n",
              "  }\n",
              "</style>\n",
              "\n",
              "  <script>\n",
              "    async function quickchart(key) {\n",
              "      const quickchartButtonEl =\n",
              "        document.querySelector('#' + key + ' button');\n",
              "      quickchartButtonEl.disabled = true;  // To prevent multiple clicks.\n",
              "      quickchartButtonEl.classList.add('colab-df-spinner');\n",
              "      try {\n",
              "        const charts = await google.colab.kernel.invokeFunction(\n",
              "            'suggestCharts', [key], {});\n",
              "      } catch (error) {\n",
              "        console.error('Error during call to suggestCharts:', error);\n",
              "      }\n",
              "      quickchartButtonEl.classList.remove('colab-df-spinner');\n",
              "      quickchartButtonEl.classList.add('colab-df-quickchart-complete');\n",
              "    }\n",
              "    (() => {\n",
              "      let quickchartButtonEl =\n",
              "        document.querySelector('#df-fcb30087-d7ea-4889-a162-6ca049cab5a0 button');\n",
              "      quickchartButtonEl.style.display =\n",
              "        google.colab.kernel.accessAllowed ? 'block' : 'none';\n",
              "    })();\n",
              "  </script>\n",
              "</div>\n",
              "    </div>\n",
              "  </div>\n"
            ],
            "application/vnd.google.colaboratory.intrinsic+json": {
              "type": "dataframe",
              "variable_name": "orders",
              "summary": "{\n  \"name\": \"orders\",\n  \"rows\": 10000,\n  \"fields\": [\n    {\n      \"column\": \"customerID\",\n      \"properties\": {\n        \"dtype\": \"number\",\n        \"std\": 28,\n        \"min\": 0,\n        \"max\": 99,\n        \"num_unique_values\": 100,\n        \"samples\": [\n          43,\n          99,\n          90\n        ],\n        \"semantic_type\": \"\",\n        \"description\": \"\"\n      }\n    },\n    {\n      \"column\": \"itemID\",\n      \"properties\": {\n        \"dtype\": \"number\",\n        \"std\": 2899,\n        \"min\": 0,\n        \"max\": 9998,\n        \"num_unique_values\": 6369,\n        \"samples\": [\n          4237,\n          1512,\n          4927\n        ],\n        \"semantic_type\": \"\",\n        \"description\": \"\"\n      }\n    },\n    {\n      \"column\": \"orderAmount\",\n      \"properties\": {\n        \"dtype\": \"number\",\n        \"std\": 28.745125198397435,\n        \"min\": 0.0,\n        \"max\": 99.99,\n        \"num_unique_values\": 6348,\n        \"samples\": [\n          35.38,\n          33.8,\n          92.17\n        ],\n        \"semantic_type\": \"\",\n        \"description\": \"\"\n      }\n    }\n  ]\n}"
            }
          },
          "metadata": {},
          "execution_count": 169
        }
      ],
      "source": [
        "orders.head()"
      ]
    },
    {
      "cell_type": "code",
      "source": [
        "orders.shape"
      ],
      "metadata": {
        "id": "pZVb0w8aFSFd",
        "colab": {
          "base_uri": "https://localhost:8080/"
        },
        "outputId": "b79bd325-719c-4ace-de5c-612b1865d81b"
      },
      "execution_count": 170,
      "outputs": [
        {
          "output_type": "execute_result",
          "data": {
            "text/plain": [
              "(10000, 3)"
            ]
          },
          "metadata": {},
          "execution_count": 170
        }
      ]
    },
    {
      "cell_type": "code",
      "source": [
        "orders.sort_values(by='customerID')"
      ],
      "metadata": {
        "id": "ooXjwVALFkOM",
        "colab": {
          "base_uri": "https://localhost:8080/",
          "height": 424
        },
        "outputId": "e692df1b-d4c3-408c-c00e-4673f03eb542"
      },
      "execution_count": 171,
      "outputs": [
        {
          "output_type": "execute_result",
          "data": {
            "text/plain": [
              "      customerID  itemID  orderAmount\n",
              "4966           0    4690        89.63\n",
              "3118           0    2676        76.28\n",
              "5365           0    3666        31.54\n",
              "8098           0    8640         1.10\n",
              "8575           0    1198        46.43\n",
              "...          ...     ...          ...\n",
              "4200          99    9562         9.72\n",
              "9024          99    7095        22.56\n",
              "567           99    4692        62.79\n",
              "5852          99    8511        38.92\n",
              "6510          99    1757         3.97\n",
              "\n",
              "[10000 rows x 3 columns]"
            ],
            "text/html": [
              "\n",
              "  <div id=\"df-1936aa5b-25a7-4c1f-898a-858d22cd8cd5\" class=\"colab-df-container\">\n",
              "    <div>\n",
              "<style scoped>\n",
              "    .dataframe tbody tr th:only-of-type {\n",
              "        vertical-align: middle;\n",
              "    }\n",
              "\n",
              "    .dataframe tbody tr th {\n",
              "        vertical-align: top;\n",
              "    }\n",
              "\n",
              "    .dataframe thead th {\n",
              "        text-align: right;\n",
              "    }\n",
              "</style>\n",
              "<table border=\"1\" class=\"dataframe\">\n",
              "  <thead>\n",
              "    <tr style=\"text-align: right;\">\n",
              "      <th></th>\n",
              "      <th>customerID</th>\n",
              "      <th>itemID</th>\n",
              "      <th>orderAmount</th>\n",
              "    </tr>\n",
              "  </thead>\n",
              "  <tbody>\n",
              "    <tr>\n",
              "      <th>4966</th>\n",
              "      <td>0</td>\n",
              "      <td>4690</td>\n",
              "      <td>89.63</td>\n",
              "    </tr>\n",
              "    <tr>\n",
              "      <th>3118</th>\n",
              "      <td>0</td>\n",
              "      <td>2676</td>\n",
              "      <td>76.28</td>\n",
              "    </tr>\n",
              "    <tr>\n",
              "      <th>5365</th>\n",
              "      <td>0</td>\n",
              "      <td>3666</td>\n",
              "      <td>31.54</td>\n",
              "    </tr>\n",
              "    <tr>\n",
              "      <th>8098</th>\n",
              "      <td>0</td>\n",
              "      <td>8640</td>\n",
              "      <td>1.10</td>\n",
              "    </tr>\n",
              "    <tr>\n",
              "      <th>8575</th>\n",
              "      <td>0</td>\n",
              "      <td>1198</td>\n",
              "      <td>46.43</td>\n",
              "    </tr>\n",
              "    <tr>\n",
              "      <th>...</th>\n",
              "      <td>...</td>\n",
              "      <td>...</td>\n",
              "      <td>...</td>\n",
              "    </tr>\n",
              "    <tr>\n",
              "      <th>4200</th>\n",
              "      <td>99</td>\n",
              "      <td>9562</td>\n",
              "      <td>9.72</td>\n",
              "    </tr>\n",
              "    <tr>\n",
              "      <th>9024</th>\n",
              "      <td>99</td>\n",
              "      <td>7095</td>\n",
              "      <td>22.56</td>\n",
              "    </tr>\n",
              "    <tr>\n",
              "      <th>567</th>\n",
              "      <td>99</td>\n",
              "      <td>4692</td>\n",
              "      <td>62.79</td>\n",
              "    </tr>\n",
              "    <tr>\n",
              "      <th>5852</th>\n",
              "      <td>99</td>\n",
              "      <td>8511</td>\n",
              "      <td>38.92</td>\n",
              "    </tr>\n",
              "    <tr>\n",
              "      <th>6510</th>\n",
              "      <td>99</td>\n",
              "      <td>1757</td>\n",
              "      <td>3.97</td>\n",
              "    </tr>\n",
              "  </tbody>\n",
              "</table>\n",
              "<p>10000 rows × 3 columns</p>\n",
              "</div>\n",
              "    <div class=\"colab-df-buttons\">\n",
              "\n",
              "  <div class=\"colab-df-container\">\n",
              "    <button class=\"colab-df-convert\" onclick=\"convertToInteractive('df-1936aa5b-25a7-4c1f-898a-858d22cd8cd5')\"\n",
              "            title=\"Convert this dataframe to an interactive table.\"\n",
              "            style=\"display:none;\">\n",
              "\n",
              "  <svg xmlns=\"http://www.w3.org/2000/svg\" height=\"24px\" viewBox=\"0 -960 960 960\">\n",
              "    <path d=\"M120-120v-720h720v720H120Zm60-500h600v-160H180v160Zm220 220h160v-160H400v160Zm0 220h160v-160H400v160ZM180-400h160v-160H180v160Zm440 0h160v-160H620v160ZM180-180h160v-160H180v160Zm440 0h160v-160H620v160Z\"/>\n",
              "  </svg>\n",
              "    </button>\n",
              "\n",
              "  <style>\n",
              "    .colab-df-container {\n",
              "      display:flex;\n",
              "      gap: 12px;\n",
              "    }\n",
              "\n",
              "    .colab-df-convert {\n",
              "      background-color: #E8F0FE;\n",
              "      border: none;\n",
              "      border-radius: 50%;\n",
              "      cursor: pointer;\n",
              "      display: none;\n",
              "      fill: #1967D2;\n",
              "      height: 32px;\n",
              "      padding: 0 0 0 0;\n",
              "      width: 32px;\n",
              "    }\n",
              "\n",
              "    .colab-df-convert:hover {\n",
              "      background-color: #E2EBFA;\n",
              "      box-shadow: 0px 1px 2px rgba(60, 64, 67, 0.3), 0px 1px 3px 1px rgba(60, 64, 67, 0.15);\n",
              "      fill: #174EA6;\n",
              "    }\n",
              "\n",
              "    .colab-df-buttons div {\n",
              "      margin-bottom: 4px;\n",
              "    }\n",
              "\n",
              "    [theme=dark] .colab-df-convert {\n",
              "      background-color: #3B4455;\n",
              "      fill: #D2E3FC;\n",
              "    }\n",
              "\n",
              "    [theme=dark] .colab-df-convert:hover {\n",
              "      background-color: #434B5C;\n",
              "      box-shadow: 0px 1px 3px 1px rgba(0, 0, 0, 0.15);\n",
              "      filter: drop-shadow(0px 1px 2px rgba(0, 0, 0, 0.3));\n",
              "      fill: #FFFFFF;\n",
              "    }\n",
              "  </style>\n",
              "\n",
              "    <script>\n",
              "      const buttonEl =\n",
              "        document.querySelector('#df-1936aa5b-25a7-4c1f-898a-858d22cd8cd5 button.colab-df-convert');\n",
              "      buttonEl.style.display =\n",
              "        google.colab.kernel.accessAllowed ? 'block' : 'none';\n",
              "\n",
              "      async function convertToInteractive(key) {\n",
              "        const element = document.querySelector('#df-1936aa5b-25a7-4c1f-898a-858d22cd8cd5');\n",
              "        const dataTable =\n",
              "          await google.colab.kernel.invokeFunction('convertToInteractive',\n",
              "                                                    [key], {});\n",
              "        if (!dataTable) return;\n",
              "\n",
              "        const docLinkHtml = 'Like what you see? Visit the ' +\n",
              "          '<a target=\"_blank\" href=https://colab.research.google.com/notebooks/data_table.ipynb>data table notebook</a>'\n",
              "          + ' to learn more about interactive tables.';\n",
              "        element.innerHTML = '';\n",
              "        dataTable['output_type'] = 'display_data';\n",
              "        await google.colab.output.renderOutput(dataTable, element);\n",
              "        const docLink = document.createElement('div');\n",
              "        docLink.innerHTML = docLinkHtml;\n",
              "        element.appendChild(docLink);\n",
              "      }\n",
              "    </script>\n",
              "  </div>\n",
              "\n",
              "\n",
              "<div id=\"df-622f6a27-2bd3-4dce-8006-e67fb538c20f\">\n",
              "  <button class=\"colab-df-quickchart\" onclick=\"quickchart('df-622f6a27-2bd3-4dce-8006-e67fb538c20f')\"\n",
              "            title=\"Suggest charts\"\n",
              "            style=\"display:none;\">\n",
              "\n",
              "<svg xmlns=\"http://www.w3.org/2000/svg\" height=\"24px\"viewBox=\"0 0 24 24\"\n",
              "     width=\"24px\">\n",
              "    <g>\n",
              "        <path d=\"M19 3H5c-1.1 0-2 .9-2 2v14c0 1.1.9 2 2 2h14c1.1 0 2-.9 2-2V5c0-1.1-.9-2-2-2zM9 17H7v-7h2v7zm4 0h-2V7h2v10zm4 0h-2v-4h2v4z\"/>\n",
              "    </g>\n",
              "</svg>\n",
              "  </button>\n",
              "\n",
              "<style>\n",
              "  .colab-df-quickchart {\n",
              "      --bg-color: #E8F0FE;\n",
              "      --fill-color: #1967D2;\n",
              "      --hover-bg-color: #E2EBFA;\n",
              "      --hover-fill-color: #174EA6;\n",
              "      --disabled-fill-color: #AAA;\n",
              "      --disabled-bg-color: #DDD;\n",
              "  }\n",
              "\n",
              "  [theme=dark] .colab-df-quickchart {\n",
              "      --bg-color: #3B4455;\n",
              "      --fill-color: #D2E3FC;\n",
              "      --hover-bg-color: #434B5C;\n",
              "      --hover-fill-color: #FFFFFF;\n",
              "      --disabled-bg-color: #3B4455;\n",
              "      --disabled-fill-color: #666;\n",
              "  }\n",
              "\n",
              "  .colab-df-quickchart {\n",
              "    background-color: var(--bg-color);\n",
              "    border: none;\n",
              "    border-radius: 50%;\n",
              "    cursor: pointer;\n",
              "    display: none;\n",
              "    fill: var(--fill-color);\n",
              "    height: 32px;\n",
              "    padding: 0;\n",
              "    width: 32px;\n",
              "  }\n",
              "\n",
              "  .colab-df-quickchart:hover {\n",
              "    background-color: var(--hover-bg-color);\n",
              "    box-shadow: 0 1px 2px rgba(60, 64, 67, 0.3), 0 1px 3px 1px rgba(60, 64, 67, 0.15);\n",
              "    fill: var(--button-hover-fill-color);\n",
              "  }\n",
              "\n",
              "  .colab-df-quickchart-complete:disabled,\n",
              "  .colab-df-quickchart-complete:disabled:hover {\n",
              "    background-color: var(--disabled-bg-color);\n",
              "    fill: var(--disabled-fill-color);\n",
              "    box-shadow: none;\n",
              "  }\n",
              "\n",
              "  .colab-df-spinner {\n",
              "    border: 2px solid var(--fill-color);\n",
              "    border-color: transparent;\n",
              "    border-bottom-color: var(--fill-color);\n",
              "    animation:\n",
              "      spin 1s steps(1) infinite;\n",
              "  }\n",
              "\n",
              "  @keyframes spin {\n",
              "    0% {\n",
              "      border-color: transparent;\n",
              "      border-bottom-color: var(--fill-color);\n",
              "      border-left-color: var(--fill-color);\n",
              "    }\n",
              "    20% {\n",
              "      border-color: transparent;\n",
              "      border-left-color: var(--fill-color);\n",
              "      border-top-color: var(--fill-color);\n",
              "    }\n",
              "    30% {\n",
              "      border-color: transparent;\n",
              "      border-left-color: var(--fill-color);\n",
              "      border-top-color: var(--fill-color);\n",
              "      border-right-color: var(--fill-color);\n",
              "    }\n",
              "    40% {\n",
              "      border-color: transparent;\n",
              "      border-right-color: var(--fill-color);\n",
              "      border-top-color: var(--fill-color);\n",
              "    }\n",
              "    60% {\n",
              "      border-color: transparent;\n",
              "      border-right-color: var(--fill-color);\n",
              "    }\n",
              "    80% {\n",
              "      border-color: transparent;\n",
              "      border-right-color: var(--fill-color);\n",
              "      border-bottom-color: var(--fill-color);\n",
              "    }\n",
              "    90% {\n",
              "      border-color: transparent;\n",
              "      border-bottom-color: var(--fill-color);\n",
              "    }\n",
              "  }\n",
              "</style>\n",
              "\n",
              "  <script>\n",
              "    async function quickchart(key) {\n",
              "      const quickchartButtonEl =\n",
              "        document.querySelector('#' + key + ' button');\n",
              "      quickchartButtonEl.disabled = true;  // To prevent multiple clicks.\n",
              "      quickchartButtonEl.classList.add('colab-df-spinner');\n",
              "      try {\n",
              "        const charts = await google.colab.kernel.invokeFunction(\n",
              "            'suggestCharts', [key], {});\n",
              "      } catch (error) {\n",
              "        console.error('Error during call to suggestCharts:', error);\n",
              "      }\n",
              "      quickchartButtonEl.classList.remove('colab-df-spinner');\n",
              "      quickchartButtonEl.classList.add('colab-df-quickchart-complete');\n",
              "    }\n",
              "    (() => {\n",
              "      let quickchartButtonEl =\n",
              "        document.querySelector('#df-622f6a27-2bd3-4dce-8006-e67fb538c20f button');\n",
              "      quickchartButtonEl.style.display =\n",
              "        google.colab.kernel.accessAllowed ? 'block' : 'none';\n",
              "    })();\n",
              "  </script>\n",
              "</div>\n",
              "    </div>\n",
              "  </div>\n"
            ],
            "application/vnd.google.colaboratory.intrinsic+json": {
              "type": "dataframe",
              "summary": "{\n  \"name\": \"orders\",\n  \"rows\": 10000,\n  \"fields\": [\n    {\n      \"column\": \"customerID\",\n      \"properties\": {\n        \"dtype\": \"number\",\n        \"std\": 28,\n        \"min\": 0,\n        \"max\": 99,\n        \"num_unique_values\": 100,\n        \"samples\": [\n          83,\n          53,\n          70\n        ],\n        \"semantic_type\": \"\",\n        \"description\": \"\"\n      }\n    },\n    {\n      \"column\": \"itemID\",\n      \"properties\": {\n        \"dtype\": \"number\",\n        \"std\": 2899,\n        \"min\": 0,\n        \"max\": 9998,\n        \"num_unique_values\": 6369,\n        \"samples\": [\n          3105,\n          469,\n          205\n        ],\n        \"semantic_type\": \"\",\n        \"description\": \"\"\n      }\n    },\n    {\n      \"column\": \"orderAmount\",\n      \"properties\": {\n        \"dtype\": \"number\",\n        \"std\": 28.74512519839744,\n        \"min\": 0.0,\n        \"max\": 99.99,\n        \"num_unique_values\": 6348,\n        \"samples\": [\n          79.36,\n          44.26,\n          29.7\n        ],\n        \"semantic_type\": \"\",\n        \"description\": \"\"\n      }\n    }\n  ]\n}"
            }
          },
          "metadata": {},
          "execution_count": 171
        }
      ]
    },
    {
      "cell_type": "code",
      "execution_count": 173,
      "metadata": {
        "id": "yvt9XoAElLw7",
        "colab": {
          "base_uri": "https://localhost:8080/"
        },
        "outputId": "6a5149a3-c6f4-4bde-d315-1cbe89dd0fe5"
      },
      "outputs": [
        {
          "output_type": "stream",
          "name": "stdout",
          "text": [
            "Overwriting SpendByCustomer.py\n"
          ]
        }
      ],
      "source": [
        "%%writefile SpendByCustomer.py\n",
        "\n",
        "from mrjob.job import MRJob\n",
        "\n",
        "class SpendByCustomer(MRJob):\n",
        "\n",
        "    def mapper(self, _, line):\n",
        "        (customerID, itemID, orderAmount) = line.split(',')\n",
        "        yield customerID, float(orderAmount)\n",
        "\n",
        "    def reducer(self, customerID, orders):\n",
        "        yield customerID, sum(orders)\n",
        "\n",
        "\n",
        "if __name__ == '__main__':\n",
        "    SpendByCustomer.run()"
      ]
    },
    {
      "cell_type": "code",
      "execution_count": 172,
      "metadata": {
        "id": "swM2XYSbvlPp",
        "colab": {
          "base_uri": "https://localhost:8080/"
        },
        "outputId": "b3d2130f-7ae6-4b3a-8f5f-44df5df791ee"
      },
      "outputs": [
        {
          "output_type": "stream",
          "name": "stdout",
          "text": [
            "No configs found; falling back on auto-configuration\n",
            "No configs specified for inline runner\n",
            "Creating temp directory /tmp/SpendByCustomer.root.20240307.144547.625385\n",
            "Running step 1 of 1...\n",
            "job output is in /tmp/SpendByCustomer.root.20240307.144547.625385/output\n",
            "Streaming final output from /tmp/SpendByCustomer.root.20240307.144547.625385/output...\n",
            "Removing temp directory /tmp/SpendByCustomer.root.20240307.144547.625385...\n"
          ]
        }
      ],
      "source": [
        "!python SpendByCustomer.py 'customer-orders.csv' > outSum"
      ]
    },
    {
      "cell_type": "markdown",
      "source": [
        "**Feladat: maximális/minimális/átlagos rendelési értékek meghatározása vevőnként**\n",
        "\n",
        "Megjegyzés: átlag számolása: `mean()`, statistics modul"
      ],
      "metadata": {
        "id": "Acw0W_Dd8BGW"
      }
    },
    {
      "cell_type": "code",
      "source": [],
      "metadata": {
        "id": "8dnbFBc312d2"
      },
      "execution_count": null,
      "outputs": []
    }
  ],
  "metadata": {
    "colab": {
      "provenance": [],
      "include_colab_link": true
    },
    "kernelspec": {
      "display_name": "Python 3 (ipykernel)",
      "language": "python",
      "name": "python3"
    },
    "language_info": {
      "codemirror_mode": {
        "name": "ipython",
        "version": 3
      },
      "file_extension": ".py",
      "mimetype": "text/x-python",
      "name": "python",
      "nbconvert_exporter": "python",
      "pygments_lexer": "ipython3",
      "version": "3.9.7"
    }
  },
  "nbformat": 4,
  "nbformat_minor": 0
}